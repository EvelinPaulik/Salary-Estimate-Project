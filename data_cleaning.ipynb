{
 "cells": [
  {
   "cell_type": "markdown",
   "metadata": {},
   "source": [
    "# Data Cleaning"
   ]
  },
  {
   "cell_type": "markdown",
   "metadata": {},
   "source": [
    "Data Cleaning Needed:\n",
    "- Salary Parsing\n",
    "- Company name text only\n",
    "- State field\n",
    "- Age of company\n",
    "- Job description parsing"
   ]
  },
  {
   "cell_type": "code",
   "execution_count": 236,
   "metadata": {},
   "outputs": [],
   "source": [
    "import pandas as pd\n",
    "import matplotlib.pyplot as plt\n",
    "import seaborn as sns\n",
    "%matplotlib inline\n",
    "\n",
    "df = pd.read_csv('salary_data_unclean.csv')"
   ]
  },
  {
   "cell_type": "code",
   "execution_count": 237,
   "metadata": {},
   "outputs": [
    {
     "data": {
      "text/html": [
       "<div>\n",
       "<style scoped>\n",
       "    .dataframe tbody tr th:only-of-type {\n",
       "        vertical-align: middle;\n",
       "    }\n",
       "\n",
       "    .dataframe tbody tr th {\n",
       "        vertical-align: top;\n",
       "    }\n",
       "\n",
       "    .dataframe thead th {\n",
       "        text-align: right;\n",
       "    }\n",
       "</style>\n",
       "<table border=\"1\" class=\"dataframe\">\n",
       "  <thead>\n",
       "    <tr style=\"text-align: right;\">\n",
       "      <th></th>\n",
       "      <th>Job Title</th>\n",
       "      <th>Salary Estimate</th>\n",
       "      <th>Job Description</th>\n",
       "      <th>Rating</th>\n",
       "      <th>Company Name</th>\n",
       "      <th>Location</th>\n",
       "      <th>Headquarters</th>\n",
       "      <th>Size</th>\n",
       "      <th>Founded</th>\n",
       "      <th>Type of ownership</th>\n",
       "      <th>Industry</th>\n",
       "      <th>Sector</th>\n",
       "      <th>Revenue</th>\n",
       "      <th>Competitors</th>\n",
       "    </tr>\n",
       "  </thead>\n",
       "  <tbody>\n",
       "    <tr>\n",
       "      <td>0</td>\n",
       "      <td>Senior Data Scientist // Scientifique des donn...</td>\n",
       "      <td>CA$58k-CA$90k (Glassdoor Est.)</td>\n",
       "      <td>Reporting to the Analytics Manager, the Senior...</td>\n",
       "      <td>4.1</td>\n",
       "      <td>SSENSE\\n4.1</td>\n",
       "      <td>Montreal</td>\n",
       "      <td>-1</td>\n",
       "      <td>501 to 1000 Employees</td>\n",
       "      <td>2003</td>\n",
       "      <td>Company - Private</td>\n",
       "      <td>Department, Clothing, &amp; Shoe Stores</td>\n",
       "      <td>Retail</td>\n",
       "      <td>Unknown / Non-Applicable</td>\n",
       "      <td>-1</td>\n",
       "    </tr>\n",
       "    <tr>\n",
       "      <td>1</td>\n",
       "      <td>Data Scientist, Game</td>\n",
       "      <td>CA$58k-CA$90k (Glassdoor Est.)</td>\n",
       "      <td>Prodigy Education connects students, parents, ...</td>\n",
       "      <td>4.4</td>\n",
       "      <td>Prodigy Education\\n4.4</td>\n",
       "      <td>Toronto</td>\n",
       "      <td>-1</td>\n",
       "      <td>201 to 500 Employees</td>\n",
       "      <td>2011</td>\n",
       "      <td>Company - Private</td>\n",
       "      <td>Computer Hardware &amp; Software</td>\n",
       "      <td>Information Technology</td>\n",
       "      <td>Unknown / Non-Applicable</td>\n",
       "      <td>-1</td>\n",
       "    </tr>\n",
       "    <tr>\n",
       "      <td>2</td>\n",
       "      <td>Product Manager, Data Science</td>\n",
       "      <td>CA$58k-CA$90k (Glassdoor Est.)</td>\n",
       "      <td>Numerator is a data and technology company rei...</td>\n",
       "      <td>4.1</td>\n",
       "      <td>Numerator\\n4.1</td>\n",
       "      <td>Ottawa</td>\n",
       "      <td>-1</td>\n",
       "      <td>1001 to 5000 Employees</td>\n",
       "      <td>2004</td>\n",
       "      <td>Company - Private</td>\n",
       "      <td>IT Services</td>\n",
       "      <td>Information Technology</td>\n",
       "      <td>$100 to $500 million (USD)</td>\n",
       "      <td>-1</td>\n",
       "    </tr>\n",
       "    <tr>\n",
       "      <td>3</td>\n",
       "      <td>Data Mining Specialist</td>\n",
       "      <td>CA$58k-CA$90k (Glassdoor Est.)</td>\n",
       "      <td>What we do\\nInterested in solving problems, en...</td>\n",
       "      <td>5.0</td>\n",
       "      <td>Global Spatial Technology Solutions\\n5.0</td>\n",
       "      <td>Dartmouth</td>\n",
       "      <td>-1</td>\n",
       "      <td>1 to 50 Employees</td>\n",
       "      <td>-1</td>\n",
       "      <td>Unknown</td>\n",
       "      <td>-1</td>\n",
       "      <td>-1</td>\n",
       "      <td>Less than $1 million (USD)</td>\n",
       "      <td>-1</td>\n",
       "    </tr>\n",
       "    <tr>\n",
       "      <td>4</td>\n",
       "      <td>Data Analyst, NAV Recon</td>\n",
       "      <td>CA$58k-CA$90k (Glassdoor Est.)</td>\n",
       "      <td>Data Analyst, NAV Recon\\nConnor, Clark &amp; Lunn ...</td>\n",
       "      <td>4.3</td>\n",
       "      <td>Connor, Clark &amp; Lunn Financial Group\\n4.3</td>\n",
       "      <td>Vancouver</td>\n",
       "      <td>-1</td>\n",
       "      <td>201 to 500 Employees</td>\n",
       "      <td>1982</td>\n",
       "      <td>Company - Private</td>\n",
       "      <td>Investment Banking &amp; Asset Management</td>\n",
       "      <td>Finance</td>\n",
       "      <td>$25 to $50 million (USD)</td>\n",
       "      <td>-1</td>\n",
       "    </tr>\n",
       "    <tr>\n",
       "      <td>...</td>\n",
       "      <td>...</td>\n",
       "      <td>...</td>\n",
       "      <td>...</td>\n",
       "      <td>...</td>\n",
       "      <td>...</td>\n",
       "      <td>...</td>\n",
       "      <td>...</td>\n",
       "      <td>...</td>\n",
       "      <td>...</td>\n",
       "      <td>...</td>\n",
       "      <td>...</td>\n",
       "      <td>...</td>\n",
       "      <td>...</td>\n",
       "      <td>...</td>\n",
       "    </tr>\n",
       "    <tr>\n",
       "      <td>995</td>\n",
       "      <td>Principal Data Engineer</td>\n",
       "      <td>-1</td>\n",
       "      <td>Job Title:\\nPrincipal Data Engineer\\nRequisiti...</td>\n",
       "      <td>3.3</td>\n",
       "      <td>Activision Blizzard\\n3.3</td>\n",
       "      <td>Vancouver</td>\n",
       "      <td>-1</td>\n",
       "      <td>10000+ Employees</td>\n",
       "      <td>1979</td>\n",
       "      <td>Company - Public</td>\n",
       "      <td>Video Games</td>\n",
       "      <td>Media</td>\n",
       "      <td>$5 to $10 billion (USD)</td>\n",
       "      <td>-1</td>\n",
       "    </tr>\n",
       "    <tr>\n",
       "      <td>996</td>\n",
       "      <td>Sr. Data Analyst/Reporting Specialist</td>\n",
       "      <td>-1</td>\n",
       "      <td>Title: Sr. Data Analyst/Reporting Specialist\\n...</td>\n",
       "      <td>4.7</td>\n",
       "      <td>TEEMA\\n4.7</td>\n",
       "      <td>Edmonton</td>\n",
       "      <td>-1</td>\n",
       "      <td>201 to 500 Employees</td>\n",
       "      <td>2008</td>\n",
       "      <td>Company - Private</td>\n",
       "      <td>Staffing &amp; Outsourcing</td>\n",
       "      <td>Business Services</td>\n",
       "      <td>$50 to $100 million (USD)</td>\n",
       "      <td>-1</td>\n",
       "    </tr>\n",
       "    <tr>\n",
       "      <td>997</td>\n",
       "      <td>Data Engineer - 14406</td>\n",
       "      <td>-1</td>\n",
       "      <td>IT/IQ Tech Recruiters is seeking a Data Engine...</td>\n",
       "      <td>3.1</td>\n",
       "      <td>IT IQ TECH RECRUITERS LTD\\n3.1</td>\n",
       "      <td>Vancouver</td>\n",
       "      <td>-1</td>\n",
       "      <td>1 to 50 Employees</td>\n",
       "      <td>2002</td>\n",
       "      <td>Company - Private</td>\n",
       "      <td>Staffing &amp; Outsourcing</td>\n",
       "      <td>Business Services</td>\n",
       "      <td>$25 to $50 million (USD)</td>\n",
       "      <td>-1</td>\n",
       "    </tr>\n",
       "    <tr>\n",
       "      <td>998</td>\n",
       "      <td>Big Data Engineer</td>\n",
       "      <td>-1</td>\n",
       "      <td>Role and Responsibilities*\\nThe candidate will...</td>\n",
       "      <td>-1.0</td>\n",
       "      <td>AstraNorth</td>\n",
       "      <td>Kitchener</td>\n",
       "      <td>-1</td>\n",
       "      <td>-1</td>\n",
       "      <td>-1</td>\n",
       "      <td>-1</td>\n",
       "      <td>-1</td>\n",
       "      <td>-1</td>\n",
       "      <td>-1</td>\n",
       "      <td>-1</td>\n",
       "    </tr>\n",
       "    <tr>\n",
       "      <td>999</td>\n",
       "      <td>Senior Data Engineer</td>\n",
       "      <td>-1</td>\n",
       "      <td>The Data Engineering practice at Gore Mutual I...</td>\n",
       "      <td>3.6</td>\n",
       "      <td>Gore Mutual Insurance Company\\n3.6</td>\n",
       "      <td>Toronto</td>\n",
       "      <td>-1</td>\n",
       "      <td>201 to 500 Employees</td>\n",
       "      <td>1839</td>\n",
       "      <td>Company - Private</td>\n",
       "      <td>Insurance Carriers</td>\n",
       "      <td>Insurance</td>\n",
       "      <td>$100 to $500 million (USD)</td>\n",
       "      <td>-1</td>\n",
       "    </tr>\n",
       "  </tbody>\n",
       "</table>\n",
       "<p>1000 rows × 14 columns</p>\n",
       "</div>"
      ],
      "text/plain": [
       "                                             Job Title  \\\n",
       "0    Senior Data Scientist // Scientifique des donn...   \n",
       "1                                 Data Scientist, Game   \n",
       "2                        Product Manager, Data Science   \n",
       "3                               Data Mining Specialist   \n",
       "4                              Data Analyst, NAV Recon   \n",
       "..                                                 ...   \n",
       "995                            Principal Data Engineer   \n",
       "996              Sr. Data Analyst/Reporting Specialist   \n",
       "997                              Data Engineer - 14406   \n",
       "998                                  Big Data Engineer   \n",
       "999                               Senior Data Engineer   \n",
       "\n",
       "                    Salary Estimate  \\\n",
       "0    CA$58k-CA$90k (Glassdoor Est.)   \n",
       "1    CA$58k-CA$90k (Glassdoor Est.)   \n",
       "2    CA$58k-CA$90k (Glassdoor Est.)   \n",
       "3    CA$58k-CA$90k (Glassdoor Est.)   \n",
       "4    CA$58k-CA$90k (Glassdoor Est.)   \n",
       "..                              ...   \n",
       "995                              -1   \n",
       "996                              -1   \n",
       "997                              -1   \n",
       "998                              -1   \n",
       "999                              -1   \n",
       "\n",
       "                                       Job Description  Rating  \\\n",
       "0    Reporting to the Analytics Manager, the Senior...     4.1   \n",
       "1    Prodigy Education connects students, parents, ...     4.4   \n",
       "2    Numerator is a data and technology company rei...     4.1   \n",
       "3    What we do\\nInterested in solving problems, en...     5.0   \n",
       "4    Data Analyst, NAV Recon\\nConnor, Clark & Lunn ...     4.3   \n",
       "..                                                 ...     ...   \n",
       "995  Job Title:\\nPrincipal Data Engineer\\nRequisiti...     3.3   \n",
       "996  Title: Sr. Data Analyst/Reporting Specialist\\n...     4.7   \n",
       "997  IT/IQ Tech Recruiters is seeking a Data Engine...     3.1   \n",
       "998  Role and Responsibilities*\\nThe candidate will...    -1.0   \n",
       "999  The Data Engineering practice at Gore Mutual I...     3.6   \n",
       "\n",
       "                                  Company Name   Location  Headquarters  \\\n",
       "0                                  SSENSE\\n4.1   Montreal            -1   \n",
       "1                       Prodigy Education\\n4.4    Toronto            -1   \n",
       "2                               Numerator\\n4.1     Ottawa            -1   \n",
       "3     Global Spatial Technology Solutions\\n5.0  Dartmouth            -1   \n",
       "4    Connor, Clark & Lunn Financial Group\\n4.3  Vancouver            -1   \n",
       "..                                         ...        ...           ...   \n",
       "995                   Activision Blizzard\\n3.3  Vancouver            -1   \n",
       "996                                 TEEMA\\n4.7   Edmonton            -1   \n",
       "997             IT IQ TECH RECRUITERS LTD\\n3.1  Vancouver            -1   \n",
       "998                                 AstraNorth  Kitchener            -1   \n",
       "999         Gore Mutual Insurance Company\\n3.6    Toronto            -1   \n",
       "\n",
       "                       Size  Founded  Type of ownership  \\\n",
       "0     501 to 1000 Employees     2003  Company - Private   \n",
       "1      201 to 500 Employees     2011  Company - Private   \n",
       "2    1001 to 5000 Employees     2004  Company - Private   \n",
       "3         1 to 50 Employees       -1            Unknown   \n",
       "4      201 to 500 Employees     1982  Company - Private   \n",
       "..                      ...      ...                ...   \n",
       "995        10000+ Employees     1979   Company - Public   \n",
       "996    201 to 500 Employees     2008  Company - Private   \n",
       "997       1 to 50 Employees     2002  Company - Private   \n",
       "998                      -1       -1                 -1   \n",
       "999    201 to 500 Employees     1839  Company - Private   \n",
       "\n",
       "                                  Industry                  Sector  \\\n",
       "0      Department, Clothing, & Shoe Stores                  Retail   \n",
       "1             Computer Hardware & Software  Information Technology   \n",
       "2                              IT Services  Information Technology   \n",
       "3                                       -1                      -1   \n",
       "4    Investment Banking & Asset Management                 Finance   \n",
       "..                                     ...                     ...   \n",
       "995                            Video Games                   Media   \n",
       "996                 Staffing & Outsourcing       Business Services   \n",
       "997                 Staffing & Outsourcing       Business Services   \n",
       "998                                     -1                      -1   \n",
       "999                     Insurance Carriers               Insurance   \n",
       "\n",
       "                        Revenue  Competitors  \n",
       "0      Unknown / Non-Applicable           -1  \n",
       "1      Unknown / Non-Applicable           -1  \n",
       "2    $100 to $500 million (USD)           -1  \n",
       "3    Less than $1 million (USD)           -1  \n",
       "4      $25 to $50 million (USD)           -1  \n",
       "..                          ...          ...  \n",
       "995     $5 to $10 billion (USD)           -1  \n",
       "996   $50 to $100 million (USD)           -1  \n",
       "997    $25 to $50 million (USD)           -1  \n",
       "998                          -1           -1  \n",
       "999  $100 to $500 million (USD)           -1  \n",
       "\n",
       "[1000 rows x 14 columns]"
      ]
     },
     "execution_count": 237,
     "metadata": {},
     "output_type": "execute_result"
    }
   ],
   "source": [
    "df"
   ]
  },
  {
   "cell_type": "code",
   "execution_count": 238,
   "metadata": {},
   "outputs": [
    {
     "data": {
      "text/plain": [
       "(1000, 14)"
      ]
     },
     "execution_count": 238,
     "metadata": {},
     "output_type": "execute_result"
    }
   ],
   "source": [
    "df.shape"
   ]
  },
  {
   "cell_type": "markdown",
   "metadata": {},
   "source": [
    "### Salary Parsing"
   ]
  },
  {
   "cell_type": "code",
   "execution_count": 239,
   "metadata": {},
   "outputs": [
    {
     "data": {
      "text/plain": [
       "0      CA$58k-CA$90k (Glassdoor Est.)\n",
       "1      CA$58k-CA$90k (Glassdoor Est.)\n",
       "2      CA$58k-CA$90k (Glassdoor Est.)\n",
       "3      CA$58k-CA$90k (Glassdoor Est.)\n",
       "4      CA$58k-CA$90k (Glassdoor Est.)\n",
       "                    ...              \n",
       "995                                -1\n",
       "996                                -1\n",
       "997                                -1\n",
       "998                                -1\n",
       "999                                -1\n",
       "Name: Salary Estimate, Length: 1000, dtype: object"
      ]
     },
     "execution_count": 239,
     "metadata": {},
     "output_type": "execute_result"
    }
   ],
   "source": [
    "df['Salary Estimate']"
   ]
  },
  {
   "cell_type": "code",
   "execution_count": 240,
   "metadata": {},
   "outputs": [],
   "source": [
    "salary = df['Salary Estimate'].apply(lambda x: x.split('(')[0])"
   ]
  },
  {
   "cell_type": "code",
   "execution_count": 241,
   "metadata": {},
   "outputs": [
    {
     "data": {
      "text/plain": [
       "0      CA$58k-CA$90k \n",
       "1      CA$58k-CA$90k \n",
       "2      CA$58k-CA$90k \n",
       "3      CA$58k-CA$90k \n",
       "4      CA$58k-CA$90k \n",
       "            ...      \n",
       "995                -1\n",
       "996                -1\n",
       "997                -1\n",
       "998                -1\n",
       "999                -1\n",
       "Name: Salary Estimate, Length: 1000, dtype: object"
      ]
     },
     "execution_count": 241,
     "metadata": {},
     "output_type": "execute_result"
    }
   ],
   "source": [
    "salary"
   ]
  },
  {
   "cell_type": "code",
   "execution_count": 242,
   "metadata": {},
   "outputs": [],
   "source": [
    "minus_Kd = salary.apply(lambda x: x.replace('k','').replace('$','').replace('CA',''))"
   ]
  },
  {
   "cell_type": "code",
   "execution_count": 243,
   "metadata": {},
   "outputs": [
    {
     "data": {
      "text/plain": [
       "0      58-90 \n",
       "1      58-90 \n",
       "2      58-90 \n",
       "3      58-90 \n",
       "4      58-90 \n",
       "        ...  \n",
       "995        -1\n",
       "996        -1\n",
       "997        -1\n",
       "998        -1\n",
       "999        -1\n",
       "Name: Salary Estimate, Length: 1000, dtype: object"
      ]
     },
     "execution_count": 243,
     "metadata": {},
     "output_type": "execute_result"
    }
   ],
   "source": [
    "minus_Kd"
   ]
  },
  {
   "cell_type": "code",
   "execution_count": 244,
   "metadata": {},
   "outputs": [],
   "source": [
    "df['Hourly'] = df['Salary Estimate'].apply(lambda x: 1 if 'per hour' in x.lower() else 0)\n",
    "df['EmployerProvided'] = df['Salary Estimate'].apply(lambda x: 1 if 'employer provided salary' in x.lower() else 0)"
   ]
  },
  {
   "cell_type": "code",
   "execution_count": 245,
   "metadata": {},
   "outputs": [],
   "source": [
    "min_hr = minus_Kd.apply(lambda x: x.lower().replace('per hour','').replace('employer provided salary',''))"
   ]
  },
  {
   "cell_type": "code",
   "execution_count": 246,
   "metadata": {},
   "outputs": [
    {
     "data": {
      "text/plain": [
       "dtype('float64')"
      ]
     },
     "execution_count": 246,
     "metadata": {},
     "output_type": "execute_result"
    }
   ],
   "source": [
    "df['MinSalary'] = min_hr.apply(lambda x: x.split('-')[0])\n",
    "df['MinSalary'] = pd.to_numeric(df['MinSalary'], errors='coerce')\n",
    "\n",
    "df['MinSalary'].dtype"
   ]
  },
  {
   "cell_type": "code",
   "execution_count": 247,
   "metadata": {},
   "outputs": [
    {
     "data": {
      "text/plain": [
       "dtype('int64')"
      ]
     },
     "execution_count": 247,
     "metadata": {},
     "output_type": "execute_result"
    }
   ],
   "source": [
    "df['MaxSalary'] = min_hr.apply(lambda x: x.split('-')[1])\n",
    "df['MaxSalary'] = pd.to_numeric(df['MaxSalary'], errors='coerce')\n",
    "\n",
    "df['MaxSalary'].dtype"
   ]
  },
  {
   "cell_type": "code",
   "execution_count": 248,
   "metadata": {},
   "outputs": [
    {
     "data": {
      "text/plain": [
       "0      58.0\n",
       "1      58.0\n",
       "2      58.0\n",
       "3      58.0\n",
       "4      58.0\n",
       "       ... \n",
       "995     NaN\n",
       "996     NaN\n",
       "997     NaN\n",
       "998     NaN\n",
       "999     NaN\n",
       "Name: MinSalary, Length: 1000, dtype: float64"
      ]
     },
     "execution_count": 248,
     "metadata": {},
     "output_type": "execute_result"
    }
   ],
   "source": [
    "df['MinSalary']"
   ]
  },
  {
   "cell_type": "code",
   "execution_count": 249,
   "metadata": {},
   "outputs": [
    {
     "data": {
      "text/plain": [
       "0      90\n",
       "1      90\n",
       "2      90\n",
       "3      90\n",
       "4      90\n",
       "       ..\n",
       "995     1\n",
       "996     1\n",
       "997     1\n",
       "998     1\n",
       "999     1\n",
       "Name: MaxSalary, Length: 1000, dtype: int64"
      ]
     },
     "execution_count": 249,
     "metadata": {},
     "output_type": "execute_result"
    }
   ],
   "source": [
    "df['MaxSalary']"
   ]
  },
  {
   "cell_type": "code",
   "execution_count": 250,
   "metadata": {},
   "outputs": [],
   "source": [
    "df['AvgSalary'] = (df['MinSalary'] + df['MaxSalary'])/2"
   ]
  },
  {
   "cell_type": "code",
   "execution_count": 251,
   "metadata": {},
   "outputs": [
    {
     "data": {
      "text/plain": [
       "array([74. , 64. , 86.5, 59. , 80.5, 88.5,  nan, 96. , 57.5, 56. , 88. ,\n",
       "       70.5, 70. , 65. , 76.5, 51.5, 74.5, 49. , 95.5])"
      ]
     },
     "execution_count": 251,
     "metadata": {},
     "output_type": "execute_result"
    }
   ],
   "source": [
    "df.AvgSalary.unique()"
   ]
  },
  {
   "cell_type": "code",
   "execution_count": 252,
   "metadata": {},
   "outputs": [
    {
     "name": "stdout",
     "output_type": "stream",
     "text": [
      "Average Salary is: $ 72.57894736842105 k\n"
     ]
    }
   ],
   "source": [
    "print('Average Salary is: $', df['AvgSalary'].mean(),'k')"
   ]
  },
  {
   "cell_type": "code",
   "execution_count": 253,
   "metadata": {},
   "outputs": [
    {
     "data": {
      "text/html": [
       "<div>\n",
       "<style scoped>\n",
       "    .dataframe tbody tr th:only-of-type {\n",
       "        vertical-align: middle;\n",
       "    }\n",
       "\n",
       "    .dataframe tbody tr th {\n",
       "        vertical-align: top;\n",
       "    }\n",
       "\n",
       "    .dataframe thead th {\n",
       "        text-align: right;\n",
       "    }\n",
       "</style>\n",
       "<table border=\"1\" class=\"dataframe\">\n",
       "  <thead>\n",
       "    <tr style=\"text-align: right;\">\n",
       "      <th></th>\n",
       "      <th>MinSalary</th>\n",
       "      <th>MaxSalary</th>\n",
       "    </tr>\n",
       "  </thead>\n",
       "  <tbody>\n",
       "    <tr>\n",
       "      <td>0</td>\n",
       "      <td>58.0</td>\n",
       "      <td>90</td>\n",
       "    </tr>\n",
       "    <tr>\n",
       "      <td>1</td>\n",
       "      <td>58.0</td>\n",
       "      <td>90</td>\n",
       "    </tr>\n",
       "    <tr>\n",
       "      <td>2</td>\n",
       "      <td>58.0</td>\n",
       "      <td>90</td>\n",
       "    </tr>\n",
       "    <tr>\n",
       "      <td>3</td>\n",
       "      <td>58.0</td>\n",
       "      <td>90</td>\n",
       "    </tr>\n",
       "    <tr>\n",
       "      <td>4</td>\n",
       "      <td>58.0</td>\n",
       "      <td>90</td>\n",
       "    </tr>\n",
       "    <tr>\n",
       "      <td>...</td>\n",
       "      <td>...</td>\n",
       "      <td>...</td>\n",
       "    </tr>\n",
       "    <tr>\n",
       "      <td>995</td>\n",
       "      <td>NaN</td>\n",
       "      <td>1</td>\n",
       "    </tr>\n",
       "    <tr>\n",
       "      <td>996</td>\n",
       "      <td>NaN</td>\n",
       "      <td>1</td>\n",
       "    </tr>\n",
       "    <tr>\n",
       "      <td>997</td>\n",
       "      <td>NaN</td>\n",
       "      <td>1</td>\n",
       "    </tr>\n",
       "    <tr>\n",
       "      <td>998</td>\n",
       "      <td>NaN</td>\n",
       "      <td>1</td>\n",
       "    </tr>\n",
       "    <tr>\n",
       "      <td>999</td>\n",
       "      <td>NaN</td>\n",
       "      <td>1</td>\n",
       "    </tr>\n",
       "  </tbody>\n",
       "</table>\n",
       "<p>1000 rows × 2 columns</p>\n",
       "</div>"
      ],
      "text/plain": [
       "     MinSalary  MaxSalary\n",
       "0         58.0         90\n",
       "1         58.0         90\n",
       "2         58.0         90\n",
       "3         58.0         90\n",
       "4         58.0         90\n",
       "..         ...        ...\n",
       "995        NaN          1\n",
       "996        NaN          1\n",
       "997        NaN          1\n",
       "998        NaN          1\n",
       "999        NaN          1\n",
       "\n",
       "[1000 rows x 2 columns]"
      ]
     },
     "execution_count": 253,
     "metadata": {},
     "output_type": "execute_result"
    }
   ],
   "source": [
    "df[['MinSalary', 'MaxSalary']]"
   ]
  },
  {
   "cell_type": "markdown",
   "metadata": {},
   "source": [
    "### Cleaning Company Name"
   ]
  },
  {
   "cell_type": "code",
   "execution_count": 254,
   "metadata": {},
   "outputs": [],
   "source": [
    "df['CompanyText'] = df['Company Name'].apply(lambda x: x.split(\"\\n\")[0])\n"
   ]
  },
  {
   "cell_type": "markdown",
   "metadata": {},
   "source": [
    "### Cleaning Company Location"
   ]
  },
  {
   "cell_type": "code",
   "execution_count": 255,
   "metadata": {},
   "outputs": [
    {
     "data": {
      "text/plain": [
       "Toronto            313\n",
       "Vancouver          156\n",
       "Montreal           143\n",
       "Mississauga         63\n",
       "Ottawa              39\n",
       "Canada              28\n",
       "Edmonton            21\n",
       "Calgary             21\n",
       "Burnaby             18\n",
       "Brampton            16\n",
       "Oakville            13\n",
       "Markham             12\n",
       "Quebec              11\n",
       "Kitchener            9\n",
       "Ontario              8\n",
       "Waterloo             7\n",
       "Victoria             7\n",
       "Saint-Laurent        7\n",
       "Laval                6\n",
       "Winnipeg             6\n",
       "North York           6\n",
       "Halifax              5\n",
       "Greenfield           5\n",
       "Moncton              5\n",
       "Kirkland             4\n",
       "London               4\n",
       "North Vancouver      4\n",
       "Regina               4\n",
       "Newmarket            4\n",
       "Hamilton             4\n",
       "Saskatoon            3\n",
       "Cochin               3\n",
       "Fredericton          3\n",
       "Kingston             3\n",
       "Richmond             3\n",
       "Surrey               3\n",
       "Guelph               3\n",
       "Cambridge            2\n",
       "Scarborough          2\n",
       "Dorval               2\n",
       "Remote               2\n",
       "Montréal-Est         2\n",
       "Senneville           2\n",
       "St. John's           2\n",
       "Richmond Hill        2\n",
       "Kanata               1\n",
       "Kelowna              1\n",
       "Bromont              1\n",
       "Collingwood          1\n",
       "Saanichton           1\n",
       "Chatham              1\n",
       "Dartmouth            1\n",
       "Burlington           1\n",
       "Medicine Hat         1\n",
       "Concord              1\n",
       "Rivière-du-Loup      1\n",
       "Welwyn               1\n",
       "East Bay             1\n",
       "St. Jacobs           1\n",
       "Name: Location, dtype: int64"
      ]
     },
     "execution_count": 255,
     "metadata": {},
     "output_type": "execute_result"
    }
   ],
   "source": [
    "df['Location'].value_counts()"
   ]
  },
  {
   "cell_type": "code",
   "execution_count": 256,
   "metadata": {},
   "outputs": [
    {
     "data": {
      "text/plain": [
       "<matplotlib.axes._subplots.AxesSubplot at 0x262271691c8>"
      ]
     },
     "execution_count": 256,
     "metadata": {},
     "output_type": "execute_result"
    },
    {
     "data": {
      "image/png": "[encoded data removed]",
      "text/plain": [
       "<Figure size 432x288 with 1 Axes>"
      ]
     },
     "metadata": {
      "needs_background": "light"
     },
     "output_type": "display_data"
    }
   ],
   "source": [
    "sns.countplot(x='Location', data=df, order=pd.value_counts(df['Location']).iloc[:5].index)"
   ]
  },
  {
   "cell_type": "code",
   "execution_count": 257,
   "metadata": {},
   "outputs": [],
   "source": [
    "df['Province'] = df['Location'].apply(lambda x: 'Ontario' if 'toronto' in x.lower() \n",
    "else ('British Columbia' if 'vancouver' in x.lower()\n",
    "else ('Quebec' if 'montreal' in x.lower()\n",
    "else ('Ontario' if 'mississauga' in x.lower()\n",
    "else ('Ontario' if 'ottawa' in x.lower()\n",
    "else ('Unknown' if 'canada' in x.lower()\n",
    "else ('Alberta' if 'edmonton' in x.lower()\n",
    "else ('Alberta' if 'calgary' in x.lower()\n",
    "else ('British Columbia' if 'burnaby' in x.lower()\n",
    "else ('Ontario' if 'brampton' in x.lower()\n",
    "else ('Ontario' if 'oakville' in x.lower()\n",
    "else ('Ontario' if 'markham' in x.lower()\n",
    "else ('Quebec' if 'quebec' in x.lower()\n",
    "else ('Ontario' if 'kitchener' in x.lower()\n",
    "else ('Ontario' if 'ontario' in x.lower()\n",
    "else ('Ontario' if 'waterloo' in x.lower()\n",
    "else ('British Columbia' if 'victoria' in x.lower()\n",
    "else ('Quebec' if 'saint-laurent' in x.lower()\n",
    "else ('Quebec' if 'laval' in x.lower()\n",
    "else ('Manitoba' if 'winnipeg' in x.lower()\n",
    "else ('Ontario' if 'north york' in x.lower()\n",
    "else ('Nova Scotia' if 'halifax' in x.lower()\n",
    "else ('Ontario' if 'greenfield' in x.lower()\n",
    "else ('New Brunswick' if 'moncton' in x.lower()\n",
    "else ('Ontario' if 'kirkland lake' in x.lower()\n",
    "else ('Ontario' if 'london' in x.lower()\n",
    "else ('British Columbia' if 'north vancouver' in x.lower()\n",
    "else ('Saskatchewan' if 'regina' in x.lower()\n",
    "else ('Ontario' if 'newmarket' in x.lower()\n",
    "else ('Ontario' if 'hamilton' in x.lower()\n",
    "else ('Saskatchewan' if 'saskatoon' in x.lower()\n",
    "else ('Saskatchewan' if 'kochi' in x.lower()\n",
    "else ('New Brunswick' if 'fredericton' in x.lower()\n",
    "else ('Ontario' if 'kingston' in x.lower()\n",
    "else ('British Columbia' if 'richmond' in x.lower()\n",
    "else ('British Columbia' if 'surrey' in x.lower()\n",
    "else ('Ontario' if 'guelph' in x.lower()\n",
    "else ('Ontario' if 'cambridge' in x.lower()\n",
    "else ('Ontario' if 'scarborough' in x.lower()\n",
    "else ('Quebec' if 'dorval' in x.lower()\n",
    "else ('Unknown' if 'remote' in x.lower()\n",
    "else ('Quebec' if 'montréal-est' in x.lower()\n",
    "else ('Quebec' if 'senneville' in x.lower()\n",
    "else ('Newfoundland and Labrador' if \"st. john's\" in x.lower()\n",
    "else ('Ontario' if 'richmond hill' in x.lower()\n",
    "else ('Ontario' if 'kanata' in x.lower()\n",
    "else ('British Columbia' if 'kelowna' in x.lower()\n",
    "else ('Quebec' if 'bromont' in x.lower()\n",
    "else ('Ontario' if 'collingwood' in x.lower()\n",
    "else ('British Columbia' if 'saanichton' in x.lower()\n",
    "else ('Ontario' if 'chatham-kent' in x.lower()\n",
    "else ('Nova Scotia' if 'dartmouth' in x.lower()\n",
    "else ('Ontario' if 'burlington' in x.lower()\n",
    "else ('Alberta' if 'medicine hat' in x.lower()\n",
    "else ('Ontario' if 'concord' in x.lower()\n",
    "else ('Quebec' if 'rivière-du-Loup' in x.lower()\n",
    "else ('Saskatchewan' if 'welwyn' in x.lower()\n",
    "else ('Nova Scotia' if 'east bay, nova scotia' in x.lower()\n",
    "else ('Ontario' if 'st. jacobs' in x.lower()\n",
    "else ('Saskatchewan' if 'cochin' in x.lower()\n",
    "else ('Quebec' if 'kirkland' in x.lower()\n",
    "else ('Ontario' if 'chatham' in x.lower()\n",
    "else ('Nova Scotia' if 'east bay' in x.lower()\n",
    "else ('Quebec' if \"rivière-du-loup\" in x.lower()\n",
    "    else 0))))))))))))))))))))))))))))))))))))))))))))))))))))))))))))))))"
   ]
  },
  {
   "cell_type": "code",
   "execution_count": 258,
   "metadata": {},
   "outputs": [
    {
     "data": {
      "text/plain": [
       "Ontario                      519\n",
       "British Columbia             195\n",
       "Quebec                       179\n",
       "Alberta                       43\n",
       "Unknown                       30\n",
       "Saskatchewan                  11\n",
       "New Brunswick                  8\n",
       "Nova Scotia                    7\n",
       "Manitoba                       6\n",
       "Newfoundland and Labrador      2\n",
       "Name: Province, dtype: int64"
      ]
     },
     "execution_count": 258,
     "metadata": {},
     "output_type": "execute_result"
    }
   ],
   "source": [
    "df['Province'].value_counts()"
   ]
  },
  {
   "cell_type": "code",
   "execution_count": 259,
   "metadata": {},
   "outputs": [
    {
     "data": {
      "text/plain": [
       "[Text(0, 0, 'Ontario'),\n",
       " Text(0, 0, 'British Columbia'),\n",
       " Text(0, 0, 'Quebec'),\n",
       " Text(0, 0, 'Alberta'),\n",
       " Text(0, 0, 'Unknown'),\n",
       " Text(0, 0, 'Saskatchewan'),\n",
       " Text(0, 0, 'New Brunswick'),\n",
       " Text(0, 0, 'Nova Scotia'),\n",
       " Text(0, 0, 'Manitoba'),\n",
       " Text(0, 0, 'Newfoundland and Labrador')]"
      ]
     },
     "execution_count": 259,
     "metadata": {},
     "output_type": "execute_result"
    },
    {
     "data": {
      "image/png": "[encoded data removed]",
      "text/plain": [
       "<Figure size 432x288 with 1 Axes>"
      ]
     },
     "metadata": {
      "needs_background": "light"
     },
     "output_type": "display_data"
    }
   ],
   "source": [
    "prov_chart = sns.countplot(x='Province', data=df, order = df['Province'].value_counts().index)\n",
    "prov_chart.set_xticklabels(prov_chart.get_xticklabels(), rotation=90)"
   ]
  },
  {
   "cell_type": "markdown",
   "metadata": {},
   "source": [
    "### Age of Company"
   ]
  },
  {
   "cell_type": "code",
   "execution_count": 260,
   "metadata": {},
   "outputs": [],
   "source": [
    "df['Age'] = df.Founded.apply(lambda x: x if x <1 else 2020-x)"
   ]
  },
  {
   "cell_type": "code",
   "execution_count": 261,
   "metadata": {},
   "outputs": [
    {
     "data": {
      "text/plain": [
       "0       17\n",
       "1        9\n",
       "2       16\n",
       "3       -1\n",
       "4       38\n",
       "      ... \n",
       "995     41\n",
       "996     12\n",
       "997     18\n",
       "998     -1\n",
       "999    181\n",
       "Name: Age, Length: 1000, dtype: int64"
      ]
     },
     "execution_count": 261,
     "metadata": {},
     "output_type": "execute_result"
    }
   ],
   "source": [
    "df['Age'] "
   ]
  },
  {
   "cell_type": "code",
   "execution_count": 262,
   "metadata": {},
   "outputs": [
    {
     "name": "stdout",
     "output_type": "stream",
     "text": [
      "Average Age of Companies: 33.318\n"
     ]
    }
   ],
   "source": [
    "print('Average Age of Companies:',df['Age'].mean())"
   ]
  },
  {
   "cell_type": "markdown",
   "metadata": {},
   "source": [
    "### Parse out Keywords"
   ]
  },
  {
   "cell_type": "markdown",
   "metadata": {},
   "source": [
    "Common Keywords to parse:\n",
    "- Python\n",
    "- R Studio\n",
    "- Spark\n",
    "- AWS\n",
    "- Excel    "
   ]
  },
  {
   "cell_type": "code",
   "execution_count": 263,
   "metadata": {},
   "outputs": [
    {
     "data": {
      "text/plain": [
       "1    618\n",
       "0    382\n",
       "Name: Python, dtype: int64"
      ]
     },
     "execution_count": 263,
     "metadata": {},
     "output_type": "execute_result"
    }
   ],
   "source": [
    "df['Python'] = df['Job Description'].apply(lambda x: 1 if 'python' in x.lower() else 0)\n",
    "df.Python.value_counts()"
   ]
  },
  {
   "cell_type": "code",
   "execution_count": 264,
   "metadata": {},
   "outputs": [
    {
     "data": {
      "text/plain": [
       "0    685\n",
       "1    315\n",
       "Name: Spark, dtype: int64"
      ]
     },
     "execution_count": 264,
     "metadata": {},
     "output_type": "execute_result"
    }
   ],
   "source": [
    "df['Spark'] = df['Job Description'].apply(lambda x: 1 if 'spark' in x.lower() else 0)\n",
    "df.Spark.value_counts()"
   ]
  },
  {
   "cell_type": "code",
   "execution_count": 265,
   "metadata": {},
   "outputs": [
    {
     "data": {
      "text/plain": [
       "0    741\n",
       "1    259\n",
       "Name: AWS, dtype: int64"
      ]
     },
     "execution_count": 265,
     "metadata": {},
     "output_type": "execute_result"
    }
   ],
   "source": [
    "df['AWS'] = df['Job Description'].apply(lambda x: 1 if 'aws' in x.lower() else 0)\n",
    "df.AWS.value_counts()"
   ]
  },
  {
   "cell_type": "code",
   "execution_count": 266,
   "metadata": {},
   "outputs": [
    {
     "data": {
      "text/plain": [
       "0    512\n",
       "1    488\n",
       "Name: Excel, dtype: int64"
      ]
     },
     "execution_count": 266,
     "metadata": {},
     "output_type": "execute_result"
    }
   ],
   "source": [
    "df['Excel'] = df['Job Description'].apply(lambda x: 1 if 'excel' in x.lower() else 0)\n",
    "df.Excel.value_counts()"
   ]
  },
  {
   "cell_type": "code",
   "execution_count": 267,
   "metadata": {},
   "outputs": [
    {
     "data": {
      "image/png": "[encoded data removed]",
      "text/plain": [
       "<Figure size 432x288 with 1 Axes>"
      ]
     },
     "metadata": {
      "needs_background": "light"
     },
     "output_type": "display_data"
    },
    {
     "data": {
      "image/png": "[encoded data removed]",
      "text/plain": [
       "<Figure size 432x288 with 1 Axes>"
      ]
     },
     "metadata": {
      "needs_background": "light"
     },
     "output_type": "display_data"
    },
    {
     "data": {
      "image/png": "[encoded data removed]",
      "text/plain": [
       "<Figure size 432x288 with 1 Axes>"
      ]
     },
     "metadata": {
      "needs_background": "light"
     },
     "output_type": "display_data"
    },
    {
     "data": {
      "image/png": "[encoded data removed]",
      "text/plain": [
       "<Figure size 432x288 with 1 Axes>"
      ]
     },
     "metadata": {
      "needs_background": "light"
     },
     "output_type": "display_data"
    }
   ],
   "source": [
    "df_keywords = df[['Python', 'Spark', 'AWS', 'Excel']]\n",
    "\n",
    "for i in df_keywords.columns:\n",
    "    key_num = df_keywords[i].value_counts()\n",
    "    sns.barplot(x=key_num.index, y=key_num)\n",
    "    plt.show()"
   ]
  },
  {
   "cell_type": "markdown",
   "metadata": {},
   "source": [
    "### Simplify Title and Seniority"
   ]
  },
  {
   "cell_type": "code",
   "execution_count": 268,
   "metadata": {},
   "outputs": [],
   "source": [
    "def title_simplifier(title):\n",
    "    if 'data scientist' in title.lower():\n",
    "        return 'data scientist'\n",
    "    elif 'data engineer' in title.lower():\n",
    "        return 'data engineer'\n",
    "    elif 'analyst' in title.lower():\n",
    "        return 'analyst'\n",
    "    elif 'machine learning' in title.lower():\n",
    "        return 'MLE'\n",
    "    elif 'manager' in title.lower():\n",
    "        return 'manager'\n",
    "    elif 'director' in title.lower():\n",
    "        return 'director'\n",
    "    else:\n",
    "        return 'na'\n",
    "    \n",
    "def seniority (title):\n",
    "    if 'sr' in title.lower() or 'senior' in title.lower() or 'sr.' in title.lower() or 'lead' in title.lower() or 'principal' in title.lower():\n",
    "        return 'senior'\n",
    "    elif 'jr' in title.lower() or 'junior' in title.lower() or 'associate' in title.lower():\n",
    "        return 'jr'\n",
    "    else:\n",
    "        return 'na'"
   ]
  },
  {
   "cell_type": "code",
   "execution_count": 269,
   "metadata": {},
   "outputs": [],
   "source": [
    "df['JobSimplified'] = df['Job Title'].apply(title_simplifier)"
   ]
  },
  {
   "cell_type": "code",
   "execution_count": 270,
   "metadata": {},
   "outputs": [
    {
     "data": {
      "text/plain": [
       "data engineer     274\n",
       "analyst           238\n",
       "na                233\n",
       "data scientist    147\n",
       "MLE                71\n",
       "manager            33\n",
       "director            4\n",
       "Name: JobSimplified, dtype: int64"
      ]
     },
     "execution_count": 270,
     "metadata": {},
     "output_type": "execute_result"
    }
   ],
   "source": [
    "df['JobSimplified'].value_counts()"
   ]
  },
  {
   "cell_type": "code",
   "execution_count": 271,
   "metadata": {},
   "outputs": [],
   "source": [
    "df['Seniority'] = df['Job Title'].apply(seniority)"
   ]
  },
  {
   "cell_type": "code",
   "execution_count": 272,
   "metadata": {},
   "outputs": [
    {
     "data": {
      "text/plain": [
       "na        653\n",
       "senior    331\n",
       "jr         16\n",
       "Name: Seniority, dtype: int64"
      ]
     },
     "execution_count": 272,
     "metadata": {},
     "output_type": "execute_result"
    }
   ],
   "source": [
    "df['Seniority'].value_counts()"
   ]
  },
  {
   "cell_type": "code",
   "execution_count": 273,
   "metadata": {},
   "outputs": [
    {
     "data": {
      "text/plain": [
       "0      5605\n",
       "1      5629\n",
       "2      4674\n",
       "3      3632\n",
       "4      6532\n",
       "       ... \n",
       "995    5835\n",
       "996    2984\n",
       "997    3010\n",
       "998    1662\n",
       "999    2781\n",
       "Name: DescLength, Length: 1000, dtype: int64"
      ]
     },
     "execution_count": 273,
     "metadata": {},
     "output_type": "execute_result"
    }
   ],
   "source": [
    "df['DescLength'] = df['Job Description'].apply(lambda x: len(x))\n",
    "df['DescLength']"
   ]
  },
  {
   "cell_type": "code",
   "execution_count": 274,
   "metadata": {},
   "outputs": [],
   "source": [
    "# Split data if dataframe shows competitors\n",
    "\n",
    "#df['Num Competitors'] = df['Competitors'].apply(lambda x: len(x.split(',')) if x != '-1' else 0)"
   ]
  },
  {
   "cell_type": "markdown",
   "metadata": {},
   "source": [
    "### Hourly Wage to Annual"
   ]
  },
  {
   "cell_type": "code",
   "execution_count": 275,
   "metadata": {},
   "outputs": [],
   "source": [
    "# For data if it is in hourly\n",
    "\n",
    "df['MinSalary'] = df.apply(lambda x: x.MinSalary*2 if x.Hourly==1 else x.MinSalary, axis=1)\n",
    "df['MaxSalary'] = df.apply(lambda x: x.MaxSalary*2 if x.Hourly==1 else x.MaxSalary, axis=1)"
   ]
  },
  {
   "cell_type": "code",
   "execution_count": 276,
   "metadata": {},
   "outputs": [
    {
     "data": {
      "text/html": [
       "<div>\n",
       "<style scoped>\n",
       "    .dataframe tbody tr th:only-of-type {\n",
       "        vertical-align: middle;\n",
       "    }\n",
       "\n",
       "    .dataframe tbody tr th {\n",
       "        vertical-align: top;\n",
       "    }\n",
       "\n",
       "    .dataframe thead th {\n",
       "        text-align: right;\n",
       "    }\n",
       "</style>\n",
       "<table border=\"1\" class=\"dataframe\">\n",
       "  <thead>\n",
       "    <tr style=\"text-align: right;\">\n",
       "      <th></th>\n",
       "      <th>MinSalary</th>\n",
       "      <th>MaxSalary</th>\n",
       "    </tr>\n",
       "  </thead>\n",
       "  <tbody>\n",
       "    <tr>\n",
       "      <td>0</td>\n",
       "      <td>58.0</td>\n",
       "      <td>90</td>\n",
       "    </tr>\n",
       "    <tr>\n",
       "      <td>1</td>\n",
       "      <td>58.0</td>\n",
       "      <td>90</td>\n",
       "    </tr>\n",
       "    <tr>\n",
       "      <td>2</td>\n",
       "      <td>58.0</td>\n",
       "      <td>90</td>\n",
       "    </tr>\n",
       "    <tr>\n",
       "      <td>3</td>\n",
       "      <td>58.0</td>\n",
       "      <td>90</td>\n",
       "    </tr>\n",
       "    <tr>\n",
       "      <td>4</td>\n",
       "      <td>58.0</td>\n",
       "      <td>90</td>\n",
       "    </tr>\n",
       "    <tr>\n",
       "      <td>...</td>\n",
       "      <td>...</td>\n",
       "      <td>...</td>\n",
       "    </tr>\n",
       "    <tr>\n",
       "      <td>995</td>\n",
       "      <td>NaN</td>\n",
       "      <td>1</td>\n",
       "    </tr>\n",
       "    <tr>\n",
       "      <td>996</td>\n",
       "      <td>NaN</td>\n",
       "      <td>1</td>\n",
       "    </tr>\n",
       "    <tr>\n",
       "      <td>997</td>\n",
       "      <td>NaN</td>\n",
       "      <td>1</td>\n",
       "    </tr>\n",
       "    <tr>\n",
       "      <td>998</td>\n",
       "      <td>NaN</td>\n",
       "      <td>1</td>\n",
       "    </tr>\n",
       "    <tr>\n",
       "      <td>999</td>\n",
       "      <td>NaN</td>\n",
       "      <td>1</td>\n",
       "    </tr>\n",
       "  </tbody>\n",
       "</table>\n",
       "<p>1000 rows × 2 columns</p>\n",
       "</div>"
      ],
      "text/plain": [
       "     MinSalary  MaxSalary\n",
       "0         58.0         90\n",
       "1         58.0         90\n",
       "2         58.0         90\n",
       "3         58.0         90\n",
       "4         58.0         90\n",
       "..         ...        ...\n",
       "995        NaN          1\n",
       "996        NaN          1\n",
       "997        NaN          1\n",
       "998        NaN          1\n",
       "999        NaN          1\n",
       "\n",
       "[1000 rows x 2 columns]"
      ]
     },
     "execution_count": 276,
     "metadata": {},
     "output_type": "execute_result"
    }
   ],
   "source": [
    "df[['MinSalary','MaxSalary']]"
   ]
  },
  {
   "cell_type": "markdown",
   "metadata": {},
   "source": [
    "### Output to CSV"
   ]
  },
  {
   "cell_type": "code",
   "execution_count": 277,
   "metadata": {},
   "outputs": [],
   "source": [
    "df.to_csv('salary_data_clean.csv', index=False)"
   ]
  }
 ],
 "metadata": {
  "kernelspec": {
   "display_name": "Python 3",
   "language": "python",
   "name": "python3"
  },
  "language_info": {
   "codemirror_mode": {
    "name": "ipython",
    "version": 3
   },
   "file_extension": ".py",
   "mimetype": "text/x-python",
   "name": "python",
   "nbconvert_exporter": "python",
   "pygments_lexer": "ipython3",
   "version": "3.7.4"
  }
 },
 "nbformat": 4,
 "nbformat_minor": 4
}
