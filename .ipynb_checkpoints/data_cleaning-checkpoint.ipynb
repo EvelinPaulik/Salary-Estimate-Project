{
 "cells": [
  {
   "cell_type": "markdown",
   "metadata": {},
   "source": [
    "# Data Cleaning"
   ]
  },
  {
   "cell_type": "markdown",
   "metadata": {},
   "source": [
    "Data Cleaning Needed:\n",
    "- Salary Parsing\n",
    "- Company name text only\n",
    "- State field\n",
    "- Age of company\n",
    "- Job description parsing"
   ]
  },
  {
   "cell_type": "code",
   "execution_count": 847,
   "metadata": {},
   "outputs": [],
   "source": [
    "import pandas as pd\n",
    "import matplotlib.pyplot as plt\n",
    "import seaborn as sns\n",
    "%matplotlib inline\n",
    "\n",
    "df = pd.read_csv('salary_data_unclean.csv')"
   ]
  },
  {
   "cell_type": "code",
   "execution_count": 848,
   "metadata": {},
   "outputs": [
    {
     "data": {
      "text/html": [
       "<div>\n",
       "<style scoped>\n",
       "    .dataframe tbody tr th:only-of-type {\n",
       "        vertical-align: middle;\n",
       "    }\n",
       "\n",
       "    .dataframe tbody tr th {\n",
       "        vertical-align: top;\n",
       "    }\n",
       "\n",
       "    .dataframe thead th {\n",
       "        text-align: right;\n",
       "    }\n",
       "</style>\n",
       "<table border=\"1\" class=\"dataframe\">\n",
       "  <thead>\n",
       "    <tr style=\"text-align: right;\">\n",
       "      <th></th>\n",
       "      <th>Job Title</th>\n",
       "      <th>Salary Estimate</th>\n",
       "      <th>Job Description</th>\n",
       "      <th>Rating</th>\n",
       "      <th>Company Name</th>\n",
       "      <th>Location</th>\n",
       "      <th>Headquarters</th>\n",
       "      <th>Size</th>\n",
       "      <th>Founded</th>\n",
       "      <th>Type of ownership</th>\n",
       "      <th>Industry</th>\n",
       "      <th>Sector</th>\n",
       "      <th>Revenue</th>\n",
       "      <th>Competitors</th>\n",
       "    </tr>\n",
       "  </thead>\n",
       "  <tbody>\n",
       "    <tr>\n",
       "      <td>0</td>\n",
       "      <td>Senior Data Scientist</td>\n",
       "      <td>CA$58k-CA$90k (Glassdoor Est.)</td>\n",
       "      <td>Myplanet is looking for a Senior Data Scientis...</td>\n",
       "      <td>4.6</td>\n",
       "      <td>Myplanet\\n4.6</td>\n",
       "      <td>Toronto</td>\n",
       "      <td>-1</td>\n",
       "      <td>51 to 200 Employees</td>\n",
       "      <td>2009</td>\n",
       "      <td>Company - Private</td>\n",
       "      <td>Enterprise Software &amp; Network Solutions</td>\n",
       "      <td>Information Technology</td>\n",
       "      <td>Unknown / Non-Applicable</td>\n",
       "      <td>-1</td>\n",
       "    </tr>\n",
       "    <tr>\n",
       "      <td>1</td>\n",
       "      <td>Marketing Data Scientist</td>\n",
       "      <td>CA$58k-CA$90k (Glassdoor Est.)</td>\n",
       "      <td>Top Hat is looking for a technical Marketing D...</td>\n",
       "      <td>3.5</td>\n",
       "      <td>Top Hat\\n3.5</td>\n",
       "      <td>Toronto</td>\n",
       "      <td>-1</td>\n",
       "      <td>201 to 500 Employees</td>\n",
       "      <td>2009</td>\n",
       "      <td>Company - Private</td>\n",
       "      <td>Colleges &amp; Universities</td>\n",
       "      <td>Education</td>\n",
       "      <td>$25 to $50 million (USD)</td>\n",
       "      <td>-1</td>\n",
       "    </tr>\n",
       "    <tr>\n",
       "      <td>2</td>\n",
       "      <td>Data Analyst, NAV Recon</td>\n",
       "      <td>CA$58k-CA$90k (Glassdoor Est.)</td>\n",
       "      <td>Data Analyst, NAV Recon\\nConnor, Clark &amp; Lunn ...</td>\n",
       "      <td>4.3</td>\n",
       "      <td>Connor, Clark &amp; Lunn Financial Group\\n4.3</td>\n",
       "      <td>Vancouver</td>\n",
       "      <td>-1</td>\n",
       "      <td>201 to 500 Employees</td>\n",
       "      <td>1982</td>\n",
       "      <td>Company - Private</td>\n",
       "      <td>Investment Banking &amp; Asset Management</td>\n",
       "      <td>Finance</td>\n",
       "      <td>$25 to $50 million (USD)</td>\n",
       "      <td>-1</td>\n",
       "    </tr>\n",
       "    <tr>\n",
       "      <td>3</td>\n",
       "      <td>Data Mining Specialist</td>\n",
       "      <td>CA$58k-CA$90k (Glassdoor Est.)</td>\n",
       "      <td>What we do\\nInterested in solving problems, en...</td>\n",
       "      <td>5.0</td>\n",
       "      <td>Global Spatial Technology Solutions\\n5.0</td>\n",
       "      <td>Dartmouth</td>\n",
       "      <td>-1</td>\n",
       "      <td>1 to 50 Employees</td>\n",
       "      <td>-1</td>\n",
       "      <td>Unknown</td>\n",
       "      <td>-1</td>\n",
       "      <td>-1</td>\n",
       "      <td>Less than $1 million (USD)</td>\n",
       "      <td>-1</td>\n",
       "    </tr>\n",
       "    <tr>\n",
       "      <td>4</td>\n",
       "      <td>Intern, Data Engineer – Digital Strategy and I...</td>\n",
       "      <td>CA$58k-CA$90k (Glassdoor Est.)</td>\n",
       "      <td>EXPERIENCE THE EDGE\\n\\n\\nWe’re one of Canada’s...</td>\n",
       "      <td>4.4</td>\n",
       "      <td>PSP Investments\\n4.4</td>\n",
       "      <td>Montreal</td>\n",
       "      <td>-1</td>\n",
       "      <td>501 to 1000 Employees</td>\n",
       "      <td>1999</td>\n",
       "      <td>Other Organization</td>\n",
       "      <td>Investment Banking &amp; Asset Management</td>\n",
       "      <td>Finance</td>\n",
       "      <td>Unknown / Non-Applicable</td>\n",
       "      <td>-1</td>\n",
       "    </tr>\n",
       "    <tr>\n",
       "      <td>...</td>\n",
       "      <td>...</td>\n",
       "      <td>...</td>\n",
       "      <td>...</td>\n",
       "      <td>...</td>\n",
       "      <td>...</td>\n",
       "      <td>...</td>\n",
       "      <td>...</td>\n",
       "      <td>...</td>\n",
       "      <td>...</td>\n",
       "      <td>...</td>\n",
       "      <td>...</td>\n",
       "      <td>...</td>\n",
       "      <td>...</td>\n",
       "      <td>...</td>\n",
       "    </tr>\n",
       "    <tr>\n",
       "      <td>75</td>\n",
       "      <td>Data Scientist</td>\n",
       "      <td>CA$80k-CA$107k (Glassdoor Est.)</td>\n",
       "      <td>Celtx is an ambitious and fast growing softwar...</td>\n",
       "      <td>-1.0</td>\n",
       "      <td>Celtx Inc</td>\n",
       "      <td>St. John's</td>\n",
       "      <td>-1</td>\n",
       "      <td>1 to 50 Employees</td>\n",
       "      <td>-1</td>\n",
       "      <td>Company - Private</td>\n",
       "      <td>-1</td>\n",
       "      <td>-1</td>\n",
       "      <td>Less than $1 million (USD)</td>\n",
       "      <td>-1</td>\n",
       "    </tr>\n",
       "    <tr>\n",
       "      <td>76</td>\n",
       "      <td>Data Scientist</td>\n",
       "      <td>CA$80k-CA$107k (Glassdoor Est.)</td>\n",
       "      <td>Minimum Qualifications\\nMaster's degree in a q...</td>\n",
       "      <td>-1.0</td>\n",
       "      <td>Logic Plum</td>\n",
       "      <td>Ontario</td>\n",
       "      <td>-1</td>\n",
       "      <td>-1</td>\n",
       "      <td>-1</td>\n",
       "      <td>-1</td>\n",
       "      <td>-1</td>\n",
       "      <td>-1</td>\n",
       "      <td>-1</td>\n",
       "      <td>-1</td>\n",
       "    </tr>\n",
       "    <tr>\n",
       "      <td>77</td>\n",
       "      <td>Data Scientist</td>\n",
       "      <td>CA$80k-CA$107k (Glassdoor Est.)</td>\n",
       "      <td>Minimum Qualifications\\nMaster's degree in a q...</td>\n",
       "      <td>-1.0</td>\n",
       "      <td>Logic Plum</td>\n",
       "      <td>Ontario</td>\n",
       "      <td>-1</td>\n",
       "      <td>-1</td>\n",
       "      <td>-1</td>\n",
       "      <td>-1</td>\n",
       "      <td>-1</td>\n",
       "      <td>-1</td>\n",
       "      <td>-1</td>\n",
       "      <td>-1</td>\n",
       "    </tr>\n",
       "    <tr>\n",
       "      <td>78</td>\n",
       "      <td>Quantitative Analyst</td>\n",
       "      <td>CA$80k-CA$107k (Glassdoor Est.)</td>\n",
       "      <td>Quantitative Analyst\\nEmployment Duration\\n\\n\\...</td>\n",
       "      <td>4.1</td>\n",
       "      <td>Simon Fraser University\\n4.1</td>\n",
       "      <td>Burnaby</td>\n",
       "      <td>-1</td>\n",
       "      <td>1001 to 5000 Employees</td>\n",
       "      <td>1965</td>\n",
       "      <td>College / University</td>\n",
       "      <td>Colleges &amp; Universities</td>\n",
       "      <td>Education</td>\n",
       "      <td>$500 million to $1 billion (USD)</td>\n",
       "      <td>-1</td>\n",
       "    </tr>\n",
       "    <tr>\n",
       "      <td>79</td>\n",
       "      <td>Data Scientist, Security Analytics</td>\n",
       "      <td>CA$80k-CA$107k (Glassdoor Est.)</td>\n",
       "      <td>Data Scientist, Security Analytics\\n\\n\\nEagle ...</td>\n",
       "      <td>4.0</td>\n",
       "      <td>Eagle Professional Resources\\n4.0</td>\n",
       "      <td>Toronto</td>\n",
       "      <td>-1</td>\n",
       "      <td>51 to 200 Employees</td>\n",
       "      <td>1996</td>\n",
       "      <td>Company - Private</td>\n",
       "      <td>Staffing &amp; Outsourcing</td>\n",
       "      <td>Business Services</td>\n",
       "      <td>$100 to $500 million (USD)</td>\n",
       "      <td>-1</td>\n",
       "    </tr>\n",
       "  </tbody>\n",
       "</table>\n",
       "<p>80 rows × 14 columns</p>\n",
       "</div>"
      ],
      "text/plain": [
       "                                            Job Title  ... Competitors\n",
       "0                               Senior Data Scientist  ...          -1\n",
       "1                            Marketing Data Scientist  ...          -1\n",
       "2                             Data Analyst, NAV Recon  ...          -1\n",
       "3                              Data Mining Specialist  ...          -1\n",
       "4   Intern, Data Engineer – Digital Strategy and I...  ...          -1\n",
       "..                                                ...  ...         ...\n",
       "75                                     Data Scientist  ...          -1\n",
       "76                                     Data Scientist  ...          -1\n",
       "77                                     Data Scientist  ...          -1\n",
       "78                               Quantitative Analyst  ...          -1\n",
       "79                 Data Scientist, Security Analytics  ...          -1\n",
       "\n",
       "[80 rows x 14 columns]"
      ]
     },
     "execution_count": 848,
     "metadata": {},
     "output_type": "execute_result"
    }
   ],
   "source": [
    "df"
   ]
  },
  {
   "cell_type": "markdown",
   "metadata": {},
   "source": [
    "### Salary Parsing"
   ]
  },
  {
   "cell_type": "code",
   "execution_count": 849,
   "metadata": {},
   "outputs": [
    {
     "data": {
      "text/plain": [
       "0      CA$58k-CA$90k (Glassdoor Est.)\n",
       "1      CA$58k-CA$90k (Glassdoor Est.)\n",
       "2      CA$58k-CA$90k (Glassdoor Est.)\n",
       "3      CA$58k-CA$90k (Glassdoor Est.)\n",
       "4      CA$58k-CA$90k (Glassdoor Est.)\n",
       "                   ...               \n",
       "75    CA$80k-CA$107k (Glassdoor Est.)\n",
       "76    CA$80k-CA$107k (Glassdoor Est.)\n",
       "77    CA$80k-CA$107k (Glassdoor Est.)\n",
       "78    CA$80k-CA$107k (Glassdoor Est.)\n",
       "79    CA$80k-CA$107k (Glassdoor Est.)\n",
       "Name: Salary Estimate, Length: 80, dtype: object"
      ]
     },
     "execution_count": 849,
     "metadata": {},
     "output_type": "execute_result"
    }
   ],
   "source": [
    "df['Salary Estimate']"
   ]
  },
  {
   "cell_type": "code",
   "execution_count": 850,
   "metadata": {},
   "outputs": [],
   "source": [
    "salary = df['Salary Estimate'].apply(lambda x: x.split('(')[0])"
   ]
  },
  {
   "cell_type": "code",
   "execution_count": 851,
   "metadata": {},
   "outputs": [
    {
     "data": {
      "text/plain": [
       "0      CA$58k-CA$90k \n",
       "1      CA$58k-CA$90k \n",
       "2      CA$58k-CA$90k \n",
       "3      CA$58k-CA$90k \n",
       "4      CA$58k-CA$90k \n",
       "           ...       \n",
       "75    CA$80k-CA$107k \n",
       "76    CA$80k-CA$107k \n",
       "77    CA$80k-CA$107k \n",
       "78    CA$80k-CA$107k \n",
       "79    CA$80k-CA$107k \n",
       "Name: Salary Estimate, Length: 80, dtype: object"
      ]
     },
     "execution_count": 851,
     "metadata": {},
     "output_type": "execute_result"
    }
   ],
   "source": [
    "salary"
   ]
  },
  {
   "cell_type": "code",
   "execution_count": 852,
   "metadata": {},
   "outputs": [],
   "source": [
    "minus_Kd = salary.apply(lambda x: x.replace('k','').replace('$','').replace('CA',''))"
   ]
  },
  {
   "cell_type": "code",
   "execution_count": 853,
   "metadata": {},
   "outputs": [
    {
     "data": {
      "text/plain": [
       "0      58-90 \n",
       "1      58-90 \n",
       "2      58-90 \n",
       "3      58-90 \n",
       "4      58-90 \n",
       "       ...   \n",
       "75    80-107 \n",
       "76    80-107 \n",
       "77    80-107 \n",
       "78    80-107 \n",
       "79    80-107 \n",
       "Name: Salary Estimate, Length: 80, dtype: object"
      ]
     },
     "execution_count": 853,
     "metadata": {},
     "output_type": "execute_result"
    }
   ],
   "source": [
    "minus_Kd"
   ]
  },
  {
   "cell_type": "code",
   "execution_count": 854,
   "metadata": {},
   "outputs": [],
   "source": [
    "df['Hourly'] = df['Salary Estimate'].apply(lambda x: 1 if 'per hour' in x.lower() else 0)\n",
    "df['EmployerProvided'] = df['Salary Estimate'].apply(lambda x: 1 if 'employer provided salary' in x.lower() else 0)"
   ]
  },
  {
   "cell_type": "code",
   "execution_count": 855,
   "metadata": {},
   "outputs": [],
   "source": [
    "min_hr = minus_Kd.apply(lambda x: x.lower().replace('per hour','').replace('employer provided salary',''))"
   ]
  },
  {
   "cell_type": "code",
   "execution_count": 856,
   "metadata": {},
   "outputs": [
    {
     "data": {
      "text/plain": [
       "dtype('float64')"
      ]
     },
     "execution_count": 856,
     "metadata": {},
     "output_type": "execute_result"
    }
   ],
   "source": [
    "df['MinSalary'] = min_hr.apply(lambda x: x.split('-')[0])\n",
    "df['MinSalary'] = pd.to_numeric(df['MinSalary'], errors='coerce')\n",
    "\n",
    "df['MinSalary'].dtype"
   ]
  },
  {
   "cell_type": "code",
   "execution_count": 857,
   "metadata": {},
   "outputs": [
    {
     "data": {
      "text/plain": [
       "dtype('int64')"
      ]
     },
     "execution_count": 857,
     "metadata": {},
     "output_type": "execute_result"
    }
   ],
   "source": [
    "df['MaxSalary'] = min_hr.apply(lambda x: x.split('-')[1])\n",
    "df['MaxSalary'] = pd.to_numeric(df['MaxSalary'], errors='coerce')\n",
    "\n",
    "df['MaxSalary'].dtype"
   ]
  },
  {
   "cell_type": "code",
   "execution_count": 858,
   "metadata": {},
   "outputs": [
    {
     "data": {
      "text/plain": [
       "0     58.0\n",
       "1     58.0\n",
       "2     58.0\n",
       "3     58.0\n",
       "4     58.0\n",
       "      ... \n",
       "75    80.0\n",
       "76    80.0\n",
       "77    80.0\n",
       "78    80.0\n",
       "79    80.0\n",
       "Name: MinSalary, Length: 80, dtype: float64"
      ]
     },
     "execution_count": 858,
     "metadata": {},
     "output_type": "execute_result"
    }
   ],
   "source": [
    "df['MinSalary']"
   ]
  },
  {
   "cell_type": "code",
   "execution_count": 859,
   "metadata": {},
   "outputs": [
    {
     "data": {
      "text/plain": [
       "0      90\n",
       "1      90\n",
       "2      90\n",
       "3      90\n",
       "4      90\n",
       "     ... \n",
       "75    107\n",
       "76    107\n",
       "77    107\n",
       "78    107\n",
       "79    107\n",
       "Name: MaxSalary, Length: 80, dtype: int64"
      ]
     },
     "execution_count": 859,
     "metadata": {},
     "output_type": "execute_result"
    }
   ],
   "source": [
    "df['MaxSalary']"
   ]
  },
  {
   "cell_type": "code",
   "execution_count": 860,
   "metadata": {},
   "outputs": [],
   "source": [
    "df['AvgSalary'] = (df['MinSalary'] + df['MaxSalary'])/2"
   ]
  },
  {
   "cell_type": "code",
   "execution_count": 861,
   "metadata": {},
   "outputs": [
    {
     "name": "stdout",
     "output_type": "stream",
     "text": [
      "Average Salary is: $ 81.8 k\n"
     ]
    }
   ],
   "source": [
    "print('Average Salary is: $', df['AvgSalary'].mean(),'k')"
   ]
  },
  {
   "cell_type": "code",
   "execution_count": 862,
   "metadata": {},
   "outputs": [
    {
     "data": {
      "text/html": [
       "<div>\n",
       "<style scoped>\n",
       "    .dataframe tbody tr th:only-of-type {\n",
       "        vertical-align: middle;\n",
       "    }\n",
       "\n",
       "    .dataframe tbody tr th {\n",
       "        vertical-align: top;\n",
       "    }\n",
       "\n",
       "    .dataframe thead th {\n",
       "        text-align: right;\n",
       "    }\n",
       "</style>\n",
       "<table border=\"1\" class=\"dataframe\">\n",
       "  <thead>\n",
       "    <tr style=\"text-align: right;\">\n",
       "      <th></th>\n",
       "      <th>MinSalary</th>\n",
       "      <th>MaxSalary</th>\n",
       "    </tr>\n",
       "  </thead>\n",
       "  <tbody>\n",
       "    <tr>\n",
       "      <td>0</td>\n",
       "      <td>58.0</td>\n",
       "      <td>90</td>\n",
       "    </tr>\n",
       "    <tr>\n",
       "      <td>1</td>\n",
       "      <td>58.0</td>\n",
       "      <td>90</td>\n",
       "    </tr>\n",
       "    <tr>\n",
       "      <td>2</td>\n",
       "      <td>58.0</td>\n",
       "      <td>90</td>\n",
       "    </tr>\n",
       "    <tr>\n",
       "      <td>3</td>\n",
       "      <td>58.0</td>\n",
       "      <td>90</td>\n",
       "    </tr>\n",
       "    <tr>\n",
       "      <td>4</td>\n",
       "      <td>58.0</td>\n",
       "      <td>90</td>\n",
       "    </tr>\n",
       "    <tr>\n",
       "      <td>...</td>\n",
       "      <td>...</td>\n",
       "      <td>...</td>\n",
       "    </tr>\n",
       "    <tr>\n",
       "      <td>75</td>\n",
       "      <td>80.0</td>\n",
       "      <td>107</td>\n",
       "    </tr>\n",
       "    <tr>\n",
       "      <td>76</td>\n",
       "      <td>80.0</td>\n",
       "      <td>107</td>\n",
       "    </tr>\n",
       "    <tr>\n",
       "      <td>77</td>\n",
       "      <td>80.0</td>\n",
       "      <td>107</td>\n",
       "    </tr>\n",
       "    <tr>\n",
       "      <td>78</td>\n",
       "      <td>80.0</td>\n",
       "      <td>107</td>\n",
       "    </tr>\n",
       "    <tr>\n",
       "      <td>79</td>\n",
       "      <td>80.0</td>\n",
       "      <td>107</td>\n",
       "    </tr>\n",
       "  </tbody>\n",
       "</table>\n",
       "<p>80 rows × 2 columns</p>\n",
       "</div>"
      ],
      "text/plain": [
       "    MinSalary  MaxSalary\n",
       "0        58.0         90\n",
       "1        58.0         90\n",
       "2        58.0         90\n",
       "3        58.0         90\n",
       "4        58.0         90\n",
       "..        ...        ...\n",
       "75       80.0        107\n",
       "76       80.0        107\n",
       "77       80.0        107\n",
       "78       80.0        107\n",
       "79       80.0        107\n",
       "\n",
       "[80 rows x 2 columns]"
      ]
     },
     "execution_count": 862,
     "metadata": {},
     "output_type": "execute_result"
    }
   ],
   "source": [
    "df[['MinSalary', 'MaxSalary']]"
   ]
  },
  {
   "cell_type": "markdown",
   "metadata": {},
   "source": [
    "### Cleaning Company Name"
   ]
  },
  {
   "cell_type": "code",
   "execution_count": 863,
   "metadata": {},
   "outputs": [],
   "source": [
    "df['CompanyText'] = df['Company Name'].apply(lambda x: x.split(\"\\n\")[0])\n"
   ]
  },
  {
   "cell_type": "markdown",
   "metadata": {},
   "source": [
    "### Cleaning Company Location"
   ]
  },
  {
   "cell_type": "code",
   "execution_count": 864,
   "metadata": {},
   "outputs": [
    {
     "data": {
      "text/plain": [
       "Toronto        24\n",
       "Montreal       17\n",
       "Vancouver       9\n",
       "Ottawa          6\n",
       "Canada          4\n",
       "Ontario         4\n",
       "Calgary         3\n",
       "Hamilton        2\n",
       "Kingston        1\n",
       "Laval           1\n",
       "Fredericton     1\n",
       "Remote          1\n",
       "Moncton         1\n",
       "Edmonton        1\n",
       "Dartmouth       1\n",
       "Halifax         1\n",
       "Burnaby         1\n",
       "Victoria        1\n",
       "St. John's      1\n",
       "Name: Location, dtype: int64"
      ]
     },
     "execution_count": 864,
     "metadata": {},
     "output_type": "execute_result"
    }
   ],
   "source": [
    "df['Location'].value_counts()"
   ]
  },
  {
   "cell_type": "code",
   "execution_count": 865,
   "metadata": {},
   "outputs": [
    {
     "data": {
      "text/plain": [
       "<matplotlib.axes._subplots.AxesSubplot at 0x2b7cba99f48>"
      ]
     },
     "execution_count": 865,
     "metadata": {},
     "output_type": "execute_result"
    },
    {
     "data": {
      "image/png": "[encoded data removed]",
      "text/plain": [
       "<Figure size 432x288 with 1 Axes>"
      ]
     },
     "metadata": {
      "needs_background": "light"
     },
     "output_type": "display_data"
    }
   ],
   "source": [
    "sns.countplot(x='Location', data=df, order=pd.value_counts(df['Location']).iloc[:5].index)"
   ]
  },
  {
   "cell_type": "code",
   "execution_count": 866,
   "metadata": {},
   "outputs": [],
   "source": [
    "df['Province'] = df['Location'].apply(lambda x: 'ON' if 'toronto' in x.lower() \n",
    "    else ('QC' if 'montreal' in x.lower() \n",
    "    else ('QC' if 'montreal' in x.lower() \n",
    "    else ('BC' if 'vancouver' in x.lower() \n",
    "    else ('Unknown' if 'canada' in x.lower() \n",
    "    else ('ON' if 'ontario' in x.lower() \n",
    "    else ('AB' if 'calgary' in x.lower() \n",
    "    else ('ON' if 'hamilton' in x.lower() \n",
    "    else ('ON' if 'kingston' in x.lower() \n",
    "    else ('QC' if 'laval' in x.lower() \n",
    "    else ('NB' if 'fredericton' in x.lower() \n",
    "    else ('Unknown' if 'remote' in x.lower() \n",
    "    else ('NB' if 'moncton' in x.lower() \n",
    "    else ('AB' if 'edmonton' in x.lower() \n",
    "    else ('NS' if 'dartmouth' in x.lower() \n",
    "    else ('NS' if 'halifax' in x.lower() \n",
    "    else ('BC' if 'burnaby' in x.lower() \n",
    "    else ('BC' if 'victoria' in x.lower() \n",
    "    else ('NL' if \"st. john's\" in x.lower() \n",
    "    else ('ON' if 'ottawa' in x.lower() \n",
    "    else 0))))))))))))))))))))"
   ]
  },
  {
   "cell_type": "code",
   "execution_count": 867,
   "metadata": {},
   "outputs": [
    {
     "data": {
      "text/plain": [
       "ON         37\n",
       "QC         18\n",
       "BC         11\n",
       "Unknown     5\n",
       "AB          4\n",
       "NB          2\n",
       "NS          2\n",
       "NL          1\n",
       "Name: Province, dtype: int64"
      ]
     },
     "execution_count": 867,
     "metadata": {},
     "output_type": "execute_result"
    }
   ],
   "source": [
    "df['Province'].value_counts()"
   ]
  },
  {
   "cell_type": "code",
   "execution_count": 868,
   "metadata": {},
   "outputs": [
    {
     "data": {
      "text/plain": [
       "<matplotlib.axes._subplots.AxesSubplot at 0x2b7cbafa888>"
      ]
     },
     "execution_count": 868,
     "metadata": {},
     "output_type": "execute_result"
    },
    {
     "data": {
      "image/png": "[encoded data removed]",
      "text/plain": [
       "<Figure size 432x288 with 1 Axes>"
      ]
     },
     "metadata": {
      "needs_background": "light"
     },
     "output_type": "display_data"
    }
   ],
   "source": [
    "sns.countplot(x='Province', data=df)"
   ]
  },
  {
   "cell_type": "markdown",
   "metadata": {},
   "source": [
    "### Age of Company"
   ]
  },
  {
   "cell_type": "code",
   "execution_count": 869,
   "metadata": {},
   "outputs": [],
   "source": [
    "df['Age'] = df.Founded.apply(lambda x: x if x <1 else 2020-x)"
   ]
  },
  {
   "cell_type": "markdown",
   "metadata": {},
   "source": [
    "### Parse out Keywords"
   ]
  },
  {
   "cell_type": "markdown",
   "metadata": {},
   "source": [
    "Common Keywords to parse:\n",
    "- Python\n",
    "- R Studio\n",
    "- Spark\n",
    "- AWS\n",
    "- Excel    "
   ]
  },
  {
   "cell_type": "code",
   "execution_count": 870,
   "metadata": {},
   "outputs": [
    {
     "data": {
      "text/plain": [
       "1    66\n",
       "0    14\n",
       "Name: Python, dtype: int64"
      ]
     },
     "execution_count": 870,
     "metadata": {},
     "output_type": "execute_result"
    }
   ],
   "source": [
    "df['Python'] = df['Job Description'].apply(lambda x: 1 if 'python' in x.lower() else 0)\n",
    "df.Python.value_counts()"
   ]
  },
  {
   "cell_type": "code",
   "execution_count": 871,
   "metadata": {},
   "outputs": [
    {
     "data": {
      "text/plain": [
       "1    80\n",
       "Name: RStudio, dtype: int64"
      ]
     },
     "execution_count": 871,
     "metadata": {},
     "output_type": "execute_result"
    }
   ],
   "source": [
    "df['RStudio'] = df['Job Description'].apply(lambda x: 1 if 'r studio' or 'r-studio' in x.lower() else 0)\n",
    "df.RStudio.value_counts()"
   ]
  },
  {
   "cell_type": "code",
   "execution_count": 872,
   "metadata": {},
   "outputs": [
    {
     "data": {
      "text/plain": [
       "0    50\n",
       "1    30\n",
       "Name: Spark, dtype: int64"
      ]
     },
     "execution_count": 872,
     "metadata": {},
     "output_type": "execute_result"
    }
   ],
   "source": [
    "df['Spark'] = df['Job Description'].apply(lambda x: 1 if 'spark' in x.lower() else 0)\n",
    "df.Spark.value_counts()"
   ]
  },
  {
   "cell_type": "code",
   "execution_count": 873,
   "metadata": {},
   "outputs": [
    {
     "data": {
      "text/plain": [
       "0    62\n",
       "1    18\n",
       "Name: AWS, dtype: int64"
      ]
     },
     "execution_count": 873,
     "metadata": {},
     "output_type": "execute_result"
    }
   ],
   "source": [
    "df['AWS'] = df['Job Description'].apply(lambda x: 1 if 'aws' in x.lower() else 0)\n",
    "df.AWS.value_counts()"
   ]
  },
  {
   "cell_type": "code",
   "execution_count": 889,
   "metadata": {},
   "outputs": [
    {
     "data": {
      "text/plain": [
       "0    44\n",
       "1    36\n",
       "Name: Excel, dtype: int64"
      ]
     },
     "execution_count": 889,
     "metadata": {},
     "output_type": "execute_result"
    }
   ],
   "source": [
    "df['Excel'] = df['Job Description'].apply(lambda x: 1 if 'excel' in x.lower() else 0)\n",
    "df.Excel.value_counts()"
   ]
  },
  {
   "cell_type": "code",
   "execution_count": 890,
   "metadata": {},
   "outputs": [
    {
     "data": {
      "image/png": "[encoded data removed]",
      "text/plain": [
       "<Figure size 432x288 with 1 Axes>"
      ]
     },
     "metadata": {
      "needs_background": "light"
     },
     "output_type": "display_data"
    },
    {
     "data": {
      "image/png": "[encoded data removed]",
      "text/plain": [
       "<Figure size 432x288 with 1 Axes>"
      ]
     },
     "metadata": {
      "needs_background": "light"
     },
     "output_type": "display_data"
    },
    {
     "data": {
      "image/png": "[encoded data removed]",
      "text/plain": [
       "<Figure size 432x288 with 1 Axes>"
      ]
     },
     "metadata": {
      "needs_background": "light"
     },
     "output_type": "display_data"
    },
    {
     "data": {
      "image/png": "[encoded data removed]",
      "text/plain": [
       "<Figure size 432x288 with 1 Axes>"
      ]
     },
     "metadata": {
      "needs_background": "light"
     },
     "output_type": "display_data"
    },
    {
     "data": {
      "image/png": "[encoded data removed]",
      "text/plain": [
       "<Figure size 432x288 with 1 Axes>"
      ]
     },
     "metadata": {
      "needs_background": "light"
     },
     "output_type": "display_data"
    }
   ],
   "source": [
    "df_keywords = df[['Python', 'RStudio', 'Spark', 'AWS', 'Excel']]\n",
    "\n",
    "for i in df_keywords.columns:\n",
    "    key_num = df_keywords[i].value_counts()\n",
    "    sns.barplot(x=key_num.index, y=key_num)\n",
    "    plt.show()"
   ]
  },
  {
   "cell_type": "markdown",
   "metadata": {},
   "source": [
    "### Simplify Title and Seniority"
   ]
  },
  {
   "cell_type": "code",
   "execution_count": 875,
   "metadata": {},
   "outputs": [],
   "source": [
    "def title_simplifier(title):\n",
    "    if 'data scientist' in title.lower():\n",
    "        return 'data scientist'\n",
    "    elif 'data engineer' in title.lower():\n",
    "        return 'data engineer'\n",
    "    elif 'analyst' in title.lower():\n",
    "        return 'analyst'\n",
    "    elif 'machine learning' in title.lower():\n",
    "        return 'MLE'\n",
    "    elif 'manager' in title.lower():\n",
    "        return 'manager'\n",
    "    elif 'director' in title.lower():\n",
    "        return 'director'\n",
    "    else:\n",
    "        return 'na'\n",
    "    \n",
    "def seniority (title):\n",
    "    if 'sr' in title.lower() or 'senior' in title.lower() or 'sr.' in title.lower() or 'lead' in title.lower() or 'principal' in title.lower():\n",
    "        return 'senior'\n",
    "    elif 'jr' in title.lower() or 'junior' in title.lower() or 'associate' in title.lower():\n",
    "        return 'jr'\n",
    "    else:\n",
    "        return 'na'"
   ]
  },
  {
   "cell_type": "code",
   "execution_count": 876,
   "metadata": {},
   "outputs": [],
   "source": [
    "df['JobSimplified'] = df['Job Title'].apply(title_simplifier)"
   ]
  },
  {
   "cell_type": "code",
   "execution_count": 877,
   "metadata": {},
   "outputs": [
    {
     "data": {
      "text/plain": [
       "data scientist    65\n",
       "analyst            6\n",
       "data engineer      5\n",
       "na                 4\n",
       "Name: JobSimplified, dtype: int64"
      ]
     },
     "execution_count": 877,
     "metadata": {},
     "output_type": "execute_result"
    }
   ],
   "source": [
    "df['JobSimplified'].value_counts()"
   ]
  },
  {
   "cell_type": "code",
   "execution_count": 878,
   "metadata": {},
   "outputs": [],
   "source": [
    "df['Seniority'] = df['Job Title'].apply(seniority)"
   ]
  },
  {
   "cell_type": "code",
   "execution_count": 879,
   "metadata": {},
   "outputs": [
    {
     "data": {
      "text/plain": [
       "na        76\n",
       "jr         2\n",
       "senior     2\n",
       "Name: Seniority, dtype: int64"
      ]
     },
     "execution_count": 879,
     "metadata": {},
     "output_type": "execute_result"
    }
   ],
   "source": [
    "df['Seniority'].value_counts()"
   ]
  },
  {
   "cell_type": "code",
   "execution_count": 880,
   "metadata": {},
   "outputs": [
    {
     "data": {
      "text/plain": [
       "0     4502\n",
       "1     3982\n",
       "2     6532\n",
       "3     3632\n",
       "4     3112\n",
       "      ... \n",
       "75    2793\n",
       "76    3088\n",
       "77    3088\n",
       "78    3103\n",
       "79    2802\n",
       "Name: DescLength, Length: 80, dtype: int64"
      ]
     },
     "execution_count": 880,
     "metadata": {},
     "output_type": "execute_result"
    }
   ],
   "source": [
    "df['DescLength'] = df['Job Description'].apply(lambda x: len(x))\n",
    "df['DescLength']"
   ]
  },
  {
   "cell_type": "code",
   "execution_count": 881,
   "metadata": {},
   "outputs": [],
   "source": [
    "# Split data if dataframe shows competitors\n",
    "\n",
    "#df['Num Competitors'] = df['Competitors'].apply(lambda x: len(x.split(',')) if x != '-1' else 0)"
   ]
  },
  {
   "cell_type": "markdown",
   "metadata": {},
   "source": [
    "### Hourly Wage to Annual"
   ]
  },
  {
   "cell_type": "code",
   "execution_count": 882,
   "metadata": {},
   "outputs": [],
   "source": [
    "# For data if it is in hourly\n",
    "\n",
    "df['MinSalary'] = df.apply(lambda x: x.MinSalary*2 if x.Hourly==1 else x.MinSalary, axis=1)\n",
    "df['MaxSalary'] = df.apply(lambda x: x.MaxSalary*2 if x.Hourly==1 else x.MaxSalary, axis=1)"
   ]
  },
  {
   "cell_type": "code",
   "execution_count": 883,
   "metadata": {},
   "outputs": [
    {
     "data": {
      "text/html": [
       "<div>\n",
       "<style scoped>\n",
       "    .dataframe tbody tr th:only-of-type {\n",
       "        vertical-align: middle;\n",
       "    }\n",
       "\n",
       "    .dataframe tbody tr th {\n",
       "        vertical-align: top;\n",
       "    }\n",
       "\n",
       "    .dataframe thead th {\n",
       "        text-align: right;\n",
       "    }\n",
       "</style>\n",
       "<table border=\"1\" class=\"dataframe\">\n",
       "  <thead>\n",
       "    <tr style=\"text-align: right;\">\n",
       "      <th></th>\n",
       "      <th>MinSalary</th>\n",
       "      <th>MaxSalary</th>\n",
       "    </tr>\n",
       "  </thead>\n",
       "  <tbody>\n",
       "    <tr>\n",
       "      <td>0</td>\n",
       "      <td>58.0</td>\n",
       "      <td>90</td>\n",
       "    </tr>\n",
       "    <tr>\n",
       "      <td>1</td>\n",
       "      <td>58.0</td>\n",
       "      <td>90</td>\n",
       "    </tr>\n",
       "    <tr>\n",
       "      <td>2</td>\n",
       "      <td>58.0</td>\n",
       "      <td>90</td>\n",
       "    </tr>\n",
       "    <tr>\n",
       "      <td>3</td>\n",
       "      <td>58.0</td>\n",
       "      <td>90</td>\n",
       "    </tr>\n",
       "    <tr>\n",
       "      <td>4</td>\n",
       "      <td>58.0</td>\n",
       "      <td>90</td>\n",
       "    </tr>\n",
       "    <tr>\n",
       "      <td>...</td>\n",
       "      <td>...</td>\n",
       "      <td>...</td>\n",
       "    </tr>\n",
       "    <tr>\n",
       "      <td>75</td>\n",
       "      <td>80.0</td>\n",
       "      <td>107</td>\n",
       "    </tr>\n",
       "    <tr>\n",
       "      <td>76</td>\n",
       "      <td>80.0</td>\n",
       "      <td>107</td>\n",
       "    </tr>\n",
       "    <tr>\n",
       "      <td>77</td>\n",
       "      <td>80.0</td>\n",
       "      <td>107</td>\n",
       "    </tr>\n",
       "    <tr>\n",
       "      <td>78</td>\n",
       "      <td>80.0</td>\n",
       "      <td>107</td>\n",
       "    </tr>\n",
       "    <tr>\n",
       "      <td>79</td>\n",
       "      <td>80.0</td>\n",
       "      <td>107</td>\n",
       "    </tr>\n",
       "  </tbody>\n",
       "</table>\n",
       "<p>80 rows × 2 columns</p>\n",
       "</div>"
      ],
      "text/plain": [
       "    MinSalary  MaxSalary\n",
       "0        58.0         90\n",
       "1        58.0         90\n",
       "2        58.0         90\n",
       "3        58.0         90\n",
       "4        58.0         90\n",
       "..        ...        ...\n",
       "75       80.0        107\n",
       "76       80.0        107\n",
       "77       80.0        107\n",
       "78       80.0        107\n",
       "79       80.0        107\n",
       "\n",
       "[80 rows x 2 columns]"
      ]
     },
     "execution_count": 883,
     "metadata": {},
     "output_type": "execute_result"
    }
   ],
   "source": [
    "df[['MinSalary','MaxSalary']]"
   ]
  },
  {
   "cell_type": "markdown",
   "metadata": {},
   "source": [
    "### Output to CSV"
   ]
  },
  {
   "cell_type": "code",
   "execution_count": 884,
   "metadata": {},
   "outputs": [],
   "source": [
    "df.to_csv('salary_data_clean.csv', index=False)"
   ]
  }
 ],
 "metadata": {
  "kernelspec": {
   "display_name": "Python 3",
   "language": "python",
   "name": "python3"
  },
  "language_info": {
   "codemirror_mode": {
    "name": "ipython",
    "version": 3
   },
   "file_extension": ".py",
   "mimetype": "text/x-python",
   "name": "python",
   "nbconvert_exporter": "python",
   "pygments_lexer": "ipython3",
   "version": "3.7.4"
  }
 },
 "nbformat": 4,
 "nbformat_minor": 4
}
