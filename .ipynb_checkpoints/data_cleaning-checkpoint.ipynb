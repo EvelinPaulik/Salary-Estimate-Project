{
 "cells": [
  {
   "cell_type": "markdown",
   "metadata": {},
   "source": [
    "# Data Cleaning"
   ]
  },
  {
   "cell_type": "code",
   "execution_count": 334,
   "metadata": {},
   "outputs": [],
   "source": [
    "import pandas as pd\n",
    "import matplotlib.pyplot as plt\n",
    "import seaborn as sns\n",
    "%matplotlib inline\n",
    "\n",
    "df = pd.read_csv('glassdoor_jobs.csv')"
   ]
  },
  {
   "cell_type": "code",
   "execution_count": 335,
   "metadata": {},
   "outputs": [
    {
     "data": {
      "text/html": [
       "<div>\n",
       "<style scoped>\n",
       "    .dataframe tbody tr th:only-of-type {\n",
       "        vertical-align: middle;\n",
       "    }\n",
       "\n",
       "    .dataframe tbody tr th {\n",
       "        vertical-align: top;\n",
       "    }\n",
       "\n",
       "    .dataframe thead th {\n",
       "        text-align: right;\n",
       "    }\n",
       "</style>\n",
       "<table border=\"1\" class=\"dataframe\">\n",
       "  <thead>\n",
       "    <tr style=\"text-align: right;\">\n",
       "      <th></th>\n",
       "      <th>Job Title</th>\n",
       "      <th>Salary Estimate</th>\n",
       "      <th>Job Description</th>\n",
       "      <th>Rating</th>\n",
       "      <th>Company Name</th>\n",
       "      <th>Location</th>\n",
       "      <th>Headquarters</th>\n",
       "      <th>Size</th>\n",
       "      <th>Founded</th>\n",
       "      <th>Type of ownership</th>\n",
       "      <th>Industry</th>\n",
       "      <th>Sector</th>\n",
       "      <th>Revenue</th>\n",
       "      <th>Competitors</th>\n",
       "    </tr>\n",
       "  </thead>\n",
       "  <tbody>\n",
       "    <tr>\n",
       "      <td>0</td>\n",
       "      <td>Senior Data Scientist</td>\n",
       "      <td>CA$58k-CA$90k (Glassdoor Est.)</td>\n",
       "      <td>Myplanet is looking for a Senior Data Scientis...</td>\n",
       "      <td>4.6</td>\n",
       "      <td>Myplanet\\n4.6</td>\n",
       "      <td>Toronto</td>\n",
       "      <td>-1</td>\n",
       "      <td>51 to 200 Employees</td>\n",
       "      <td>2009</td>\n",
       "      <td>Company - Private</td>\n",
       "      <td>Enterprise Software &amp; Network Solutions</td>\n",
       "      <td>Information Technology</td>\n",
       "      <td>Unknown / Non-Applicable</td>\n",
       "      <td>-1</td>\n",
       "    </tr>\n",
       "    <tr>\n",
       "      <td>1</td>\n",
       "      <td>Marketing Data Scientist</td>\n",
       "      <td>CA$58k-CA$90k (Glassdoor Est.)</td>\n",
       "      <td>Top Hat is looking for a technical Marketing D...</td>\n",
       "      <td>3.5</td>\n",
       "      <td>Top Hat\\n3.5</td>\n",
       "      <td>Toronto</td>\n",
       "      <td>-1</td>\n",
       "      <td>201 to 500 Employees</td>\n",
       "      <td>2009</td>\n",
       "      <td>Company - Private</td>\n",
       "      <td>Colleges &amp; Universities</td>\n",
       "      <td>Education</td>\n",
       "      <td>$25 to $50 million (USD)</td>\n",
       "      <td>-1</td>\n",
       "    </tr>\n",
       "    <tr>\n",
       "      <td>2</td>\n",
       "      <td>Data Analyst, NAV Recon</td>\n",
       "      <td>CA$58k-CA$90k (Glassdoor Est.)</td>\n",
       "      <td>Data Analyst, NAV Recon\\nConnor, Clark &amp; Lunn ...</td>\n",
       "      <td>4.3</td>\n",
       "      <td>Connor, Clark &amp; Lunn Financial Group\\n4.3</td>\n",
       "      <td>Vancouver</td>\n",
       "      <td>-1</td>\n",
       "      <td>201 to 500 Employees</td>\n",
       "      <td>1982</td>\n",
       "      <td>Company - Private</td>\n",
       "      <td>Investment Banking &amp; Asset Management</td>\n",
       "      <td>Finance</td>\n",
       "      <td>$25 to $50 million (USD)</td>\n",
       "      <td>-1</td>\n",
       "    </tr>\n",
       "    <tr>\n",
       "      <td>3</td>\n",
       "      <td>Data Mining Specialist</td>\n",
       "      <td>CA$58k-CA$90k (Glassdoor Est.)</td>\n",
       "      <td>What we do\\nInterested in solving problems, en...</td>\n",
       "      <td>5.0</td>\n",
       "      <td>Global Spatial Technology Solutions\\n5.0</td>\n",
       "      <td>Dartmouth</td>\n",
       "      <td>-1</td>\n",
       "      <td>1 to 50 Employees</td>\n",
       "      <td>-1</td>\n",
       "      <td>Unknown</td>\n",
       "      <td>-1</td>\n",
       "      <td>-1</td>\n",
       "      <td>Less than $1 million (USD)</td>\n",
       "      <td>-1</td>\n",
       "    </tr>\n",
       "    <tr>\n",
       "      <td>4</td>\n",
       "      <td>Intern, Data Engineer – Digital Strategy and I...</td>\n",
       "      <td>CA$58k-CA$90k (Glassdoor Est.)</td>\n",
       "      <td>EXPERIENCE THE EDGE\\n\\n\\nWe’re one of Canada’s...</td>\n",
       "      <td>4.4</td>\n",
       "      <td>PSP Investments\\n4.4</td>\n",
       "      <td>Montreal</td>\n",
       "      <td>-1</td>\n",
       "      <td>501 to 1000 Employees</td>\n",
       "      <td>1999</td>\n",
       "      <td>Other Organization</td>\n",
       "      <td>Investment Banking &amp; Asset Management</td>\n",
       "      <td>Finance</td>\n",
       "      <td>Unknown / Non-Applicable</td>\n",
       "      <td>-1</td>\n",
       "    </tr>\n",
       "    <tr>\n",
       "      <td>...</td>\n",
       "      <td>...</td>\n",
       "      <td>...</td>\n",
       "      <td>...</td>\n",
       "      <td>...</td>\n",
       "      <td>...</td>\n",
       "      <td>...</td>\n",
       "      <td>...</td>\n",
       "      <td>...</td>\n",
       "      <td>...</td>\n",
       "      <td>...</td>\n",
       "      <td>...</td>\n",
       "      <td>...</td>\n",
       "      <td>...</td>\n",
       "      <td>...</td>\n",
       "    </tr>\n",
       "    <tr>\n",
       "      <td>75</td>\n",
       "      <td>Data Scientist</td>\n",
       "      <td>CA$80k-CA$107k (Glassdoor Est.)</td>\n",
       "      <td>Celtx is an ambitious and fast growing softwar...</td>\n",
       "      <td>-1.0</td>\n",
       "      <td>Celtx Inc</td>\n",
       "      <td>St. John's</td>\n",
       "      <td>-1</td>\n",
       "      <td>1 to 50 Employees</td>\n",
       "      <td>-1</td>\n",
       "      <td>Company - Private</td>\n",
       "      <td>-1</td>\n",
       "      <td>-1</td>\n",
       "      <td>Less than $1 million (USD)</td>\n",
       "      <td>-1</td>\n",
       "    </tr>\n",
       "    <tr>\n",
       "      <td>76</td>\n",
       "      <td>Data Scientist</td>\n",
       "      <td>CA$80k-CA$107k (Glassdoor Est.)</td>\n",
       "      <td>Minimum Qualifications\\nMaster's degree in a q...</td>\n",
       "      <td>-1.0</td>\n",
       "      <td>Logic Plum</td>\n",
       "      <td>Ontario</td>\n",
       "      <td>-1</td>\n",
       "      <td>-1</td>\n",
       "      <td>-1</td>\n",
       "      <td>-1</td>\n",
       "      <td>-1</td>\n",
       "      <td>-1</td>\n",
       "      <td>-1</td>\n",
       "      <td>-1</td>\n",
       "    </tr>\n",
       "    <tr>\n",
       "      <td>77</td>\n",
       "      <td>Data Scientist</td>\n",
       "      <td>CA$80k-CA$107k (Glassdoor Est.)</td>\n",
       "      <td>Minimum Qualifications\\nMaster's degree in a q...</td>\n",
       "      <td>-1.0</td>\n",
       "      <td>Logic Plum</td>\n",
       "      <td>Ontario</td>\n",
       "      <td>-1</td>\n",
       "      <td>-1</td>\n",
       "      <td>-1</td>\n",
       "      <td>-1</td>\n",
       "      <td>-1</td>\n",
       "      <td>-1</td>\n",
       "      <td>-1</td>\n",
       "      <td>-1</td>\n",
       "    </tr>\n",
       "    <tr>\n",
       "      <td>78</td>\n",
       "      <td>Quantitative Analyst</td>\n",
       "      <td>CA$80k-CA$107k (Glassdoor Est.)</td>\n",
       "      <td>Quantitative Analyst\\nEmployment Duration\\n\\n\\...</td>\n",
       "      <td>4.1</td>\n",
       "      <td>Simon Fraser University\\n4.1</td>\n",
       "      <td>Burnaby</td>\n",
       "      <td>-1</td>\n",
       "      <td>1001 to 5000 Employees</td>\n",
       "      <td>1965</td>\n",
       "      <td>College / University</td>\n",
       "      <td>Colleges &amp; Universities</td>\n",
       "      <td>Education</td>\n",
       "      <td>$500 million to $1 billion (USD)</td>\n",
       "      <td>-1</td>\n",
       "    </tr>\n",
       "    <tr>\n",
       "      <td>79</td>\n",
       "      <td>Data Scientist, Security Analytics</td>\n",
       "      <td>CA$80k-CA$107k (Glassdoor Est.)</td>\n",
       "      <td>Data Scientist, Security Analytics\\n\\n\\nEagle ...</td>\n",
       "      <td>4.0</td>\n",
       "      <td>Eagle Professional Resources\\n4.0</td>\n",
       "      <td>Toronto</td>\n",
       "      <td>-1</td>\n",
       "      <td>51 to 200 Employees</td>\n",
       "      <td>1996</td>\n",
       "      <td>Company - Private</td>\n",
       "      <td>Staffing &amp; Outsourcing</td>\n",
       "      <td>Business Services</td>\n",
       "      <td>$100 to $500 million (USD)</td>\n",
       "      <td>-1</td>\n",
       "    </tr>\n",
       "  </tbody>\n",
       "</table>\n",
       "<p>80 rows × 14 columns</p>\n",
       "</div>"
      ],
      "text/plain": [
       "                                            Job Title  ... Competitors\n",
       "0                               Senior Data Scientist  ...          -1\n",
       "1                            Marketing Data Scientist  ...          -1\n",
       "2                             Data Analyst, NAV Recon  ...          -1\n",
       "3                              Data Mining Specialist  ...          -1\n",
       "4   Intern, Data Engineer – Digital Strategy and I...  ...          -1\n",
       "..                                                ...  ...         ...\n",
       "75                                     Data Scientist  ...          -1\n",
       "76                                     Data Scientist  ...          -1\n",
       "77                                     Data Scientist  ...          -1\n",
       "78                               Quantitative Analyst  ...          -1\n",
       "79                 Data Scientist, Security Analytics  ...          -1\n",
       "\n",
       "[80 rows x 14 columns]"
      ]
     },
     "execution_count": 335,
     "metadata": {},
     "output_type": "execute_result"
    }
   ],
   "source": [
    "df"
   ]
  },
  {
   "cell_type": "markdown",
   "metadata": {},
   "source": [
    "### Salary Parsing"
   ]
  },
  {
   "cell_type": "code",
   "execution_count": 336,
   "metadata": {},
   "outputs": [],
   "source": [
    "# Company name text only\n",
    "# State field\n",
    "# Age of company\n",
    "# Job description parsing\n",
    "\n",
    "df = df[df['Salary Estimate'] !='-1']"
   ]
  },
  {
   "cell_type": "code",
   "execution_count": 337,
   "metadata": {},
   "outputs": [],
   "source": [
    "salary = df['Salary Estimate'].apply(lambda x: x.split('(')[0])"
   ]
  },
  {
   "cell_type": "code",
   "execution_count": 338,
   "metadata": {},
   "outputs": [
    {
     "data": {
      "text/plain": [
       "0      CA$58k-CA$90k \n",
       "1      CA$58k-CA$90k \n",
       "2      CA$58k-CA$90k \n",
       "3      CA$58k-CA$90k \n",
       "4      CA$58k-CA$90k \n",
       "           ...       \n",
       "75    CA$80k-CA$107k \n",
       "76    CA$80k-CA$107k \n",
       "77    CA$80k-CA$107k \n",
       "78    CA$80k-CA$107k \n",
       "79    CA$80k-CA$107k \n",
       "Name: Salary Estimate, Length: 80, dtype: object"
      ]
     },
     "execution_count": 338,
     "metadata": {},
     "output_type": "execute_result"
    }
   ],
   "source": [
    "salary"
   ]
  },
  {
   "cell_type": "code",
   "execution_count": 339,
   "metadata": {},
   "outputs": [],
   "source": [
    "minus_Kd = salary.apply(lambda x: x.replace('k','').replace('$','').replace('CA',''))"
   ]
  },
  {
   "cell_type": "code",
   "execution_count": 340,
   "metadata": {},
   "outputs": [
    {
     "data": {
      "text/plain": [
       "0      58-90 \n",
       "1      58-90 \n",
       "2      58-90 \n",
       "3      58-90 \n",
       "4      58-90 \n",
       "       ...   \n",
       "75    80-107 \n",
       "76    80-107 \n",
       "77    80-107 \n",
       "78    80-107 \n",
       "79    80-107 \n",
       "Name: Salary Estimate, Length: 80, dtype: object"
      ]
     },
     "execution_count": 340,
     "metadata": {},
     "output_type": "execute_result"
    }
   ],
   "source": [
    "minus_Kd"
   ]
  },
  {
   "cell_type": "code",
   "execution_count": 341,
   "metadata": {},
   "outputs": [],
   "source": [
    "df['Hourly'] = df['Salary Estimate'].apply(lambda x: 1 if 'per hour' in x.lower() else 0)\n",
    "df['Employer Provided'] = df['Salary Estimate'].apply(lambda x: 1 if 'employer provided salary' in x.lower() else 0)"
   ]
  },
  {
   "cell_type": "code",
   "execution_count": 342,
   "metadata": {},
   "outputs": [],
   "source": [
    "min_hr = minus_Kd.apply(lambda x: x.lower().replace('per hour','').replace('employer provided salary',''))"
   ]
  },
  {
   "cell_type": "code",
   "execution_count": 343,
   "metadata": {},
   "outputs": [
    {
     "data": {
      "text/plain": [
       "dtype('float64')"
      ]
     },
     "execution_count": 343,
     "metadata": {},
     "output_type": "execute_result"
    }
   ],
   "source": [
    "df['Min Salary'] = min_hr.apply(lambda x: x.split('-')[0])\n",
    "df['Min Salary'] = pd.to_numeric(df['Min Salary'], errors='coerce')\n",
    "\n",
    "df['Min Salary'].dtype"
   ]
  },
  {
   "cell_type": "code",
   "execution_count": 344,
   "metadata": {},
   "outputs": [
    {
     "data": {
      "text/plain": [
       "dtype('int64')"
      ]
     },
     "execution_count": 344,
     "metadata": {},
     "output_type": "execute_result"
    }
   ],
   "source": [
    "df['Max Salary'] = min_hr.apply(lambda x: x.split('-')[1])\n",
    "df['Max Salary'] = pd.to_numeric(df['Max Salary'], errors='coerce')\n",
    "\n",
    "df['Max Salary'].dtype"
   ]
  },
  {
   "cell_type": "code",
   "execution_count": 345,
   "metadata": {},
   "outputs": [
    {
     "data": {
      "text/plain": [
       "0     58.0\n",
       "1     58.0\n",
       "2     58.0\n",
       "3     58.0\n",
       "4     58.0\n",
       "      ... \n",
       "75    80.0\n",
       "76    80.0\n",
       "77    80.0\n",
       "78    80.0\n",
       "79    80.0\n",
       "Name: Min Salary, Length: 80, dtype: float64"
      ]
     },
     "execution_count": 345,
     "metadata": {},
     "output_type": "execute_result"
    }
   ],
   "source": [
    "df['Min Salary']"
   ]
  },
  {
   "cell_type": "code",
   "execution_count": 346,
   "metadata": {},
   "outputs": [
    {
     "data": {
      "text/plain": [
       "0      90\n",
       "1      90\n",
       "2      90\n",
       "3      90\n",
       "4      90\n",
       "     ... \n",
       "75    107\n",
       "76    107\n",
       "77    107\n",
       "78    107\n",
       "79    107\n",
       "Name: Max Salary, Length: 80, dtype: int64"
      ]
     },
     "execution_count": 346,
     "metadata": {},
     "output_type": "execute_result"
    }
   ],
   "source": [
    "df['Max Salary']"
   ]
  },
  {
   "cell_type": "code",
   "execution_count": 347,
   "metadata": {},
   "outputs": [],
   "source": [
    "df['Avg Salary'] = (df['Min Salary'] + df['Max Salary'])/2"
   ]
  },
  {
   "cell_type": "code",
   "execution_count": 348,
   "metadata": {},
   "outputs": [
    {
     "name": "stdout",
     "output_type": "stream",
     "text": [
      "Average Salary is: $ 81.8 k\n"
     ]
    }
   ],
   "source": [
    "print('Average Salary is: $', df['Avg Salary'].mean(),'k')"
   ]
  },
  {
   "cell_type": "markdown",
   "metadata": {},
   "source": [
    "### Cleaning Company Name"
   ]
  },
  {
   "cell_type": "code",
   "execution_count": 349,
   "metadata": {},
   "outputs": [],
   "source": [
    "df['Company Text'] = df['Company Name'].apply(lambda x: x.split(\"\\n\")[0])\n"
   ]
  },
  {
   "cell_type": "markdown",
   "metadata": {},
   "source": [
    "### Cleaning Company Location"
   ]
  },
  {
   "cell_type": "code",
   "execution_count": 350,
   "metadata": {},
   "outputs": [
    {
     "data": {
      "text/plain": [
       "Toronto        24\n",
       "Montreal       17\n",
       "Vancouver       9\n",
       "Ottawa          6\n",
       "Canada          4\n",
       "Ontario         4\n",
       "Calgary         3\n",
       "Hamilton        2\n",
       "Kingston        1\n",
       "Laval           1\n",
       "Fredericton     1\n",
       "Remote          1\n",
       "Moncton         1\n",
       "Edmonton        1\n",
       "Dartmouth       1\n",
       "Halifax         1\n",
       "Burnaby         1\n",
       "Victoria        1\n",
       "St. John's      1\n",
       "Name: Location, dtype: int64"
      ]
     },
     "execution_count": 350,
     "metadata": {},
     "output_type": "execute_result"
    }
   ],
   "source": [
    "df['Location'].value_counts()"
   ]
  },
  {
   "cell_type": "code",
   "execution_count": 355,
   "metadata": {},
   "outputs": [
    {
     "data": {
      "text/plain": [
       "<matplotlib.axes._subplots.AxesSubplot at 0x2b7c0ed1988>"
      ]
     },
     "execution_count": 355,
     "metadata": {},
     "output_type": "execute_result"
    },
    {
     "data": {
      "image/png": "[encoded data removed]",
      "text/plain": [
       "<Figure size 432x288 with 1 Axes>"
      ]
     },
     "metadata": {
      "needs_background": "light"
     },
     "output_type": "display_data"
    }
   ],
   "source": [
    "sns.countplot(x='Location', data=df, order=pd.value_counts(df['Location']).iloc[:5].index)"
   ]
  },
  {
   "cell_type": "code",
   "execution_count": 352,
   "metadata": {},
   "outputs": [],
   "source": [
    "df['Province'] = df['Location'].apply(lambda x: 'ON' if 'toronto' in x.lower() \n",
    "    else ('QC' if 'montreal' in x.lower() \n",
    "    else ('QC' if 'montreal' in x.lower() \n",
    "    else ('BC' if 'vancouver' in x.lower() \n",
    "    else ('Unknown' if 'canada' in x.lower() \n",
    "    else ('ON' if 'ontario' in x.lower() \n",
    "    else ('AB' if 'calgary' in x.lower() \n",
    "    else ('ON' if 'hamilton' in x.lower() \n",
    "    else ('ON' if 'kingston' in x.lower() \n",
    "    else ('QC' if 'laval' in x.lower() \n",
    "    else ('NB' if 'fredericton' in x.lower() \n",
    "    else ('Unknown' if 'remote' in x.lower() \n",
    "    else ('NB' if 'moncton' in x.lower() \n",
    "    else ('AB' if 'edmonton' in x.lower() \n",
    "    else ('NS' if 'dartmouth' in x.lower() \n",
    "    else ('NS' if 'halifax' in x.lower() \n",
    "    else ('BC' if 'burnaby' in x.lower() \n",
    "    else ('BC' if 'victoria' in x.lower() \n",
    "    else ('NL' if \"st. john's\" in x.lower() \n",
    "    else ('ON' if 'ottawa' in x.lower() \n",
    "    else 0))))))))))))))))))))"
   ]
  },
  {
   "cell_type": "code",
   "execution_count": 353,
   "metadata": {},
   "outputs": [
    {
     "data": {
      "text/plain": [
       "ON         37\n",
       "QC         18\n",
       "BC         11\n",
       "Unknown     5\n",
       "AB          4\n",
       "NB          2\n",
       "NS          2\n",
       "NL          1\n",
       "Name: Province, dtype: int64"
      ]
     },
     "execution_count": 353,
     "metadata": {},
     "output_type": "execute_result"
    }
   ],
   "source": [
    "df['Province'].value_counts()"
   ]
  },
  {
   "cell_type": "code",
   "execution_count": 354,
   "metadata": {},
   "outputs": [
    {
     "data": {
      "text/plain": [
       "<matplotlib.axes._subplots.AxesSubplot at 0x2b7b9b00d48>"
      ]
     },
     "execution_count": 354,
     "metadata": {},
     "output_type": "execute_result"
    },
    {
     "data": {
      "image/png": "[encoded data removed]",
      "text/plain": [
       "<Figure size 432x288 with 1 Axes>"
      ]
     },
     "metadata": {
      "needs_background": "light"
     },
     "output_type": "display_data"
    }
   ],
   "source": [
    "sns.countplot(x='Province', data=df)"
   ]
  },
  {
   "cell_type": "markdown",
   "metadata": {},
   "source": [
    "### Age of Company"
   ]
  }
 ],
 "metadata": {
  "kernelspec": {
   "display_name": "Python 3",
   "language": "python",
   "name": "python3"
  },
  "language_info": {
   "codemirror_mode": {
    "name": "ipython",
    "version": 3
   },
   "file_extension": ".py",
   "mimetype": "text/x-python",
   "name": "python",
   "nbconvert_exporter": "python",
   "pygments_lexer": "ipython3",
   "version": "3.7.4"
  }
 },
 "nbformat": 4,
 "nbformat_minor": 4
}
