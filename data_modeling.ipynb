{
 "cells": [
  {
   "cell_type": "code",
   "execution_count": 7,
   "metadata": {},
   "outputs": [
    {
     "name": "stderr",
     "output_type": "stream",
     "text": [
      "C:\\Users\\Visitor\\Anaconda3\\lib\\importlib\\_bootstrap.py:219: RuntimeWarning: numpy.ufunc size changed, may indicate binary incompatibility. Expected 192 from C header, got 216 from PyObject\n",
      "  return f(*args, **kwds)\n",
      "C:\\Users\\Visitor\\Anaconda3\\lib\\importlib\\_bootstrap.py:219: RuntimeWarning: numpy.ufunc size changed, may indicate binary incompatibility. Expected 192 from C header, got 216 from PyObject\n",
      "  return f(*args, **kwds)\n"
     ]
    }
   ],
   "source": [
    "import pandas as pd\n",
    "import matplotlib.pyplot as plt\n",
    "import numpy as np \n",
    "import seaborn as sns"
   ]
  },
  {
   "cell_type": "code",
   "execution_count": 8,
   "metadata": {},
   "outputs": [],
   "source": [
    "df = pd.read_csv('salary_data_clean2.csv')"
   ]
  },
  {
   "cell_type": "code",
   "execution_count": 9,
   "metadata": {},
   "outputs": [
    {
     "data": {
      "text/html": [
       "<div>\n",
       "<style scoped>\n",
       "    .dataframe tbody tr th:only-of-type {\n",
       "        vertical-align: middle;\n",
       "    }\n",
       "\n",
       "    .dataframe tbody tr th {\n",
       "        vertical-align: top;\n",
       "    }\n",
       "\n",
       "    .dataframe thead th {\n",
       "        text-align: right;\n",
       "    }\n",
       "</style>\n",
       "<table border=\"1\" class=\"dataframe\">\n",
       "  <thead>\n",
       "    <tr style=\"text-align: right;\">\n",
       "      <th></th>\n",
       "      <th>Unnamed: 0</th>\n",
       "      <th>Job Title</th>\n",
       "      <th>Salary Estimate</th>\n",
       "      <th>Job Description</th>\n",
       "      <th>Rating</th>\n",
       "      <th>Company Name</th>\n",
       "      <th>Location</th>\n",
       "      <th>Headquarters</th>\n",
       "      <th>Size</th>\n",
       "      <th>Founded</th>\n",
       "      <th>...</th>\n",
       "      <th>age</th>\n",
       "      <th>python_yn</th>\n",
       "      <th>R_yn</th>\n",
       "      <th>spark</th>\n",
       "      <th>aws</th>\n",
       "      <th>excel</th>\n",
       "      <th>job_simp</th>\n",
       "      <th>seniority</th>\n",
       "      <th>desc_len</th>\n",
       "      <th>num_comp</th>\n",
       "    </tr>\n",
       "  </thead>\n",
       "  <tbody>\n",
       "    <tr>\n",
       "      <td>0</td>\n",
       "      <td>0</td>\n",
       "      <td>Data Scientist</td>\n",
       "      <td>$53K-$91K (Glassdoor est.)</td>\n",
       "      <td>Data Scientist\\nLocation: Albuquerque, NM\\nEdu...</td>\n",
       "      <td>3.8</td>\n",
       "      <td>Tecolote Research\\n3.8</td>\n",
       "      <td>Albuquerque, NM</td>\n",
       "      <td>Goleta, CA</td>\n",
       "      <td>501 to 1000 employees</td>\n",
       "      <td>1973</td>\n",
       "      <td>...</td>\n",
       "      <td>47</td>\n",
       "      <td>1</td>\n",
       "      <td>0</td>\n",
       "      <td>0</td>\n",
       "      <td>0</td>\n",
       "      <td>1</td>\n",
       "      <td>data scientist</td>\n",
       "      <td>na</td>\n",
       "      <td>2536</td>\n",
       "      <td>0</td>\n",
       "    </tr>\n",
       "    <tr>\n",
       "      <td>1</td>\n",
       "      <td>1</td>\n",
       "      <td>Healthcare Data Scientist</td>\n",
       "      <td>$63K-$112K (Glassdoor est.)</td>\n",
       "      <td>What You Will Do:\\n\\nI. General Summary\\n\\nThe...</td>\n",
       "      <td>3.4</td>\n",
       "      <td>University of Maryland Medical System\\n3.4</td>\n",
       "      <td>Linthicum, MD</td>\n",
       "      <td>Baltimore, MD</td>\n",
       "      <td>10000+ employees</td>\n",
       "      <td>1984</td>\n",
       "      <td>...</td>\n",
       "      <td>36</td>\n",
       "      <td>1</td>\n",
       "      <td>0</td>\n",
       "      <td>0</td>\n",
       "      <td>0</td>\n",
       "      <td>0</td>\n",
       "      <td>data scientist</td>\n",
       "      <td>na</td>\n",
       "      <td>4783</td>\n",
       "      <td>0</td>\n",
       "    </tr>\n",
       "    <tr>\n",
       "      <td>2</td>\n",
       "      <td>2</td>\n",
       "      <td>Data Scientist</td>\n",
       "      <td>$80K-$90K (Glassdoor est.)</td>\n",
       "      <td>KnowBe4, Inc. is a high growth information sec...</td>\n",
       "      <td>4.8</td>\n",
       "      <td>KnowBe4\\n4.8</td>\n",
       "      <td>Clearwater, FL</td>\n",
       "      <td>Clearwater, FL</td>\n",
       "      <td>501 to 1000 employees</td>\n",
       "      <td>2010</td>\n",
       "      <td>...</td>\n",
       "      <td>10</td>\n",
       "      <td>1</td>\n",
       "      <td>0</td>\n",
       "      <td>1</td>\n",
       "      <td>0</td>\n",
       "      <td>1</td>\n",
       "      <td>data scientist</td>\n",
       "      <td>na</td>\n",
       "      <td>3461</td>\n",
       "      <td>0</td>\n",
       "    </tr>\n",
       "    <tr>\n",
       "      <td>3</td>\n",
       "      <td>3</td>\n",
       "      <td>Data Scientist</td>\n",
       "      <td>$56K-$97K (Glassdoor est.)</td>\n",
       "      <td>*Organization and Job ID**\\nJob ID: 310709\\n\\n...</td>\n",
       "      <td>3.8</td>\n",
       "      <td>PNNL\\n3.8</td>\n",
       "      <td>Richland, WA</td>\n",
       "      <td>Richland, WA</td>\n",
       "      <td>1001 to 5000 employees</td>\n",
       "      <td>1965</td>\n",
       "      <td>...</td>\n",
       "      <td>55</td>\n",
       "      <td>1</td>\n",
       "      <td>0</td>\n",
       "      <td>0</td>\n",
       "      <td>0</td>\n",
       "      <td>0</td>\n",
       "      <td>data scientist</td>\n",
       "      <td>na</td>\n",
       "      <td>3883</td>\n",
       "      <td>3</td>\n",
       "    </tr>\n",
       "    <tr>\n",
       "      <td>4</td>\n",
       "      <td>4</td>\n",
       "      <td>Data Scientist</td>\n",
       "      <td>$86K-$143K (Glassdoor est.)</td>\n",
       "      <td>Data Scientist\\nAffinity Solutions / Marketing...</td>\n",
       "      <td>2.9</td>\n",
       "      <td>Affinity Solutions\\n2.9</td>\n",
       "      <td>New York, NY</td>\n",
       "      <td>New York, NY</td>\n",
       "      <td>51 to 200 employees</td>\n",
       "      <td>1998</td>\n",
       "      <td>...</td>\n",
       "      <td>22</td>\n",
       "      <td>1</td>\n",
       "      <td>0</td>\n",
       "      <td>0</td>\n",
       "      <td>0</td>\n",
       "      <td>1</td>\n",
       "      <td>data scientist</td>\n",
       "      <td>na</td>\n",
       "      <td>2728</td>\n",
       "      <td>3</td>\n",
       "    </tr>\n",
       "    <tr>\n",
       "      <td>...</td>\n",
       "      <td>...</td>\n",
       "      <td>...</td>\n",
       "      <td>...</td>\n",
       "      <td>...</td>\n",
       "      <td>...</td>\n",
       "      <td>...</td>\n",
       "      <td>...</td>\n",
       "      <td>...</td>\n",
       "      <td>...</td>\n",
       "      <td>...</td>\n",
       "      <td>...</td>\n",
       "      <td>...</td>\n",
       "      <td>...</td>\n",
       "      <td>...</td>\n",
       "      <td>...</td>\n",
       "      <td>...</td>\n",
       "      <td>...</td>\n",
       "      <td>...</td>\n",
       "      <td>...</td>\n",
       "      <td>...</td>\n",
       "      <td>...</td>\n",
       "    </tr>\n",
       "    <tr>\n",
       "      <td>737</td>\n",
       "      <td>737</td>\n",
       "      <td>Sr Scientist, Immuno-Oncology - Oncology</td>\n",
       "      <td>$58K-$111K (Glassdoor est.)</td>\n",
       "      <td>Site Name: USA - Massachusetts - Cambridge\\nPo...</td>\n",
       "      <td>3.9</td>\n",
       "      <td>GSK\\n3.9</td>\n",
       "      <td>Cambridge, MA</td>\n",
       "      <td>Brentford, United Kingdom</td>\n",
       "      <td>10000+ employees</td>\n",
       "      <td>1830</td>\n",
       "      <td>...</td>\n",
       "      <td>190</td>\n",
       "      <td>0</td>\n",
       "      <td>0</td>\n",
       "      <td>0</td>\n",
       "      <td>1</td>\n",
       "      <td>0</td>\n",
       "      <td>na</td>\n",
       "      <td>senior</td>\n",
       "      <td>6162</td>\n",
       "      <td>3</td>\n",
       "    </tr>\n",
       "    <tr>\n",
       "      <td>738</td>\n",
       "      <td>738</td>\n",
       "      <td>Senior Data Engineer</td>\n",
       "      <td>$72K-$133K (Glassdoor est.)</td>\n",
       "      <td>THE CHALLENGE\\nEventbrite has a world-class da...</td>\n",
       "      <td>4.4</td>\n",
       "      <td>Eventbrite\\n4.4</td>\n",
       "      <td>Nashville, TN</td>\n",
       "      <td>San Francisco, CA</td>\n",
       "      <td>1001 to 5000 employees</td>\n",
       "      <td>2006</td>\n",
       "      <td>...</td>\n",
       "      <td>14</td>\n",
       "      <td>1</td>\n",
       "      <td>0</td>\n",
       "      <td>1</td>\n",
       "      <td>1</td>\n",
       "      <td>0</td>\n",
       "      <td>data engineer</td>\n",
       "      <td>senior</td>\n",
       "      <td>6130</td>\n",
       "      <td>3</td>\n",
       "    </tr>\n",
       "    <tr>\n",
       "      <td>739</td>\n",
       "      <td>739</td>\n",
       "      <td>Project Scientist - Auton Lab, Robotics Institute</td>\n",
       "      <td>$56K-$91K (Glassdoor est.)</td>\n",
       "      <td>The Auton Lab at Carnegie Mellon University is...</td>\n",
       "      <td>2.6</td>\n",
       "      <td>Software Engineering Institute\\n2.6</td>\n",
       "      <td>Pittsburgh, PA</td>\n",
       "      <td>Pittsburgh, PA</td>\n",
       "      <td>501 to 1000 employees</td>\n",
       "      <td>1984</td>\n",
       "      <td>...</td>\n",
       "      <td>36</td>\n",
       "      <td>0</td>\n",
       "      <td>0</td>\n",
       "      <td>0</td>\n",
       "      <td>0</td>\n",
       "      <td>1</td>\n",
       "      <td>na</td>\n",
       "      <td>na</td>\n",
       "      <td>3078</td>\n",
       "      <td>0</td>\n",
       "    </tr>\n",
       "    <tr>\n",
       "      <td>740</td>\n",
       "      <td>740</td>\n",
       "      <td>Data Science Manager</td>\n",
       "      <td>$95K-$160K (Glassdoor est.)</td>\n",
       "      <td>Data Science ManagerResponsibilities:\\n\\nOvers...</td>\n",
       "      <td>3.2</td>\n",
       "      <td>Numeric, LLC\\n3.2</td>\n",
       "      <td>Allentown, PA</td>\n",
       "      <td>Chadds Ford, PA</td>\n",
       "      <td>1 to 50 employees</td>\n",
       "      <td>-1</td>\n",
       "      <td>...</td>\n",
       "      <td>-1</td>\n",
       "      <td>0</td>\n",
       "      <td>0</td>\n",
       "      <td>0</td>\n",
       "      <td>0</td>\n",
       "      <td>1</td>\n",
       "      <td>manager</td>\n",
       "      <td>na</td>\n",
       "      <td>1642</td>\n",
       "      <td>0</td>\n",
       "    </tr>\n",
       "    <tr>\n",
       "      <td>741</td>\n",
       "      <td>741</td>\n",
       "      <td>Research Scientist – Security and Privacy</td>\n",
       "      <td>$61K-$126K (Glassdoor est.)</td>\n",
       "      <td>Returning Candidate? Log back in to the Career...</td>\n",
       "      <td>3.6</td>\n",
       "      <td>Riverside Research Institute\\n3.6</td>\n",
       "      <td>Beavercreek, OH</td>\n",
       "      <td>Arlington, VA</td>\n",
       "      <td>501 to 1000 employees</td>\n",
       "      <td>1967</td>\n",
       "      <td>...</td>\n",
       "      <td>53</td>\n",
       "      <td>1</td>\n",
       "      <td>0</td>\n",
       "      <td>0</td>\n",
       "      <td>0</td>\n",
       "      <td>0</td>\n",
       "      <td>na</td>\n",
       "      <td>na</td>\n",
       "      <td>3673</td>\n",
       "      <td>0</td>\n",
       "    </tr>\n",
       "  </tbody>\n",
       "</table>\n",
       "<p>742 rows × 33 columns</p>\n",
       "</div>"
      ],
      "text/plain": [
       "     Unnamed: 0                                          Job Title  \\\n",
       "0             0                                     Data Scientist   \n",
       "1             1                          Healthcare Data Scientist   \n",
       "2             2                                     Data Scientist   \n",
       "3             3                                     Data Scientist   \n",
       "4             4                                     Data Scientist   \n",
       "..          ...                                                ...   \n",
       "737         737           Sr Scientist, Immuno-Oncology - Oncology   \n",
       "738         738                               Senior Data Engineer   \n",
       "739         739  Project Scientist - Auton Lab, Robotics Institute   \n",
       "740         740                               Data Science Manager   \n",
       "741         741          Research Scientist – Security and Privacy   \n",
       "\n",
       "                 Salary Estimate  \\\n",
       "0     $53K-$91K (Glassdoor est.)   \n",
       "1    $63K-$112K (Glassdoor est.)   \n",
       "2     $80K-$90K (Glassdoor est.)   \n",
       "3     $56K-$97K (Glassdoor est.)   \n",
       "4    $86K-$143K (Glassdoor est.)   \n",
       "..                           ...   \n",
       "737  $58K-$111K (Glassdoor est.)   \n",
       "738  $72K-$133K (Glassdoor est.)   \n",
       "739   $56K-$91K (Glassdoor est.)   \n",
       "740  $95K-$160K (Glassdoor est.)   \n",
       "741  $61K-$126K (Glassdoor est.)   \n",
       "\n",
       "                                       Job Description  Rating  \\\n",
       "0    Data Scientist\\nLocation: Albuquerque, NM\\nEdu...     3.8   \n",
       "1    What You Will Do:\\n\\nI. General Summary\\n\\nThe...     3.4   \n",
       "2    KnowBe4, Inc. is a high growth information sec...     4.8   \n",
       "3    *Organization and Job ID**\\nJob ID: 310709\\n\\n...     3.8   \n",
       "4    Data Scientist\\nAffinity Solutions / Marketing...     2.9   \n",
       "..                                                 ...     ...   \n",
       "737  Site Name: USA - Massachusetts - Cambridge\\nPo...     3.9   \n",
       "738  THE CHALLENGE\\nEventbrite has a world-class da...     4.4   \n",
       "739  The Auton Lab at Carnegie Mellon University is...     2.6   \n",
       "740  Data Science ManagerResponsibilities:\\n\\nOvers...     3.2   \n",
       "741  Returning Candidate? Log back in to the Career...     3.6   \n",
       "\n",
       "                                   Company Name         Location  \\\n",
       "0                        Tecolote Research\\n3.8  Albuquerque, NM   \n",
       "1    University of Maryland Medical System\\n3.4    Linthicum, MD   \n",
       "2                                  KnowBe4\\n4.8   Clearwater, FL   \n",
       "3                                     PNNL\\n3.8     Richland, WA   \n",
       "4                       Affinity Solutions\\n2.9     New York, NY   \n",
       "..                                          ...              ...   \n",
       "737                                    GSK\\n3.9    Cambridge, MA   \n",
       "738                             Eventbrite\\n4.4    Nashville, TN   \n",
       "739         Software Engineering Institute\\n2.6   Pittsburgh, PA   \n",
       "740                           Numeric, LLC\\n3.2    Allentown, PA   \n",
       "741           Riverside Research Institute\\n3.6  Beavercreek, OH   \n",
       "\n",
       "                  Headquarters                    Size  Founded  ...  age  \\\n",
       "0                   Goleta, CA   501 to 1000 employees     1973  ...   47   \n",
       "1                Baltimore, MD        10000+ employees     1984  ...   36   \n",
       "2               Clearwater, FL   501 to 1000 employees     2010  ...   10   \n",
       "3                 Richland, WA  1001 to 5000 employees     1965  ...   55   \n",
       "4                 New York, NY     51 to 200 employees     1998  ...   22   \n",
       "..                         ...                     ...      ...  ...  ...   \n",
       "737  Brentford, United Kingdom        10000+ employees     1830  ...  190   \n",
       "738          San Francisco, CA  1001 to 5000 employees     2006  ...   14   \n",
       "739             Pittsburgh, PA   501 to 1000 employees     1984  ...   36   \n",
       "740            Chadds Ford, PA       1 to 50 employees       -1  ...   -1   \n",
       "741              Arlington, VA   501 to 1000 employees     1967  ...   53   \n",
       "\n",
       "    python_yn R_yn spark aws  excel        job_simp  seniority  desc_len  \\\n",
       "0           1    0     0   0      1  data scientist         na      2536   \n",
       "1           1    0     0   0      0  data scientist         na      4783   \n",
       "2           1    0     1   0      1  data scientist         na      3461   \n",
       "3           1    0     0   0      0  data scientist         na      3883   \n",
       "4           1    0     0   0      1  data scientist         na      2728   \n",
       "..        ...  ...   ...  ..    ...             ...        ...       ...   \n",
       "737         0    0     0   1      0              na     senior      6162   \n",
       "738         1    0     1   1      0   data engineer     senior      6130   \n",
       "739         0    0     0   0      1              na         na      3078   \n",
       "740         0    0     0   0      1         manager         na      1642   \n",
       "741         1    0     0   0      0              na         na      3673   \n",
       "\n",
       "     num_comp  \n",
       "0           0  \n",
       "1           0  \n",
       "2           0  \n",
       "3           3  \n",
       "4           3  \n",
       "..        ...  \n",
       "737         3  \n",
       "738         3  \n",
       "739         0  \n",
       "740         0  \n",
       "741         0  \n",
       "\n",
       "[742 rows x 33 columns]"
      ]
     },
     "execution_count": 9,
     "metadata": {},
     "output_type": "execute_result"
    }
   ],
   "source": [
    "df"
   ]
  },
  {
   "cell_type": "markdown",
   "metadata": {},
   "source": [
    "### Removing NAN Values"
   ]
  },
  {
   "cell_type": "code",
   "execution_count": 10,
   "metadata": {},
   "outputs": [
    {
     "data": {
      "text/plain": [
       "[]"
      ]
     },
     "execution_count": 10,
     "metadata": {},
     "output_type": "execute_result"
    }
   ],
   "source": [
    "# Identifying columns with NAN values\n",
    "\n",
    "df.columns[df.isna().any()].tolist()"
   ]
  },
  {
   "cell_type": "code",
   "execution_count": 11,
   "metadata": {},
   "outputs": [
    {
     "data": {
      "text/plain": [
       "<matplotlib.axes._subplots.AxesSubplot at 0x1c6a1c8c088>"
      ]
     },
     "execution_count": 11,
     "metadata": {},
     "output_type": "execute_result"
    },
    {
     "data": {
      "image/png": "[encoded data removed]",
      "text/plain": [
       "<Figure size 432x288 with 1 Axes>"
      ]
     },
     "metadata": {
      "needs_background": "light"
     },
     "output_type": "display_data"
    }
   ],
   "source": [
    "sns.heatmap(df.isnull(),yticklabels=False, cbar=False, cmap='viridis')"
   ]
  },
  {
   "cell_type": "code",
   "execution_count": 12,
   "metadata": {},
   "outputs": [
    {
     "data": {
      "text/html": [
       "<div>\n",
       "<style scoped>\n",
       "    .dataframe tbody tr th:only-of-type {\n",
       "        vertical-align: middle;\n",
       "    }\n",
       "\n",
       "    .dataframe tbody tr th {\n",
       "        vertical-align: top;\n",
       "    }\n",
       "\n",
       "    .dataframe thead th {\n",
       "        text-align: right;\n",
       "    }\n",
       "</style>\n",
       "<table border=\"1\" class=\"dataframe\">\n",
       "  <thead>\n",
       "    <tr style=\"text-align: right;\">\n",
       "      <th></th>\n",
       "    </tr>\n",
       "  </thead>\n",
       "  <tbody>\n",
       "    <tr>\n",
       "      <td>0</td>\n",
       "    </tr>\n",
       "    <tr>\n",
       "      <td>1</td>\n",
       "    </tr>\n",
       "    <tr>\n",
       "      <td>2</td>\n",
       "    </tr>\n",
       "    <tr>\n",
       "      <td>3</td>\n",
       "    </tr>\n",
       "    <tr>\n",
       "      <td>4</td>\n",
       "    </tr>\n",
       "    <tr>\n",
       "      <td>...</td>\n",
       "    </tr>\n",
       "    <tr>\n",
       "      <td>737</td>\n",
       "    </tr>\n",
       "    <tr>\n",
       "      <td>738</td>\n",
       "    </tr>\n",
       "    <tr>\n",
       "      <td>739</td>\n",
       "    </tr>\n",
       "    <tr>\n",
       "      <td>740</td>\n",
       "    </tr>\n",
       "    <tr>\n",
       "      <td>741</td>\n",
       "    </tr>\n",
       "  </tbody>\n",
       "</table>\n",
       "<p>742 rows × 0 columns</p>\n",
       "</div>"
      ],
      "text/plain": [
       "Empty DataFrame\n",
       "Columns: []\n",
       "Index: [0, 1, 2, 3, 4, 5, 6, 7, 8, 9, 10, 11, 12, 13, 14, 15, 16, 17, 18, 19, 20, 21, 22, 23, 24, 25, 26, 27, 28, 29, 30, 31, 32, 33, 34, 35, 36, 37, 38, 39, 40, 41, 42, 43, 44, 45, 46, 47, 48, 49, 50, 51, 52, 53, 54, 55, 56, 57, 58, 59, 60, 61, 62, 63, 64, 65, 66, 67, 68, 69, 70, 71, 72, 73, 74, 75, 76, 77, 78, 79, 80, 81, 82, 83, 84, 85, 86, 87, 88, 89, 90, 91, 92, 93, 94, 95, 96, 97, 98, 99, ...]\n",
       "\n",
       "[742 rows x 0 columns]"
      ]
     },
     "execution_count": 12,
     "metadata": {},
     "output_type": "execute_result"
    }
   ],
   "source": [
    "df.loc[:, df.isna().any()]"
   ]
  },
  {
   "cell_type": "code",
   "execution_count": 13,
   "metadata": {},
   "outputs": [
    {
     "data": {
      "text/plain": [
       "(742, 33)"
      ]
     },
     "execution_count": 13,
     "metadata": {},
     "output_type": "execute_result"
    }
   ],
   "source": [
    "df.shape"
   ]
  },
  {
   "cell_type": "code",
   "execution_count": 14,
   "metadata": {},
   "outputs": [],
   "source": [
    "# Dropping all the NAN values so the model can make a prediction based on given data\n",
    "\n",
    "df = df.dropna()"
   ]
  },
  {
   "cell_type": "code",
   "execution_count": 15,
   "metadata": {},
   "outputs": [
    {
     "data": {
      "text/plain": [
       "(742, 33)"
      ]
     },
     "execution_count": 15,
     "metadata": {},
     "output_type": "execute_result"
    }
   ],
   "source": [
    "df.shape"
   ]
  },
  {
   "cell_type": "code",
   "execution_count": 16,
   "metadata": {},
   "outputs": [
    {
     "data": {
      "text/plain": [
       "Index(['Unnamed: 0', 'Job Title', 'Salary Estimate', 'Job Description',\n",
       "       'Rating', 'Company Name', 'Location', 'Headquarters', 'Size', 'Founded',\n",
       "       'Type of ownership', 'Industry', 'Sector', 'Revenue', 'Competitors',\n",
       "       'hourly', 'employer_provided', 'min_salary', 'max_salary', 'avg_salary',\n",
       "       'company_txt', 'job_state', 'same_state', 'age', 'python_yn', 'R_yn',\n",
       "       'spark', 'aws', 'excel', 'job_simp', 'seniority', 'desc_len',\n",
       "       'num_comp'],\n",
       "      dtype='object')"
      ]
     },
     "execution_count": 16,
     "metadata": {},
     "output_type": "execute_result"
    }
   ],
   "source": [
    "df.columns"
   ]
  },
  {
   "cell_type": "code",
   "execution_count": 17,
   "metadata": {},
   "outputs": [],
   "source": [
    "# Loading in data now with the nan values removed\n",
    "df_model = df[['avg_salary','Rating', 'Size', 'Type of ownership', 'Industry', 'Sector', 'Revenue',\n",
    "       'hourly', 'age', 'python_yn', 'spark', 'aws', 'excel', 'job_simp', 'seniority', 'desc_len']]\n",
    "\n",
    "#df_model = df[['AvgSalary','Rating', 'Size', 'Type of ownership', 'Industry', 'Sector']]"
   ]
  },
  {
   "cell_type": "code",
   "execution_count": 18,
   "metadata": {},
   "outputs": [],
   "source": [
    "# Get dummy data for model (either One Hot Encoder of Get_dummies works)\n",
    "\n",
    "df_dum = pd.get_dummies(df_model)"
   ]
  },
  {
   "cell_type": "code",
   "execution_count": 19,
   "metadata": {},
   "outputs": [],
   "source": [
    "# Train Test Split into 80/20\n",
    "\n",
    "from sklearn.model_selection import train_test_split"
   ]
  },
  {
   "cell_type": "code",
   "execution_count": 20,
   "metadata": {},
   "outputs": [],
   "source": [
    "# Create X and y variables\n",
    "\n",
    "X = df_dum.drop('avg_salary', axis=1)\n",
    "y = df_dum.avg_salary.values\n",
    "\n",
    "#X = df_dum.drop('AvgSalary', axis=1)\n",
    "#y = df_dum.AvgSalary.values"
   ]
  },
  {
   "cell_type": "code",
   "execution_count": 21,
   "metadata": {},
   "outputs": [],
   "source": [
    "X_train, X_test, y_train, y_test = train_test_split(X, y, test_size=0.2, random_state=42)"
   ]
  },
  {
   "cell_type": "markdown",
   "metadata": {},
   "source": [
    "### Multiple Linear Regression Model"
   ]
  },
  {
   "cell_type": "code",
   "execution_count": 22,
   "metadata": {},
   "outputs": [],
   "source": [
    "import statsmodels.api as sm"
   ]
  },
  {
   "cell_type": "code",
   "execution_count": 23,
   "metadata": {},
   "outputs": [
    {
     "name": "stderr",
     "output_type": "stream",
     "text": [
      "C:\\Users\\Visitor\\Anaconda3\\lib\\site-packages\\numpy\\core\\fromnumeric.py:2389: FutureWarning: Method .ptp is deprecated and will be removed in a future version. Use numpy.ptp instead.\n",
      "  return ptp(axis=axis, out=out, **kwargs)\n"
     ]
    },
    {
     "data": {
      "text/html": [
       "<table class=\"simpletable\">\n",
       "<caption>OLS Regression Results</caption>\n",
       "<tr>\n",
       "  <th>Dep. Variable:</th>            <td>y</td>        <th>  R-squared:         </th> <td>   0.633</td>\n",
       "</tr>\n",
       "<tr>\n",
       "  <th>Model:</th>                   <td>OLS</td>       <th>  Adj. R-squared:    </th> <td>   0.574</td>\n",
       "</tr>\n",
       "<tr>\n",
       "  <th>Method:</th>             <td>Least Squares</td>  <th>  F-statistic:       </th> <td>   10.58</td>\n",
       "</tr>\n",
       "<tr>\n",
       "  <th>Date:</th>             <td>Mon, 14 Sep 2020</td> <th>  Prob (F-statistic):</th> <td>2.05e-86</td>\n",
       "</tr>\n",
       "<tr>\n",
       "  <th>Time:</th>                 <td>00:19:21</td>     <th>  Log-Likelihood:    </th> <td> -3395.7</td>\n",
       "</tr>\n",
       "<tr>\n",
       "  <th>No. Observations:</th>      <td>   742</td>      <th>  AIC:               </th> <td>   7001.</td>\n",
       "</tr>\n",
       "<tr>\n",
       "  <th>Df Residuals:</th>          <td>   637</td>      <th>  BIC:               </th> <td>   7485.</td>\n",
       "</tr>\n",
       "<tr>\n",
       "  <th>Df Model:</th>              <td>   104</td>      <th>                     </th>     <td> </td>   \n",
       "</tr>\n",
       "<tr>\n",
       "  <th>Covariance Type:</th>      <td>nonrobust</td>    <th>                     </th>     <td> </td>   \n",
       "</tr>\n",
       "</table>\n",
       "<table class=\"simpletable\">\n",
       "<tr>\n",
       "                          <td></td>                             <th>coef</th>     <th>std err</th>      <th>t</th>      <th>P>|t|</th>  <th>[0.025</th>    <th>0.975]</th>  \n",
       "</tr>\n",
       "<tr>\n",
       "  <th>const</th>                                             <td>   63.7477</td> <td>    6.429</td> <td>    9.915</td> <td> 0.000</td> <td>   51.123</td> <td>   76.373</td>\n",
       "</tr>\n",
       "<tr>\n",
       "  <th>Rating</th>                                            <td>   -1.9642</td> <td>    1.933</td> <td>   -1.016</td> <td> 0.310</td> <td>   -5.761</td> <td>    1.833</td>\n",
       "</tr>\n",
       "<tr>\n",
       "  <th>hourly</th>                                            <td>  -43.8662</td> <td>    8.335</td> <td>   -5.263</td> <td> 0.000</td> <td>  -60.234</td> <td>  -27.498</td>\n",
       "</tr>\n",
       "<tr>\n",
       "  <th>age</th>                                               <td>    0.0307</td> <td>    0.030</td> <td>    1.012</td> <td> 0.312</td> <td>   -0.029</td> <td>    0.090</td>\n",
       "</tr>\n",
       "<tr>\n",
       "  <th>python_yn</th>                                         <td>    6.3129</td> <td>    2.593</td> <td>    2.434</td> <td> 0.015</td> <td>    1.220</td> <td>   11.406</td>\n",
       "</tr>\n",
       "<tr>\n",
       "  <th>spark</th>                                             <td>    1.5621</td> <td>    3.020</td> <td>    0.517</td> <td> 0.605</td> <td>   -4.368</td> <td>    7.492</td>\n",
       "</tr>\n",
       "<tr>\n",
       "  <th>aws</th>                                               <td>    2.0475</td> <td>    2.797</td> <td>    0.732</td> <td> 0.464</td> <td>   -3.444</td> <td>    7.539</td>\n",
       "</tr>\n",
       "<tr>\n",
       "  <th>excel</th>                                             <td>    0.0075</td> <td>    2.283</td> <td>    0.003</td> <td> 0.997</td> <td>   -4.475</td> <td>    4.490</td>\n",
       "</tr>\n",
       "<tr>\n",
       "  <th>desc_len</th>                                          <td> 5.831e-05</td> <td>    0.001</td> <td>    0.075</td> <td> 0.940</td> <td>   -0.001</td> <td>    0.002</td>\n",
       "</tr>\n",
       "<tr>\n",
       "  <th>Size_-1</th>                                           <td>   21.6499</td> <td>    8.905</td> <td>    2.431</td> <td> 0.015</td> <td>    4.163</td> <td>   39.137</td>\n",
       "</tr>\n",
       "<tr>\n",
       "  <th>Size_1 to 50 employees</th>                            <td>    0.0080</td> <td>    6.621</td> <td>    0.001</td> <td> 0.999</td> <td>  -12.993</td> <td>   13.009</td>\n",
       "</tr>\n",
       "<tr>\n",
       "  <th>Size_10000+ employees</th>                             <td>   -3.7889</td> <td>    5.743</td> <td>   -0.660</td> <td> 0.510</td> <td>  -15.067</td> <td>    7.489</td>\n",
       "</tr>\n",
       "<tr>\n",
       "  <th>Size_1001 to 5000 employees</th>                       <td>    1.6225</td> <td>    3.751</td> <td>    0.433</td> <td> 0.665</td> <td>   -5.743</td> <td>    8.989</td>\n",
       "</tr>\n",
       "<tr>\n",
       "  <th>Size_201 to 500 employees</th>                         <td>    3.9052</td> <td>    3.841</td> <td>    1.017</td> <td> 0.310</td> <td>   -3.638</td> <td>   11.449</td>\n",
       "</tr>\n",
       "<tr>\n",
       "  <th>Size_5001 to 10000 employees</th>                      <td>  -11.8690</td> <td>    5.214</td> <td>   -2.276</td> <td> 0.023</td> <td>  -22.108</td> <td>   -1.630</td>\n",
       "</tr>\n",
       "<tr>\n",
       "  <th>Size_501 to 1000 employees</th>                        <td>    1.5129</td> <td>    3.878</td> <td>    0.390</td> <td> 0.697</td> <td>   -6.103</td> <td>    9.128</td>\n",
       "</tr>\n",
       "<tr>\n",
       "  <th>Size_51 to 200 employees</th>                          <td>   10.8351</td> <td>    4.390</td> <td>    2.468</td> <td> 0.014</td> <td>    2.215</td> <td>   19.456</td>\n",
       "</tr>\n",
       "<tr>\n",
       "  <th>Size_Unknown</th>                                      <td>   39.8718</td> <td>   12.559</td> <td>    3.175</td> <td> 0.002</td> <td>   15.209</td> <td>   64.534</td>\n",
       "</tr>\n",
       "<tr>\n",
       "  <th>Type of ownership_-1</th>                              <td>   21.6499</td> <td>    8.905</td> <td>    2.431</td> <td> 0.015</td> <td>    4.163</td> <td>   39.137</td>\n",
       "</tr>\n",
       "<tr>\n",
       "  <th>Type of ownership_College / University</th>            <td>    6.3251</td> <td>   17.042</td> <td>    0.371</td> <td> 0.711</td> <td>  -27.140</td> <td>   39.791</td>\n",
       "</tr>\n",
       "<tr>\n",
       "  <th>Type of ownership_Company - Private</th>               <td>   14.2320</td> <td>    5.080</td> <td>    2.802</td> <td> 0.005</td> <td>    4.257</td> <td>   24.207</td>\n",
       "</tr>\n",
       "<tr>\n",
       "  <th>Type of ownership_Company - Public</th>                <td>   17.8317</td> <td>    5.576</td> <td>    3.198</td> <td> 0.001</td> <td>    6.883</td> <td>   28.781</td>\n",
       "</tr>\n",
       "<tr>\n",
       "  <th>Type of ownership_Government</th>                      <td>  -11.2125</td> <td>   13.989</td> <td>   -0.802</td> <td> 0.423</td> <td>  -38.683</td> <td>   16.258</td>\n",
       "</tr>\n",
       "<tr>\n",
       "  <th>Type of ownership_Hospital</th>                        <td>   -1.3705</td> <td>    9.480</td> <td>   -0.145</td> <td> 0.885</td> <td>  -19.987</td> <td>   17.246</td>\n",
       "</tr>\n",
       "<tr>\n",
       "  <th>Type of ownership_Nonprofit Organization</th>          <td>    5.9679</td> <td>    6.410</td> <td>    0.931</td> <td> 0.352</td> <td>   -6.620</td> <td>   18.556</td>\n",
       "</tr>\n",
       "<tr>\n",
       "  <th>Type of ownership_Other Organization</th>              <td>   -1.5145</td> <td>   14.798</td> <td>   -0.102</td> <td> 0.919</td> <td>  -30.572</td> <td>   27.543</td>\n",
       "</tr>\n",
       "<tr>\n",
       "  <th>Type of ownership_School / School District</th>        <td>  -14.3322</td> <td>   24.731</td> <td>   -0.580</td> <td> 0.562</td> <td>  -62.896</td> <td>   34.232</td>\n",
       "</tr>\n",
       "<tr>\n",
       "  <th>Type of ownership_Subsidiary or Business Segment</th>  <td>   23.9317</td> <td>    6.722</td> <td>    3.560</td> <td> 0.000</td> <td>   10.731</td> <td>   37.132</td>\n",
       "</tr>\n",
       "<tr>\n",
       "  <th>Type of ownership_Unknown</th>                         <td>    2.2391</td> <td>   27.349</td> <td>    0.082</td> <td> 0.935</td> <td>  -51.466</td> <td>   55.944</td>\n",
       "</tr>\n",
       "<tr>\n",
       "  <th>Industry_-1</th>                                       <td>   -5.0110</td> <td>    8.095</td> <td>   -0.619</td> <td> 0.536</td> <td>  -20.908</td> <td>   10.886</td>\n",
       "</tr>\n",
       "<tr>\n",
       "  <th>Industry_Accounting</th>                               <td>    1.5632</td> <td>   14.590</td> <td>    0.107</td> <td> 0.915</td> <td>  -27.088</td> <td>   30.214</td>\n",
       "</tr>\n",
       "<tr>\n",
       "  <th>Industry_Advertising & Marketing</th>                  <td>    4.6443</td> <td>    5.964</td> <td>    0.779</td> <td> 0.436</td> <td>   -7.067</td> <td>   16.356</td>\n",
       "</tr>\n",
       "<tr>\n",
       "  <th>Industry_Aerospace & Defense</th>                      <td>    4.2071</td> <td>    2.969</td> <td>    1.417</td> <td> 0.157</td> <td>   -1.624</td> <td>   10.038</td>\n",
       "</tr>\n",
       "<tr>\n",
       "  <th>Industry_Architectural & Engineering Services</th>     <td>  -12.2700</td> <td>   13.855</td> <td>   -0.886</td> <td> 0.376</td> <td>  -39.477</td> <td>   14.937</td>\n",
       "</tr>\n",
       "<tr>\n",
       "  <th>Industry_Auctions & Galleries</th>                     <td>    7.8213</td> <td>   24.240</td> <td>    0.323</td> <td> 0.747</td> <td>  -39.779</td> <td>   55.421</td>\n",
       "</tr>\n",
       "<tr>\n",
       "  <th>Industry_Banks & Credit Unions</th>                    <td>  -15.6080</td> <td>    8.183</td> <td>   -1.907</td> <td> 0.057</td> <td>  -31.676</td> <td>    0.460</td>\n",
       "</tr>\n",
       "<tr>\n",
       "  <th>Industry_Beauty & Personal Accessories Stores</th>     <td>   23.3240</td> <td>   23.139</td> <td>    1.008</td> <td> 0.314</td> <td>  -22.113</td> <td>   68.761</td>\n",
       "</tr>\n",
       "<tr>\n",
       "  <th>Industry_Biotech & Pharmaceuticals</th>                <td>    6.4389</td> <td>    2.014</td> <td>    3.196</td> <td> 0.001</td> <td>    2.483</td> <td>   10.395</td>\n",
       "</tr>\n",
       "<tr>\n",
       "  <th>Industry_Brokerage Services</th>                       <td>   31.0151</td> <td>   16.503</td> <td>    1.879</td> <td> 0.061</td> <td>   -1.392</td> <td>   63.422</td>\n",
       "</tr>\n",
       "<tr>\n",
       "  <th>Industry_Colleges & Universities</th>                  <td>    5.9719</td> <td>   13.629</td> <td>    0.438</td> <td> 0.661</td> <td>  -20.792</td> <td>   32.736</td>\n",
       "</tr>\n",
       "<tr>\n",
       "  <th>Industry_Computer Hardware & Software</th>             <td>    3.5508</td> <td>    3.314</td> <td>    1.071</td> <td> 0.284</td> <td>   -2.957</td> <td>   10.059</td>\n",
       "</tr>\n",
       "<tr>\n",
       "  <th>Industry_Construction</th>                             <td>    0.4891</td> <td>    9.007</td> <td>    0.054</td> <td> 0.957</td> <td>  -17.198</td> <td>   18.176</td>\n",
       "</tr>\n",
       "<tr>\n",
       "  <th>Industry_Consulting</th>                               <td>   12.0626</td> <td>    5.734</td> <td>    2.104</td> <td> 0.036</td> <td>    0.804</td> <td>   23.322</td>\n",
       "</tr>\n",
       "<tr>\n",
       "  <th>Industry_Consumer Product Rental</th>                  <td>  -10.0658</td> <td>   13.541</td> <td>   -0.743</td> <td> 0.458</td> <td>  -36.656</td> <td>   16.525</td>\n",
       "</tr>\n",
       "<tr>\n",
       "  <th>Industry_Consumer Products Manufacturing</th>          <td>   17.2176</td> <td>    9.342</td> <td>    1.843</td> <td> 0.066</td> <td>   -1.128</td> <td>   35.563</td>\n",
       "</tr>\n",
       "<tr>\n",
       "  <th>Industry_Department, Clothing, & Shoe Stores</th>      <td>   -0.0983</td> <td>   12.060</td> <td>   -0.008</td> <td> 0.993</td> <td>  -23.781</td> <td>   23.584</td>\n",
       "</tr>\n",
       "<tr>\n",
       "  <th>Industry_Education Training Services</th>              <td>  -28.5998</td> <td>   13.137</td> <td>   -2.177</td> <td> 0.030</td> <td>  -54.398</td> <td>   -2.802</td>\n",
       "</tr>\n",
       "<tr>\n",
       "  <th>Industry_Energy</th>                                   <td>    2.6182</td> <td>    6.922</td> <td>    0.378</td> <td> 0.705</td> <td>  -10.975</td> <td>   16.212</td>\n",
       "</tr>\n",
       "<tr>\n",
       "  <th>Industry_Enterprise Software & Network Solutions</th>  <td>    7.7029</td> <td>    3.755</td> <td>    2.051</td> <td> 0.041</td> <td>    0.328</td> <td>   15.077</td>\n",
       "</tr>\n",
       "<tr>\n",
       "  <th>Industry_Farm Support Services</th>                    <td>   -7.3416</td> <td>   12.724</td> <td>   -0.577</td> <td> 0.564</td> <td>  -32.327</td> <td>   17.644</td>\n",
       "</tr>\n",
       "<tr>\n",
       "  <th>Industry_Federal Agencies</th>                         <td>    2.6635</td> <td>    5.082</td> <td>    0.524</td> <td> 0.600</td> <td>   -7.317</td> <td>   12.644</td>\n",
       "</tr>\n",
       "<tr>\n",
       "  <th>Industry_Financial Analytics & Research</th>           <td>   12.2485</td> <td>    9.592</td> <td>    1.277</td> <td> 0.202</td> <td>   -6.587</td> <td>   31.084</td>\n",
       "</tr>\n",
       "<tr>\n",
       "  <th>Industry_Financial Transaction Processing</th>         <td>   -9.9852</td> <td>   13.044</td> <td>   -0.766</td> <td> 0.444</td> <td>  -35.600</td> <td>   15.629</td>\n",
       "</tr>\n",
       "<tr>\n",
       "  <th>Industry_Food & Beverage Manufacturing</th>            <td>   -9.0626</td> <td>   10.840</td> <td>   -0.836</td> <td> 0.403</td> <td>  -30.349</td> <td>   12.224</td>\n",
       "</tr>\n",
       "<tr>\n",
       "  <th>Industry_Gambling</th>                                 <td>    3.3302</td> <td>    6.745</td> <td>    0.494</td> <td> 0.622</td> <td>   -9.915</td> <td>   16.575</td>\n",
       "</tr>\n",
       "<tr>\n",
       "  <th>Industry_Gas Stations</th>                             <td>  -34.4706</td> <td>   14.017</td> <td>   -2.459</td> <td> 0.014</td> <td>  -61.996</td> <td>   -6.945</td>\n",
       "</tr>\n",
       "<tr>\n",
       "  <th>Industry_Health Care Products Manufacturing</th>       <td>   15.1951</td> <td>   23.282</td> <td>    0.653</td> <td> 0.514</td> <td>  -30.523</td> <td>   60.913</td>\n",
       "</tr>\n",
       "<tr>\n",
       "  <th>Industry_Health Care Services & Hospitals</th>         <td>    5.8850</td> <td>    2.847</td> <td>    2.067</td> <td> 0.039</td> <td>    0.294</td> <td>   11.476</td>\n",
       "</tr>\n",
       "<tr>\n",
       "  <th>Industry_Health, Beauty, & Fitness</th>                <td>    9.7450</td> <td>   18.458</td> <td>    0.528</td> <td> 0.598</td> <td>  -26.500</td> <td>   45.990</td>\n",
       "</tr>\n",
       "<tr>\n",
       "  <th>Industry_IT Services</th>                              <td>   -3.9885</td> <td>    3.426</td> <td>   -1.164</td> <td> 0.245</td> <td>  -10.717</td> <td>    2.740</td>\n",
       "</tr>\n",
       "<tr>\n",
       "  <th>Industry_Industrial Manufacturing</th>                 <td>   -0.7966</td> <td>   12.889</td> <td>   -0.062</td> <td> 0.951</td> <td>  -26.106</td> <td>   24.513</td>\n",
       "</tr>\n",
       "<tr>\n",
       "  <th>Industry_Insurance Agencies & Brokerages</th>          <td>   -7.3840</td> <td>    7.297</td> <td>   -1.012</td> <td> 0.312</td> <td>  -21.712</td> <td>    6.944</td>\n",
       "</tr>\n",
       "<tr>\n",
       "  <th>Industry_Insurance Carriers</th>                       <td>    6.1548</td> <td>    4.600</td> <td>    1.338</td> <td> 0.181</td> <td>   -2.879</td> <td>   15.188</td>\n",
       "</tr>\n",
       "<tr>\n",
       "  <th>Industry_Internet</th>                                 <td>    7.4031</td> <td>    4.545</td> <td>    1.629</td> <td> 0.104</td> <td>   -1.521</td> <td>   16.327</td>\n",
       "</tr>\n",
       "<tr>\n",
       "  <th>Industry_Investment Banking & Asset Management</th>    <td>   24.5555</td> <td>   12.077</td> <td>    2.033</td> <td> 0.042</td> <td>    0.840</td> <td>   48.271</td>\n",
       "</tr>\n",
       "<tr>\n",
       "  <th>Industry_K-12 Education</th>                           <td>   24.0706</td> <td>   15.731</td> <td>    1.530</td> <td> 0.126</td> <td>   -6.819</td> <td>   54.961</td>\n",
       "</tr>\n",
       "<tr>\n",
       "  <th>Industry_Lending</th>                                  <td>    4.7606</td> <td>    9.349</td> <td>    0.509</td> <td> 0.611</td> <td>  -13.598</td> <td>   23.119</td>\n",
       "</tr>\n",
       "<tr>\n",
       "  <th>Industry_Logistics & Supply Chain</th>                 <td>   -4.3592</td> <td>   13.011</td> <td>   -0.335</td> <td> 0.738</td> <td>  -29.910</td> <td>   21.191</td>\n",
       "</tr>\n",
       "<tr>\n",
       "  <th>Industry_Metals Brokers</th>                           <td>  -19.7071</td> <td>   15.541</td> <td>   -1.268</td> <td> 0.205</td> <td>  -50.225</td> <td>   10.811</td>\n",
       "</tr>\n",
       "<tr>\n",
       "  <th>Industry_Mining</th>                                   <td>    6.2237</td> <td>   18.312</td> <td>    0.340</td> <td> 0.734</td> <td>  -29.736</td> <td>   42.183</td>\n",
       "</tr>\n",
       "<tr>\n",
       "  <th>Industry_Motion Picture Production & Distribution</th> <td>   36.3630</td> <td>   20.446</td> <td>    1.778</td> <td> 0.076</td> <td>   -3.787</td> <td>   76.513</td>\n",
       "</tr>\n",
       "<tr>\n",
       "  <th>Industry_Other Retail Stores</th>                      <td>   51.6653</td> <td>   23.181</td> <td>    2.229</td> <td> 0.026</td> <td>    6.145</td> <td>   97.186</td>\n",
       "</tr>\n",
       "<tr>\n",
       "  <th>Industry_Real Estate</th>                              <td>    0.1496</td> <td>    4.854</td> <td>    0.031</td> <td> 0.975</td> <td>   -9.382</td> <td>    9.681</td>\n",
       "</tr>\n",
       "<tr>\n",
       "  <th>Industry_Religious Organizations</th>                  <td>   19.1375</td> <td>    9.926</td> <td>    1.928</td> <td> 0.054</td> <td>   -0.355</td> <td>   38.630</td>\n",
       "</tr>\n",
       "<tr>\n",
       "  <th>Industry_Research & Development</th>                   <td>   -6.4882</td> <td>    6.476</td> <td>   -1.002</td> <td> 0.317</td> <td>  -19.205</td> <td>    6.229</td>\n",
       "</tr>\n",
       "<tr>\n",
       "  <th>Industry_Security Services</th>                        <td>    2.6816</td> <td>    9.575</td> <td>    0.280</td> <td> 0.780</td> <td>  -16.120</td> <td>   21.484</td>\n",
       "</tr>\n",
       "<tr>\n",
       "  <th>Industry_Social Assistance</th>                        <td>   -8.4927</td> <td>   10.845</td> <td>   -0.783</td> <td> 0.434</td> <td>  -29.789</td> <td>   12.804</td>\n",
       "</tr>\n",
       "<tr>\n",
       "  <th>Industry_Sporting Goods Stores</th>                    <td>  -36.1379</td> <td>   18.070</td> <td>   -2.000</td> <td> 0.046</td> <td>  -71.623</td> <td>   -0.653</td>\n",
       "</tr>\n",
       "<tr>\n",
       "  <th>Industry_Staffing & Outsourcing</th>                   <td>   -2.3784</td> <td>   10.522</td> <td>   -0.226</td> <td> 0.821</td> <td>  -23.041</td> <td>   18.285</td>\n",
       "</tr>\n",
       "<tr>\n",
       "  <th>Industry_Stock Exchanges</th>                          <td>  -37.9275</td> <td>   15.718</td> <td>   -2.413</td> <td> 0.016</td> <td>  -68.793</td> <td>   -7.062</td>\n",
       "</tr>\n",
       "<tr>\n",
       "  <th>Industry_TV Broadcast & Cable Networks</th>            <td>   -8.9386</td> <td>   16.349</td> <td>   -0.547</td> <td> 0.585</td> <td>  -41.043</td> <td>   23.166</td>\n",
       "</tr>\n",
       "<tr>\n",
       "  <th>Industry_Telecommunications Manufacturing</th>         <td>  -16.2935</td> <td>   13.634</td> <td>   -1.195</td> <td> 0.233</td> <td>  -43.067</td> <td>   10.480</td>\n",
       "</tr>\n",
       "<tr>\n",
       "  <th>Industry_Telecommunications Services</th>              <td>   18.4023</td> <td>   11.723</td> <td>    1.570</td> <td> 0.117</td> <td>   -4.618</td> <td>   41.423</td>\n",
       "</tr>\n",
       "<tr>\n",
       "  <th>Industry_Transportation Equipment Manufacturing</th>   <td>  -28.5006</td> <td>   22.976</td> <td>   -1.240</td> <td> 0.215</td> <td>  -73.619</td> <td>   16.618</td>\n",
       "</tr>\n",
       "<tr>\n",
       "  <th>Industry_Transportation Management</th>                <td>  -16.3023</td> <td>   14.444</td> <td>   -1.129</td> <td> 0.259</td> <td>  -44.666</td> <td>   12.062</td>\n",
       "</tr>\n",
       "<tr>\n",
       "  <th>Industry_Travel Agencies</th>                          <td>   -4.3099</td> <td>    5.328</td> <td>   -0.809</td> <td> 0.419</td> <td>  -14.773</td> <td>    6.153</td>\n",
       "</tr>\n",
       "<tr>\n",
       "  <th>Industry_Trucking</th>                                 <td>   26.5567</td> <td>   20.173</td> <td>    1.316</td> <td> 0.188</td> <td>  -13.057</td> <td>   66.170</td>\n",
       "</tr>\n",
       "<tr>\n",
       "  <th>Industry_Video Games</th>                              <td>   -7.1787</td> <td>   14.997</td> <td>   -0.479</td> <td> 0.632</td> <td>  -36.628</td> <td>   22.271</td>\n",
       "</tr>\n",
       "<tr>\n",
       "  <th>Industry_Wholesale</th>                                <td>   -0.3742</td> <td>   13.621</td> <td>   -0.027</td> <td> 0.978</td> <td>  -27.122</td> <td>   26.373</td>\n",
       "</tr>\n",
       "<tr>\n",
       "  <th>Sector_-1</th>                                         <td>   -5.0110</td> <td>    8.095</td> <td>   -0.619</td> <td> 0.536</td> <td>  -20.908</td> <td>   10.886</td>\n",
       "</tr>\n",
       "<tr>\n",
       "  <th>Sector_Accounting & Legal</th>                         <td>    1.5632</td> <td>   14.590</td> <td>    0.107</td> <td> 0.915</td> <td>  -27.088</td> <td>   30.214</td>\n",
       "</tr>\n",
       "<tr>\n",
       "  <th>Sector_Aerospace & Defense</th>                        <td>    4.2071</td> <td>    2.969</td> <td>    1.417</td> <td> 0.157</td> <td>   -1.624</td> <td>   10.038</td>\n",
       "</tr>\n",
       "<tr>\n",
       "  <th>Sector_Agriculture & Forestry</th>                     <td>   -7.3416</td> <td>   12.724</td> <td>   -0.577</td> <td> 0.564</td> <td>  -32.327</td> <td>   17.644</td>\n",
       "</tr>\n",
       "<tr>\n",
       "  <th>Sector_Arts, Entertainment & Recreation</th>           <td>    3.3302</td> <td>    6.745</td> <td>    0.494</td> <td> 0.622</td> <td>   -9.915</td> <td>   16.575</td>\n",
       "</tr>\n",
       "<tr>\n",
       "  <th>Sector_Biotech & Pharmaceuticals</th>                  <td>    6.4389</td> <td>    2.014</td> <td>    3.196</td> <td> 0.001</td> <td>    2.483</td> <td>   10.395</td>\n",
       "</tr>\n",
       "<tr>\n",
       "  <th>Sector_Business Services</th>                          <td>   -2.1222</td> <td>    4.045</td> <td>   -0.525</td> <td> 0.600</td> <td>  -10.066</td> <td>    5.822</td>\n",
       "</tr>\n",
       "<tr>\n",
       "  <th>Sector_Construction, Repair & Maintenance</th>         <td>    0.4891</td> <td>    9.007</td> <td>    0.054</td> <td> 0.957</td> <td>  -17.198</td> <td>   18.176</td>\n",
       "</tr>\n",
       "<tr>\n",
       "  <th>Sector_Consumer Services</th>                          <td>   -0.3208</td> <td>   10.026</td> <td>   -0.032</td> <td> 0.974</td> <td>  -20.008</td> <td>   19.366</td>\n",
       "</tr>\n",
       "<tr>\n",
       "  <th>Sector_Education</th>                                  <td>    1.4427</td> <td>    7.200</td> <td>    0.200</td> <td> 0.841</td> <td>  -12.696</td> <td>   15.582</td>\n",
       "</tr>\n",
       "<tr>\n",
       "  <th>Sector_Finance</th>                                    <td>    9.0590</td> <td>    4.748</td> <td>    1.908</td> <td> 0.057</td> <td>   -0.265</td> <td>   18.383</td>\n",
       "</tr>\n",
       "<tr>\n",
       "  <th>Sector_Government</th>                                 <td>    2.6635</td> <td>    5.082</td> <td>    0.524</td> <td> 0.600</td> <td>   -7.317</td> <td>   12.644</td>\n",
       "</tr>\n",
       "<tr>\n",
       "  <th>Sector_Health Care</th>                                <td>    5.8850</td> <td>    2.847</td> <td>    2.067</td> <td> 0.039</td> <td>    0.294</td> <td>   11.476</td>\n",
       "</tr>\n",
       "<tr>\n",
       "  <th>Sector_Information Technology</th>                     <td>   14.6682</td> <td>    2.749</td> <td>    5.337</td> <td> 0.000</td> <td>    9.271</td> <td>   20.066</td>\n",
       "</tr>\n",
       "<tr>\n",
       "  <th>Sector_Insurance</th>                                  <td>   -1.2292</td> <td>    4.075</td> <td>   -0.302</td> <td> 0.763</td> <td>   -9.230</td> <td>    6.772</td>\n",
       "</tr>\n",
       "<tr>\n",
       "  <th>Sector_Manufacturing</th>                              <td>   -5.9471</td> <td>    6.906</td> <td>   -0.861</td> <td> 0.390</td> <td>  -19.509</td> <td>    7.615</td>\n",
       "</tr>\n",
       "<tr>\n",
       "  <th>Sector_Media</th>                                      <td>   20.2456</td> <td>    9.135</td> <td>    2.216</td> <td> 0.027</td> <td>    2.307</td> <td>   38.185</td>\n",
       "</tr>\n",
       "<tr>\n",
       "  <th>Sector_Mining & Metals</th>                            <td>  -13.4834</td> <td>   10.736</td> <td>   -1.256</td> <td> 0.210</td> <td>  -34.565</td> <td>    7.598</td>\n",
       "</tr>\n",
       "<tr>\n",
       "  <th>Sector_Non-Profit</th>                                 <td>   10.6448</td> <td>    7.689</td> <td>    1.384</td> <td> 0.167</td> <td>   -4.455</td> <td>   25.744</td>\n",
       "</tr>\n",
       "<tr>\n",
       "  <th>Sector_Oil, Gas, Energy & Utilities</th>               <td>    2.6182</td> <td>    6.922</td> <td>    0.378</td> <td> 0.705</td> <td>  -10.975</td> <td>   16.212</td>\n",
       "</tr>\n",
       "<tr>\n",
       "  <th>Sector_Real Estate</th>                                <td>    0.1496</td> <td>    4.854</td> <td>    0.031</td> <td> 0.975</td> <td>   -9.382</td> <td>    9.681</td>\n",
       "</tr>\n",
       "<tr>\n",
       "  <th>Sector_Retail</th>                                     <td>   12.1038</td> <td>    7.375</td> <td>    1.641</td> <td> 0.101</td> <td>   -2.378</td> <td>   26.585</td>\n",
       "</tr>\n",
       "<tr>\n",
       "  <th>Sector_Telecommunications</th>                         <td>    2.1088</td> <td>    7.866</td> <td>    0.268</td> <td> 0.789</td> <td>  -13.337</td> <td>   17.555</td>\n",
       "</tr>\n",
       "<tr>\n",
       "  <th>Sector_Transportation & Logistics</th>                 <td>    5.8951</td> <td>    8.129</td> <td>    0.725</td> <td> 0.469</td> <td>  -10.068</td> <td>   21.858</td>\n",
       "</tr>\n",
       "<tr>\n",
       "  <th>Sector_Travel & Tourism</th>                           <td>   -4.3099</td> <td>    5.328</td> <td>   -0.809</td> <td> 0.419</td> <td>  -14.773</td> <td>    6.153</td>\n",
       "</tr>\n",
       "<tr>\n",
       "  <th>Revenue_$1 to $2 billion (USD)</th>                    <td>    2.2327</td> <td>    4.689</td> <td>    0.476</td> <td> 0.634</td> <td>   -6.975</td> <td>   11.441</td>\n",
       "</tr>\n",
       "<tr>\n",
       "  <th>Revenue_$1 to $5 million (USD)</th>                    <td>   -6.4459</td> <td>   10.118</td> <td>   -0.637</td> <td> 0.524</td> <td>  -26.315</td> <td>   13.423</td>\n",
       "</tr>\n",
       "<tr>\n",
       "  <th>Revenue_$10 to $25 million (USD)</th>                  <td>   -5.3091</td> <td>    5.431</td> <td>   -0.978</td> <td> 0.329</td> <td>  -15.974</td> <td>    5.356</td>\n",
       "</tr>\n",
       "<tr>\n",
       "  <th>Revenue_$10+ billion (USD)</th>                        <td>   10.5850</td> <td>    6.378</td> <td>    1.660</td> <td> 0.097</td> <td>   -1.939</td> <td>   23.109</td>\n",
       "</tr>\n",
       "<tr>\n",
       "  <th>Revenue_$100 to $500 million (USD)</th>                <td>   -6.3654</td> <td>    3.936</td> <td>   -1.617</td> <td> 0.106</td> <td>  -14.095</td> <td>    1.365</td>\n",
       "</tr>\n",
       "<tr>\n",
       "  <th>Revenue_$2 to $5 billion (USD)</th>                    <td>    7.5323</td> <td>    6.394</td> <td>    1.178</td> <td> 0.239</td> <td>   -5.024</td> <td>   20.089</td>\n",
       "</tr>\n",
       "<tr>\n",
       "  <th>Revenue_$25 to $50 million (USD)</th>                  <td>  -12.5327</td> <td>    5.037</td> <td>   -2.488</td> <td> 0.013</td> <td>  -22.423</td> <td>   -2.642</td>\n",
       "</tr>\n",
       "<tr>\n",
       "  <th>Revenue_$5 to $10 billion (USD)</th>                   <td>   11.9059</td> <td>    8.110</td> <td>    1.468</td> <td> 0.143</td> <td>   -4.019</td> <td>   27.831</td>\n",
       "</tr>\n",
       "<tr>\n",
       "  <th>Revenue_$5 to $10 million (USD)</th>                   <td>   23.6577</td> <td>    8.307</td> <td>    2.848</td> <td> 0.005</td> <td>    7.345</td> <td>   39.970</td>\n",
       "</tr>\n",
       "<tr>\n",
       "  <th>Revenue_$50 to $100 million (USD)</th>                 <td>    4.0011</td> <td>    5.001</td> <td>    0.800</td> <td> 0.424</td> <td>   -5.819</td> <td>   13.821</td>\n",
       "</tr>\n",
       "<tr>\n",
       "  <th>Revenue_$500 million to $1 billion (USD)</th>          <td>   -1.1028</td> <td>    5.398</td> <td>   -0.204</td> <td> 0.838</td> <td>  -11.702</td> <td>    9.497</td>\n",
       "</tr>\n",
       "<tr>\n",
       "  <th>Revenue_-1</th>                                        <td>   21.6499</td> <td>    8.905</td> <td>    2.431</td> <td> 0.015</td> <td>    4.163</td> <td>   39.137</td>\n",
       "</tr>\n",
       "<tr>\n",
       "  <th>Revenue_Less than $1 million (USD)</th>                <td>   14.2081</td> <td>   16.085</td> <td>    0.883</td> <td> 0.377</td> <td>  -17.378</td> <td>   45.794</td>\n",
       "</tr>\n",
       "<tr>\n",
       "  <th>Revenue_Unknown / Non-Applicable</th>                  <td>   -0.2691</td> <td>    3.090</td> <td>   -0.087</td> <td> 0.931</td> <td>   -6.337</td> <td>    5.799</td>\n",
       "</tr>\n",
       "<tr>\n",
       "  <th>job_simp_analyst</th>                                  <td>  -31.7300</td> <td>    3.304</td> <td>   -9.604</td> <td> 0.000</td> <td>  -38.217</td> <td>  -25.243</td>\n",
       "</tr>\n",
       "<tr>\n",
       "  <th>job_simp_data engineer</th>                            <td>    0.4611</td> <td>    3.227</td> <td>    0.143</td> <td> 0.886</td> <td>   -5.877</td> <td>    6.799</td>\n",
       "</tr>\n",
       "<tr>\n",
       "  <th>job_simp_data scientist</th>                           <td>   12.0476</td> <td>    2.548</td> <td>    4.729</td> <td> 0.000</td> <td>    7.045</td> <td>   17.050</td>\n",
       "</tr>\n",
       "<tr>\n",
       "  <th>job_simp_director</th>                                 <td>   73.1785</td> <td>    6.861</td> <td>   10.666</td> <td> 0.000</td> <td>   59.706</td> <td>   86.651</td>\n",
       "</tr>\n",
       "<tr>\n",
       "  <th>job_simp_manager</th>                                  <td>   -7.9424</td> <td>    5.746</td> <td>   -1.382</td> <td> 0.167</td> <td>  -19.227</td> <td>    3.342</td>\n",
       "</tr>\n",
       "<tr>\n",
       "  <th>job_simp_mle</th>                                      <td>   27.1320</td> <td>    6.361</td> <td>    4.265</td> <td> 0.000</td> <td>   14.640</td> <td>   39.624</td>\n",
       "</tr>\n",
       "<tr>\n",
       "  <th>job_simp_na</th>                                       <td>   -9.3991</td> <td>    3.017</td> <td>   -3.115</td> <td> 0.002</td> <td>  -15.324</td> <td>   -3.474</td>\n",
       "</tr>\n",
       "<tr>\n",
       "  <th>seniority_jr</th>                                      <td>   24.9865</td> <td>   13.961</td> <td>    1.790</td> <td> 0.074</td> <td>   -2.429</td> <td>   52.402</td>\n",
       "</tr>\n",
       "<tr>\n",
       "  <th>seniority_na</th>                                      <td>    6.0823</td> <td>    5.436</td> <td>    1.119</td> <td> 0.264</td> <td>   -4.592</td> <td>   16.756</td>\n",
       "</tr>\n",
       "<tr>\n",
       "  <th>seniority_senior</th>                                  <td>   32.6789</td> <td>    5.644</td> <td>    5.790</td> <td> 0.000</td> <td>   21.595</td> <td>   43.762</td>\n",
       "</tr>\n",
       "</table>\n",
       "<table class=\"simpletable\">\n",
       "<tr>\n",
       "  <th>Omnibus:</th>       <td>101.411</td> <th>  Durbin-Watson:     </th> <td>   2.020</td>\n",
       "</tr>\n",
       "<tr>\n",
       "  <th>Prob(Omnibus):</th> <td> 0.000</td>  <th>  Jarque-Bera (JB):  </th> <td> 292.025</td>\n",
       "</tr>\n",
       "<tr>\n",
       "  <th>Skew:</th>          <td> 0.680</td>  <th>  Prob(JB):          </th> <td>3.87e-64</td>\n",
       "</tr>\n",
       "<tr>\n",
       "  <th>Kurtosis:</th>      <td> 5.756</td>  <th>  Cond. No.          </th> <td>1.67e+19</td>\n",
       "</tr>\n",
       "</table><br/><br/>Warnings:<br/>[1] Standard Errors assume that the covariance matrix of the errors is correctly specified.<br/>[2] The smallest eigenvalue is 4.6e-29. This might indicate that there are<br/>strong multicollinearity problems or that the design matrix is singular."
      ],
      "text/plain": [
       "<class 'statsmodels.iolib.summary.Summary'>\n",
       "\"\"\"\n",
       "                            OLS Regression Results                            \n",
       "==============================================================================\n",
       "Dep. Variable:                      y   R-squared:                       0.633\n",
       "Model:                            OLS   Adj. R-squared:                  0.574\n",
       "Method:                 Least Squares   F-statistic:                     10.58\n",
       "Date:                Mon, 14 Sep 2020   Prob (F-statistic):           2.05e-86\n",
       "Time:                        00:19:21   Log-Likelihood:                -3395.7\n",
       "No. Observations:                 742   AIC:                             7001.\n",
       "Df Residuals:                     637   BIC:                             7485.\n",
       "Df Model:                         104                                         \n",
       "Covariance Type:            nonrobust                                         \n",
       "=====================================================================================================================\n",
       "                                                        coef    std err          t      P>|t|      [0.025      0.975]\n",
       "---------------------------------------------------------------------------------------------------------------------\n",
       "const                                                63.7477      6.429      9.915      0.000      51.123      76.373\n",
       "Rating                                               -1.9642      1.933     -1.016      0.310      -5.761       1.833\n",
       "hourly                                              -43.8662      8.335     -5.263      0.000     -60.234     -27.498\n",
       "age                                                   0.0307      0.030      1.012      0.312      -0.029       0.090\n",
       "python_yn                                             6.3129      2.593      2.434      0.015       1.220      11.406\n",
       "spark                                                 1.5621      3.020      0.517      0.605      -4.368       7.492\n",
       "aws                                                   2.0475      2.797      0.732      0.464      -3.444       7.539\n",
       "excel                                                 0.0075      2.283      0.003      0.997      -4.475       4.490\n",
       "desc_len                                           5.831e-05      0.001      0.075      0.940      -0.001       0.002\n",
       "Size_-1                                              21.6499      8.905      2.431      0.015       4.163      39.137\n",
       "Size_1 to 50 employees                                0.0080      6.621      0.001      0.999     -12.993      13.009\n",
       "Size_10000+ employees                                -3.7889      5.743     -0.660      0.510     -15.067       7.489\n",
       "Size_1001 to 5000 employees                           1.6225      3.751      0.433      0.665      -5.743       8.989\n",
       "Size_201 to 500 employees                             3.9052      3.841      1.017      0.310      -3.638      11.449\n",
       "Size_5001 to 10000 employees                        -11.8690      5.214     -2.276      0.023     -22.108      -1.630\n",
       "Size_501 to 1000 employees                            1.5129      3.878      0.390      0.697      -6.103       9.128\n",
       "Size_51 to 200 employees                             10.8351      4.390      2.468      0.014       2.215      19.456\n",
       "Size_Unknown                                         39.8718     12.559      3.175      0.002      15.209      64.534\n",
       "Type of ownership_-1                                 21.6499      8.905      2.431      0.015       4.163      39.137\n",
       "Type of ownership_College / University                6.3251     17.042      0.371      0.711     -27.140      39.791\n",
       "Type of ownership_Company - Private                  14.2320      5.080      2.802      0.005       4.257      24.207\n",
       "Type of ownership_Company - Public                   17.8317      5.576      3.198      0.001       6.883      28.781\n",
       "Type of ownership_Government                        -11.2125     13.989     -0.802      0.423     -38.683      16.258\n",
       "Type of ownership_Hospital                           -1.3705      9.480     -0.145      0.885     -19.987      17.246\n",
       "Type of ownership_Nonprofit Organization              5.9679      6.410      0.931      0.352      -6.620      18.556\n",
       "Type of ownership_Other Organization                 -1.5145     14.798     -0.102      0.919     -30.572      27.543\n",
       "Type of ownership_School / School District          -14.3322     24.731     -0.580      0.562     -62.896      34.232\n",
       "Type of ownership_Subsidiary or Business Segment     23.9317      6.722      3.560      0.000      10.731      37.132\n",
       "Type of ownership_Unknown                             2.2391     27.349      0.082      0.935     -51.466      55.944\n",
       "Industry_-1                                          -5.0110      8.095     -0.619      0.536     -20.908      10.886\n",
       "Industry_Accounting                                   1.5632     14.590      0.107      0.915     -27.088      30.214\n",
       "Industry_Advertising & Marketing                      4.6443      5.964      0.779      0.436      -7.067      16.356\n",
       "Industry_Aerospace & Defense                          4.2071      2.969      1.417      0.157      -1.624      10.038\n",
       "Industry_Architectural & Engineering Services       -12.2700     13.855     -0.886      0.376     -39.477      14.937\n",
       "Industry_Auctions & Galleries                         7.8213     24.240      0.323      0.747     -39.779      55.421\n",
       "Industry_Banks & Credit Unions                      -15.6080      8.183     -1.907      0.057     -31.676       0.460\n",
       "Industry_Beauty & Personal Accessories Stores        23.3240     23.139      1.008      0.314     -22.113      68.761\n",
       "Industry_Biotech & Pharmaceuticals                    6.4389      2.014      3.196      0.001       2.483      10.395\n",
       "Industry_Brokerage Services                          31.0151     16.503      1.879      0.061      -1.392      63.422\n",
       "Industry_Colleges & Universities                      5.9719     13.629      0.438      0.661     -20.792      32.736\n",
       "Industry_Computer Hardware & Software                 3.5508      3.314      1.071      0.284      -2.957      10.059\n",
       "Industry_Construction                                 0.4891      9.007      0.054      0.957     -17.198      18.176\n",
       "Industry_Consulting                                  12.0626      5.734      2.104      0.036       0.804      23.322\n",
       "Industry_Consumer Product Rental                    -10.0658     13.541     -0.743      0.458     -36.656      16.525\n",
       "Industry_Consumer Products Manufacturing             17.2176      9.342      1.843      0.066      -1.128      35.563\n",
       "Industry_Department, Clothing, & Shoe Stores         -0.0983     12.060     -0.008      0.993     -23.781      23.584\n",
       "Industry_Education Training Services                -28.5998     13.137     -2.177      0.030     -54.398      -2.802\n",
       "Industry_Energy                                       2.6182      6.922      0.378      0.705     -10.975      16.212\n",
       "Industry_Enterprise Software & Network Solutions      7.7029      3.755      2.051      0.041       0.328      15.077\n",
       "Industry_Farm Support Services                       -7.3416     12.724     -0.577      0.564     -32.327      17.644\n",
       "Industry_Federal Agencies                             2.6635      5.082      0.524      0.600      -7.317      12.644\n",
       "Industry_Financial Analytics & Research              12.2485      9.592      1.277      0.202      -6.587      31.084\n",
       "Industry_Financial Transaction Processing            -9.9852     13.044     -0.766      0.444     -35.600      15.629\n",
       "Industry_Food & Beverage Manufacturing               -9.0626     10.840     -0.836      0.403     -30.349      12.224\n",
       "Industry_Gambling                                     3.3302      6.745      0.494      0.622      -9.915      16.575\n",
       "Industry_Gas Stations                               -34.4706     14.017     -2.459      0.014     -61.996      -6.945\n",
       "Industry_Health Care Products Manufacturing          15.1951     23.282      0.653      0.514     -30.523      60.913\n",
       "Industry_Health Care Services & Hospitals             5.8850      2.847      2.067      0.039       0.294      11.476\n",
       "Industry_Health, Beauty, & Fitness                    9.7450     18.458      0.528      0.598     -26.500      45.990\n",
       "Industry_IT Services                                 -3.9885      3.426     -1.164      0.245     -10.717       2.740\n",
       "Industry_Industrial Manufacturing                    -0.7966     12.889     -0.062      0.951     -26.106      24.513\n",
       "Industry_Insurance Agencies & Brokerages             -7.3840      7.297     -1.012      0.312     -21.712       6.944\n",
       "Industry_Insurance Carriers                           6.1548      4.600      1.338      0.181      -2.879      15.188\n",
       "Industry_Internet                                     7.4031      4.545      1.629      0.104      -1.521      16.327\n",
       "Industry_Investment Banking & Asset Management       24.5555     12.077      2.033      0.042       0.840      48.271\n",
       "Industry_K-12 Education                              24.0706     15.731      1.530      0.126      -6.819      54.961\n",
       "Industry_Lending                                      4.7606      9.349      0.509      0.611     -13.598      23.119\n",
       "Industry_Logistics & Supply Chain                    -4.3592     13.011     -0.335      0.738     -29.910      21.191\n",
       "Industry_Metals Brokers                             -19.7071     15.541     -1.268      0.205     -50.225      10.811\n",
       "Industry_Mining                                       6.2237     18.312      0.340      0.734     -29.736      42.183\n",
       "Industry_Motion Picture Production & Distribution    36.3630     20.446      1.778      0.076      -3.787      76.513\n",
       "Industry_Other Retail Stores                         51.6653     23.181      2.229      0.026       6.145      97.186\n",
       "Industry_Real Estate                                  0.1496      4.854      0.031      0.975      -9.382       9.681\n",
       "Industry_Religious Organizations                     19.1375      9.926      1.928      0.054      -0.355      38.630\n",
       "Industry_Research & Development                      -6.4882      6.476     -1.002      0.317     -19.205       6.229\n",
       "Industry_Security Services                            2.6816      9.575      0.280      0.780     -16.120      21.484\n",
       "Industry_Social Assistance                           -8.4927     10.845     -0.783      0.434     -29.789      12.804\n",
       "Industry_Sporting Goods Stores                      -36.1379     18.070     -2.000      0.046     -71.623      -0.653\n",
       "Industry_Staffing & Outsourcing                      -2.3784     10.522     -0.226      0.821     -23.041      18.285\n",
       "Industry_Stock Exchanges                            -37.9275     15.718     -2.413      0.016     -68.793      -7.062\n",
       "Industry_TV Broadcast & Cable Networks               -8.9386     16.349     -0.547      0.585     -41.043      23.166\n",
       "Industry_Telecommunications Manufacturing           -16.2935     13.634     -1.195      0.233     -43.067      10.480\n",
       "Industry_Telecommunications Services                 18.4023     11.723      1.570      0.117      -4.618      41.423\n",
       "Industry_Transportation Equipment Manufacturing     -28.5006     22.976     -1.240      0.215     -73.619      16.618\n",
       "Industry_Transportation Management                  -16.3023     14.444     -1.129      0.259     -44.666      12.062\n",
       "Industry_Travel Agencies                             -4.3099      5.328     -0.809      0.419     -14.773       6.153\n",
       "Industry_Trucking                                    26.5567     20.173      1.316      0.188     -13.057      66.170\n",
       "Industry_Video Games                                 -7.1787     14.997     -0.479      0.632     -36.628      22.271\n",
       "Industry_Wholesale                                   -0.3742     13.621     -0.027      0.978     -27.122      26.373\n",
       "Sector_-1                                            -5.0110      8.095     -0.619      0.536     -20.908      10.886\n",
       "Sector_Accounting & Legal                             1.5632     14.590      0.107      0.915     -27.088      30.214\n",
       "Sector_Aerospace & Defense                            4.2071      2.969      1.417      0.157      -1.624      10.038\n",
       "Sector_Agriculture & Forestry                        -7.3416     12.724     -0.577      0.564     -32.327      17.644\n",
       "Sector_Arts, Entertainment & Recreation               3.3302      6.745      0.494      0.622      -9.915      16.575\n",
       "Sector_Biotech & Pharmaceuticals                      6.4389      2.014      3.196      0.001       2.483      10.395\n",
       "Sector_Business Services                             -2.1222      4.045     -0.525      0.600     -10.066       5.822\n",
       "Sector_Construction, Repair & Maintenance             0.4891      9.007      0.054      0.957     -17.198      18.176\n",
       "Sector_Consumer Services                             -0.3208     10.026     -0.032      0.974     -20.008      19.366\n",
       "Sector_Education                                      1.4427      7.200      0.200      0.841     -12.696      15.582\n",
       "Sector_Finance                                        9.0590      4.748      1.908      0.057      -0.265      18.383\n",
       "Sector_Government                                     2.6635      5.082      0.524      0.600      -7.317      12.644\n",
       "Sector_Health Care                                    5.8850      2.847      2.067      0.039       0.294      11.476\n",
       "Sector_Information Technology                        14.6682      2.749      5.337      0.000       9.271      20.066\n",
       "Sector_Insurance                                     -1.2292      4.075     -0.302      0.763      -9.230       6.772\n",
       "Sector_Manufacturing                                 -5.9471      6.906     -0.861      0.390     -19.509       7.615\n",
       "Sector_Media                                         20.2456      9.135      2.216      0.027       2.307      38.185\n",
       "Sector_Mining & Metals                              -13.4834     10.736     -1.256      0.210     -34.565       7.598\n",
       "Sector_Non-Profit                                    10.6448      7.689      1.384      0.167      -4.455      25.744\n",
       "Sector_Oil, Gas, Energy & Utilities                   2.6182      6.922      0.378      0.705     -10.975      16.212\n",
       "Sector_Real Estate                                    0.1496      4.854      0.031      0.975      -9.382       9.681\n",
       "Sector_Retail                                        12.1038      7.375      1.641      0.101      -2.378      26.585\n",
       "Sector_Telecommunications                             2.1088      7.866      0.268      0.789     -13.337      17.555\n",
       "Sector_Transportation & Logistics                     5.8951      8.129      0.725      0.469     -10.068      21.858\n",
       "Sector_Travel & Tourism                              -4.3099      5.328     -0.809      0.419     -14.773       6.153\n",
       "Revenue_$1 to $2 billion (USD)                        2.2327      4.689      0.476      0.634      -6.975      11.441\n",
       "Revenue_$1 to $5 million (USD)                       -6.4459     10.118     -0.637      0.524     -26.315      13.423\n",
       "Revenue_$10 to $25 million (USD)                     -5.3091      5.431     -0.978      0.329     -15.974       5.356\n",
       "Revenue_$10+ billion (USD)                           10.5850      6.378      1.660      0.097      -1.939      23.109\n",
       "Revenue_$100 to $500 million (USD)                   -6.3654      3.936     -1.617      0.106     -14.095       1.365\n",
       "Revenue_$2 to $5 billion (USD)                        7.5323      6.394      1.178      0.239      -5.024      20.089\n",
       "Revenue_$25 to $50 million (USD)                    -12.5327      5.037     -2.488      0.013     -22.423      -2.642\n",
       "Revenue_$5 to $10 billion (USD)                      11.9059      8.110      1.468      0.143      -4.019      27.831\n",
       "Revenue_$5 to $10 million (USD)                      23.6577      8.307      2.848      0.005       7.345      39.970\n",
       "Revenue_$50 to $100 million (USD)                     4.0011      5.001      0.800      0.424      -5.819      13.821\n",
       "Revenue_$500 million to $1 billion (USD)             -1.1028      5.398     -0.204      0.838     -11.702       9.497\n",
       "Revenue_-1                                           21.6499      8.905      2.431      0.015       4.163      39.137\n",
       "Revenue_Less than $1 million (USD)                   14.2081     16.085      0.883      0.377     -17.378      45.794\n",
       "Revenue_Unknown / Non-Applicable                     -0.2691      3.090     -0.087      0.931      -6.337       5.799\n",
       "job_simp_analyst                                    -31.7300      3.304     -9.604      0.000     -38.217     -25.243\n",
       "job_simp_data engineer                                0.4611      3.227      0.143      0.886      -5.877       6.799\n",
       "job_simp_data scientist                              12.0476      2.548      4.729      0.000       7.045      17.050\n",
       "job_simp_director                                    73.1785      6.861     10.666      0.000      59.706      86.651\n",
       "job_simp_manager                                     -7.9424      5.746     -1.382      0.167     -19.227       3.342\n",
       "job_simp_mle                                         27.1320      6.361      4.265      0.000      14.640      39.624\n",
       "job_simp_na                                          -9.3991      3.017     -3.115      0.002     -15.324      -3.474\n",
       "seniority_jr                                         24.9865     13.961      1.790      0.074      -2.429      52.402\n",
       "seniority_na                                          6.0823      5.436      1.119      0.264      -4.592      16.756\n",
       "seniority_senior                                     32.6789      5.644      5.790      0.000      21.595      43.762\n",
       "==============================================================================\n",
       "Omnibus:                      101.411   Durbin-Watson:                   2.020\n",
       "Prob(Omnibus):                  0.000   Jarque-Bera (JB):              292.025\n",
       "Skew:                           0.680   Prob(JB):                     3.87e-64\n",
       "Kurtosis:                       5.756   Cond. No.                     1.67e+19\n",
       "==============================================================================\n",
       "\n",
       "Warnings:\n",
       "[1] Standard Errors assume that the covariance matrix of the errors is correctly specified.\n",
       "[2] The smallest eigenvalue is 4.6e-29. This might indicate that there are\n",
       "strong multicollinearity problems or that the design matrix is singular.\n",
       "\"\"\""
      ]
     },
     "execution_count": 23,
     "metadata": {},
     "output_type": "execute_result"
    }
   ],
   "source": [
    "# Create stats model\n",
    "\n",
    "X_sm = X = sm.add_constant(X)\n",
    "model = sm.OLS(y,X_sm)\n",
    "model.fit().summary()"
   ]
  },
  {
   "cell_type": "markdown",
   "metadata": {},
   "source": [
    "Some values have a reasonable amount of multicollinearity, but the above is more exploratory to understand the data. It is used as a baseline to see how well our next models generalizes."
   ]
  },
  {
   "cell_type": "code",
   "execution_count": 24,
   "metadata": {},
   "outputs": [],
   "source": [
    "from sklearn.linear_model import LinearRegression, Lasso\n",
    "from sklearn.model_selection import cross_val_score"
   ]
  },
  {
   "cell_type": "markdown",
   "metadata": {},
   "source": [
    "### Multiple Linear Regression"
   ]
  },
  {
   "cell_type": "code",
   "execution_count": 25,
   "metadata": {},
   "outputs": [],
   "source": [
    "lm = LinearRegression()"
   ]
  },
  {
   "cell_type": "code",
   "execution_count": 26,
   "metadata": {},
   "outputs": [
    {
     "data": {
      "text/plain": [
       "LinearRegression(copy_X=True, fit_intercept=True, n_jobs=None, normalize=False)"
      ]
     },
     "execution_count": 26,
     "metadata": {},
     "output_type": "execute_result"
    }
   ],
   "source": [
    "lm.fit(X_train, y_train)"
   ]
  },
  {
   "cell_type": "code",
   "execution_count": 27,
   "metadata": {},
   "outputs": [],
   "source": [
    "from sklearn.model_selection import cross_val_score"
   ]
  },
  {
   "cell_type": "code",
   "execution_count": 28,
   "metadata": {},
   "outputs": [
    {
     "data": {
      "text/plain": [
       "-20.593108528860366"
      ]
     },
     "execution_count": 28,
     "metadata": {},
     "output_type": "execute_result"
    }
   ],
   "source": [
    "np.mean(cross_val_score(lm, X_train, y_train, scoring='neg_mean_absolute_error', cv=3))"
   ]
  },
  {
   "cell_type": "markdown",
   "metadata": {},
   "source": [
    "### Lasso Regression"
   ]
  },
  {
   "cell_type": "code",
   "execution_count": 29,
   "metadata": {},
   "outputs": [],
   "source": [
    "#lm_l = Lasso()\n",
    "lm_l = Lasso(alpha=.13)\n",
    "lm_l.fit(X_train, y_train)"
   ]
  },
  {
   "cell_type": "code",
   "execution_count": 30,
   "metadata": {},
   "outputs": [
    {
     "data": {
      "text/plain": [
       "-22.058112570331602"
      ]
     },
     "execution_count": 30,
     "metadata": {},
     "output_type": "execute_result"
    }
   ],
   "source": [
    "np.mean(cross_val_score(lm_l, X_train, y_train, scoring='neg_mean_absolute_error', cv=3))"
   ]
  },
  {
   "cell_type": "code",
   "execution_count": 31,
   "metadata": {},
   "outputs": [],
   "source": [
    "# Look at different values of alpha to see which one performs the best"
   ]
  },
  {
   "cell_type": "code",
   "execution_count": 32,
   "metadata": {},
   "outputs": [],
   "source": [
    "alpha = []\n",
    "error = []"
   ]
  },
  {
   "cell_type": "code",
   "execution_count": 33,
   "metadata": {},
   "outputs": [
    {
     "data": {
      "text/plain": [
       "[<matplotlib.lines.Line2D at 0x1c6a3b151c8>]"
      ]
     },
     "execution_count": 33,
     "metadata": {},
     "output_type": "execute_result"
    },
    {
     "data": {
      "image/png": "[encoded data removed]",
      "text/plain": [
       "<Figure size 432x288 with 1 Axes>"
      ]
     },
     "metadata": {
      "needs_background": "light"
     },
     "output_type": "display_data"
    }
   ],
   "source": [
    "for i in range(1,100):\n",
    "    alpha.append(i/100)\n",
    "    lml = Lasso(alpha=(i/100))\n",
    "    error.append(np.mean(cross_val_score(lml,X_train,y_train, scoring = 'neg_mean_absolute_error', cv= 3)))\n",
    "    \n",
    "plt.plot(alpha,error)"
   ]
  },
  {
   "cell_type": "code",
   "execution_count": 34,
   "metadata": {},
   "outputs": [],
   "source": [
    "err = tuple(zip(alpha,error))"
   ]
  },
  {
   "cell_type": "code",
   "execution_count": 35,
   "metadata": {},
   "outputs": [
    {
     "data": {
      "text/html": [
       "<div>\n",
       "<style scoped>\n",
       "    .dataframe tbody tr th:only-of-type {\n",
       "        vertical-align: middle;\n",
       "    }\n",
       "\n",
       "    .dataframe tbody tr th {\n",
       "        vertical-align: top;\n",
       "    }\n",
       "\n",
       "    .dataframe thead th {\n",
       "        text-align: right;\n",
       "    }\n",
       "</style>\n",
       "<table border=\"1\" class=\"dataframe\">\n",
       "  <thead>\n",
       "    <tr style=\"text-align: right;\">\n",
       "      <th></th>\n",
       "      <th>alpha</th>\n",
       "      <th>error</th>\n",
       "    </tr>\n",
       "  </thead>\n",
       "  <tbody>\n",
       "    <tr>\n",
       "      <td>12</td>\n",
       "      <td>0.13</td>\n",
       "      <td>-20.121798</td>\n",
       "    </tr>\n",
       "  </tbody>\n",
       "</table>\n",
       "</div>"
      ],
      "text/plain": [
       "    alpha      error\n",
       "12   0.13 -20.121798"
      ]
     },
     "execution_count": 35,
     "metadata": {},
     "output_type": "execute_result"
    }
   ],
   "source": [
    "df_err = pd.DataFrame(err, columns = ['alpha', 'error'])\n",
    "df_err[df_err.error==max(df_err.error)]"
   ]
  },
  {
   "cell_type": "markdown",
   "metadata": {},
   "source": [
    "### Random Forest Classifier"
   ]
  },
  {
   "cell_type": "code",
   "execution_count": 36,
   "metadata": {},
   "outputs": [],
   "source": [
    "from sklearn.ensemble import RandomForestRegressor"
   ]
  },
  {
   "cell_type": "code",
   "execution_count": 37,
   "metadata": {},
   "outputs": [],
   "source": [
    "rf = RandomForestRegressor()"
   ]
  },
  {
   "cell_type": "code",
   "execution_count": 39,
   "metadata": {},
   "outputs": [
    {
     "data": {
      "text/plain": [
       "-15.815553419132101"
      ]
     },
     "execution_count": 39,
     "metadata": {},
     "output_type": "execute_result"
    }
   ],
   "source": [
    "np.mean(cross_val_score(rf, X_train, y_train, scoring = 'neg_mean_absolute_error', cv= 3))"
   ]
  },
  {
   "cell_type": "markdown",
   "metadata": {},
   "source": [
    "### Grid Search for Model Tuning"
   ]
  },
  {
   "cell_type": "code",
   "execution_count": 41,
   "metadata": {},
   "outputs": [],
   "source": [
    "from sklearn.model_selection import GridSearchCV"
   ]
  },
  {
   "cell_type": "code",
   "execution_count": 42,
   "metadata": {},
   "outputs": [],
   "source": [
    "parameters = {'n_estimators':range(10,300,10), 'criterion':('mse','mae'), 'max_features':('auto','sqrt','log2')}"
   ]
  },
  {
   "cell_type": "code",
   "execution_count": 44,
   "metadata": {},
   "outputs": [
    {
     "data": {
      "text/plain": [
       "GridSearchCV(cv=3, error_score=nan,\n",
       "             estimator=RandomForestRegressor(bootstrap=True, ccp_alpha=0.0,\n",
       "                                             criterion='mse', max_depth=None,\n",
       "                                             max_features='auto',\n",
       "                                             max_leaf_nodes=None,\n",
       "                                             max_samples=None,\n",
       "                                             min_impurity_decrease=0.0,\n",
       "                                             min_impurity_split=None,\n",
       "                                             min_samples_leaf=1,\n",
       "                                             min_samples_split=2,\n",
       "                                             min_weight_fraction_leaf=0.0,\n",
       "                                             n_estimators=100, n_jobs=None,\n",
       "                                             oob_score=False, random_state=None,\n",
       "                                             verbose=0, warm_start=False),\n",
       "             iid='deprecated', n_jobs=None,\n",
       "             param_grid={'criterion': ('mse', 'mae'),\n",
       "                         'max_features': ('auto', 'sqrt', 'log2'),\n",
       "                         'n_estimators': range(10, 300, 10)},\n",
       "             pre_dispatch='2*n_jobs', refit=True, return_train_score=False,\n",
       "             scoring='neg_mean_absolute_error', verbose=0)"
      ]
     },
     "execution_count": 44,
     "metadata": {},
     "output_type": "execute_result"
    }
   ],
   "source": [
    "gs = GridSearchCV(rf,parameters,scoring='neg_mean_absolute_error',cv=3)\n",
    "gs.fit(X_train,y_train)"
   ]
  },
  {
   "cell_type": "code",
   "execution_count": 45,
   "metadata": {},
   "outputs": [
    {
     "data": {
      "text/plain": [
       "-15.44770161982044"
      ]
     },
     "execution_count": 45,
     "metadata": {},
     "output_type": "execute_result"
    }
   ],
   "source": [
    "gs.best_score_"
   ]
  },
  {
   "cell_type": "code",
   "execution_count": 46,
   "metadata": {},
   "outputs": [
    {
     "data": {
      "text/plain": [
       "RandomForestRegressor(bootstrap=True, ccp_alpha=0.0, criterion='mae',\n",
       "                      max_depth=None, max_features='auto', max_leaf_nodes=None,\n",
       "                      max_samples=None, min_impurity_decrease=0.0,\n",
       "                      min_impurity_split=None, min_samples_leaf=1,\n",
       "                      min_samples_split=2, min_weight_fraction_leaf=0.0,\n",
       "                      n_estimators=270, n_jobs=None, oob_score=False,\n",
       "                      random_state=None, verbose=0, warm_start=False)"
      ]
     },
     "execution_count": 46,
     "metadata": {},
     "output_type": "execute_result"
    }
   ],
   "source": [
    "gs.best_estimator_"
   ]
  },
  {
   "cell_type": "code",
   "execution_count": null,
   "metadata": {},
   "outputs": [],
   "source": [
    "# Test ensembles \n",
    "\n",
    "tpred_lm = lm.predict(X_test)\n",
    "tpred_lml = lm_l.predict(X_test)\n",
    "tpred_rf = gs.best_estimator_.predict(X_test)"
   ]
  },
  {
   "cell_type": "code",
   "execution_count": null,
   "metadata": {},
   "outputs": [],
   "source": [
    "from sklearn.metrics import mean_absolute_error"
   ]
  },
  {
   "cell_type": "code",
   "execution_count": null,
   "metadata": {},
   "outputs": [],
   "source": [
    "mean_absolute_error(y_test,tpred_lm)\n",
    "mean_absolute_error(y_test,tpred_lml)\n",
    "mean_absolute_error(y_test,tpred_rf)"
   ]
  },
  {
   "cell_type": "code",
   "execution_count": null,
   "metadata": {},
   "outputs": [],
   "source": [
    "mean_absolute_error(y_test,(tpred_lm+tpred_rf)/2)"
   ]
  },
  {
   "cell_type": "markdown",
   "metadata": {},
   "source": [
    "### Saving the Model"
   ]
  },
  {
   "cell_type": "code",
   "execution_count": null,
   "metadata": {},
   "outputs": [],
   "source": []
  },
  {
   "cell_type": "code",
   "execution_count": null,
   "metadata": {},
   "outputs": [],
   "source": []
  }
 ],
 "metadata": {
  "kernelspec": {
   "display_name": "Python 3",
   "language": "python",
   "name": "python3"
  },
  "language_info": {
   "codemirror_mode": {
    "name": "ipython",
    "version": 3
   },
   "file_extension": ".py",
   "mimetype": "text/x-python",
   "name": "python",
   "nbconvert_exporter": "python",
   "pygments_lexer": "ipython3",
   "version": "3.7.4"
  }
 },
 "nbformat": 4,
 "nbformat_minor": 4
}
